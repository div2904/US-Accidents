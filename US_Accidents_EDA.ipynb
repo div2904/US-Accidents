{
  "nbformat": 4,
  "nbformat_minor": 0,
  "metadata": {
    "colab": {
      "name": "US Accidents EDA.ipynb",
      "provenance": [],
      "collapsed_sections": [
        "BD7ZLf2LAIHm"
      ],
      "authorship_tag": "ABX9TyMxM7ZeyN9SHetSQSyLn2zN",
      "include_colab_link": true
    },
    "kernelspec": {
      "name": "python3",
      "display_name": "Python 3"
    },
    "language_info": {
      "name": "python"
    }
  },
  "cells": [
    {
      "cell_type": "markdown",
      "metadata": {
        "id": "view-in-github",
        "colab_type": "text"
      },
      "source": [
        "<a href=\"https://colab.research.google.com/github/div2904/US-Accidents/blob/main/US_Accidents_EDA.ipynb\" target=\"_parent\"><img src=\"https://colab.research.google.com/assets/colab-badge.svg\" alt=\"Open In Colab\"/></a>"
      ]
    },
    {
      "cell_type": "markdown",
      "metadata": {
        "id": "qoEwWLt2N2p4"
      },
      "source": [
        "##**Ask & answer questions**\n",
        "\n",
        "1. Are there more accidents in warmer or colder areas?\n",
        "2. Which 5 states have the highest number of accidents? How about per capita?\n",
        "3. Does New York show up in the data? If yes, why is the count lower if this the most populated city.\n",
        "4. Among the top 100 cities in number of accidents, which states do they belong to most frequently.\n",
        "5. What time of the day are accidents most frequent in?\n",
        "6. Which days of the week have the most accidents?\n",
        "7. Which months have the most accidents?\n",
        "8. What is the trend of accidents year over year (decreasing/increasing?)\n",
        "9. When is accidents per unit of traffic the highest."
      ]
    },
    {
      "cell_type": "code",
      "metadata": {
        "id": "jId71b6Z78GF"
      },
      "source": [
        "pip install opendatasets --upgrade --quiet\n"
      ],
      "execution_count": null,
      "outputs": []
    },
    {
      "cell_type": "code",
      "metadata": {
        "colab": {
          "base_uri": "https://localhost:8080/"
        },
        "id": "P5VJPMDz9UDZ",
        "outputId": "6797dcaa-167d-449f-c5fd-8161f2dc92e9"
      },
      "source": [
        "### METHOD TO DIRECTLY IMPORT DATASETS FROM KAGGLE RATHER THAN DOWNLOADING AND UPLOADING IT AGAIN\n",
        "import opendatasets as od\n",
        "download_url = 'https://www.kaggle.com/sobhanmoosavi/us-accidents'\n",
        "od.download(download_url)"
      ],
      "execution_count": null,
      "outputs": [
        {
          "output_type": "stream",
          "name": "stdout",
          "text": [
            "Skipping, found downloaded files in \"./us-accidents\" (use force=True to force download)\n"
          ]
        }
      ]
    },
    {
      "cell_type": "markdown",
      "metadata": {
        "id": "IykEr86sepP_"
      },
      "source": [
        "API Key can be found by this steps\n",
        "\n",
        "\n",
        "\n",
        "\n",
        "login into kaggle-> account -> api key -> create new api key \n",
        "(a .json file is downloaded, open it and copy the api key) "
      ]
    },
    {
      "cell_type": "code",
      "metadata": {
        "id": "8Br07zZB9qdu"
      },
      "source": [
        "data_filename = '/content/us-accidents/US_Accidents_Dec20_updated.csv'"
      ],
      "execution_count": null,
      "outputs": []
    },
    {
      "cell_type": "markdown",
      "metadata": {
        "id": "BD7ZLf2LAIHm"
      },
      "source": [
        "## **Data Preparation and Cleaning**\n",
        "\n",
        "1. Load the file using Pandas\n",
        "2. Look at some information about the data & the columns\n",
        "3. Fix any missing or incorrect values"
      ]
    },
    {
      "cell_type": "code",
      "metadata": {
        "id": "EWouil4N_cXV"
      },
      "source": [
        "import pandas as pd\n"
      ],
      "execution_count": null,
      "outputs": []
    },
    {
      "cell_type": "code",
      "metadata": {
        "id": "GBnm1pfCAo10",
        "colab": {
          "base_uri": "https://localhost:8080/"
        },
        "outputId": "b3927e94-b64b-4a13-8cd3-649452988fcd"
      },
      "source": [
        "df = pd.read_csv(data_filename)\n",
        "df"
      ],
      "execution_count": null,
      "outputs": [
        {
          "output_type": "execute_result",
          "data": {
            "text/html": [
              "<div>\n",
              "<style scoped>\n",
              "    .dataframe tbody tr th:only-of-type {\n",
              "        vertical-align: middle;\n",
              "    }\n",
              "\n",
              "    .dataframe tbody tr th {\n",
              "        vertical-align: top;\n",
              "    }\n",
              "\n",
              "    .dataframe thead th {\n",
              "        text-align: right;\n",
              "    }\n",
              "</style>\n",
              "<table border=\"1\" class=\"dataframe\">\n",
              "  <thead>\n",
              "    <tr style=\"text-align: right;\">\n",
              "      <th></th>\n",
              "      <th>ID</th>\n",
              "      <th>Severity</th>\n",
              "      <th>Start_Time</th>\n",
              "      <th>End_Time</th>\n",
              "      <th>Start_Lat</th>\n",
              "      <th>Start_Lng</th>\n",
              "      <th>End_Lat</th>\n",
              "      <th>End_Lng</th>\n",
              "      <th>Distance(mi)</th>\n",
              "      <th>Description</th>\n",
              "      <th>Number</th>\n",
              "      <th>Street</th>\n",
              "      <th>Side</th>\n",
              "      <th>City</th>\n",
              "      <th>County</th>\n",
              "      <th>State</th>\n",
              "      <th>Zipcode</th>\n",
              "      <th>Country</th>\n",
              "      <th>Timezone</th>\n",
              "      <th>Airport_Code</th>\n",
              "      <th>Weather_Timestamp</th>\n",
              "      <th>Temperature(F)</th>\n",
              "      <th>Wind_Chill(F)</th>\n",
              "      <th>Humidity(%)</th>\n",
              "      <th>Pressure(in)</th>\n",
              "      <th>Visibility(mi)</th>\n",
              "      <th>Wind_Direction</th>\n",
              "      <th>Wind_Speed(mph)</th>\n",
              "      <th>Precipitation(in)</th>\n",
              "      <th>Weather_Condition</th>\n",
              "      <th>Amenity</th>\n",
              "      <th>Bump</th>\n",
              "      <th>Crossing</th>\n",
              "      <th>Give_Way</th>\n",
              "      <th>Junction</th>\n",
              "      <th>No_Exit</th>\n",
              "      <th>Railway</th>\n",
              "      <th>Roundabout</th>\n",
              "      <th>Station</th>\n",
              "      <th>Stop</th>\n",
              "      <th>Traffic_Calming</th>\n",
              "      <th>Traffic_Signal</th>\n",
              "      <th>Turning_Loop</th>\n",
              "      <th>Sunrise_Sunset</th>\n",
              "      <th>Civil_Twilight</th>\n",
              "      <th>Nautical_Twilight</th>\n",
              "      <th>Astronomical_Twilight</th>\n",
              "    </tr>\n",
              "  </thead>\n",
              "  <tbody>\n",
              "    <tr>\n",
              "      <th>0</th>\n",
              "      <td>A-2716600</td>\n",
              "      <td>3</td>\n",
              "      <td>2016-02-08 00:37:08</td>\n",
              "      <td>2016-02-08 06:37:08</td>\n",
              "      <td>40.10891</td>\n",
              "      <td>-83.09286</td>\n",
              "      <td>40.11206</td>\n",
              "      <td>-83.03187</td>\n",
              "      <td>3.230</td>\n",
              "      <td>Between Sawmill Rd/Exit 20 and OH-315/Olentang...</td>\n",
              "      <td>NaN</td>\n",
              "      <td>Outerbelt E</td>\n",
              "      <td>R</td>\n",
              "      <td>Dublin</td>\n",
              "      <td>Franklin</td>\n",
              "      <td>OH</td>\n",
              "      <td>43017</td>\n",
              "      <td>US</td>\n",
              "      <td>US/Eastern</td>\n",
              "      <td>KOSU</td>\n",
              "      <td>2016-02-08 00:53:00</td>\n",
              "      <td>42.1</td>\n",
              "      <td>36.1</td>\n",
              "      <td>58.0</td>\n",
              "      <td>29.76</td>\n",
              "      <td>10.0</td>\n",
              "      <td>SW</td>\n",
              "      <td>10.4</td>\n",
              "      <td>0.00</td>\n",
              "      <td>Light Rain</td>\n",
              "      <td>False</td>\n",
              "      <td>False</td>\n",
              "      <td>False</td>\n",
              "      <td>False</td>\n",
              "      <td>False</td>\n",
              "      <td>False</td>\n",
              "      <td>False</td>\n",
              "      <td>False</td>\n",
              "      <td>False</td>\n",
              "      <td>False</td>\n",
              "      <td>False</td>\n",
              "      <td>False</td>\n",
              "      <td>False</td>\n",
              "      <td>Night</td>\n",
              "      <td>Night</td>\n",
              "      <td>Night</td>\n",
              "      <td>Night</td>\n",
              "    </tr>\n",
              "    <tr>\n",
              "      <th>1</th>\n",
              "      <td>A-2716601</td>\n",
              "      <td>2</td>\n",
              "      <td>2016-02-08 05:56:20</td>\n",
              "      <td>2016-02-08 11:56:20</td>\n",
              "      <td>39.86542</td>\n",
              "      <td>-84.06280</td>\n",
              "      <td>39.86501</td>\n",
              "      <td>-84.04873</td>\n",
              "      <td>0.747</td>\n",
              "      <td>At OH-4/OH-235/Exit 41 - Accident.</td>\n",
              "      <td>NaN</td>\n",
              "      <td>I-70 E</td>\n",
              "      <td>R</td>\n",
              "      <td>Dayton</td>\n",
              "      <td>Montgomery</td>\n",
              "      <td>OH</td>\n",
              "      <td>45424</td>\n",
              "      <td>US</td>\n",
              "      <td>US/Eastern</td>\n",
              "      <td>KFFO</td>\n",
              "      <td>2016-02-08 05:58:00</td>\n",
              "      <td>36.9</td>\n",
              "      <td>NaN</td>\n",
              "      <td>91.0</td>\n",
              "      <td>29.68</td>\n",
              "      <td>10.0</td>\n",
              "      <td>Calm</td>\n",
              "      <td>NaN</td>\n",
              "      <td>0.02</td>\n",
              "      <td>Light Rain</td>\n",
              "      <td>False</td>\n",
              "      <td>False</td>\n",
              "      <td>False</td>\n",
              "      <td>False</td>\n",
              "      <td>False</td>\n",
              "      <td>False</td>\n",
              "      <td>False</td>\n",
              "      <td>False</td>\n",
              "      <td>False</td>\n",
              "      <td>False</td>\n",
              "      <td>False</td>\n",
              "      <td>False</td>\n",
              "      <td>False</td>\n",
              "      <td>Night</td>\n",
              "      <td>Night</td>\n",
              "      <td>Night</td>\n",
              "      <td>Night</td>\n",
              "    </tr>\n",
              "    <tr>\n",
              "      <th>2</th>\n",
              "      <td>A-2716602</td>\n",
              "      <td>2</td>\n",
              "      <td>2016-02-08 06:15:39</td>\n",
              "      <td>2016-02-08 12:15:39</td>\n",
              "      <td>39.10266</td>\n",
              "      <td>-84.52468</td>\n",
              "      <td>39.10209</td>\n",
              "      <td>-84.52396</td>\n",
              "      <td>0.055</td>\n",
              "      <td>At I-71/US-50/Exit 1 - Accident.</td>\n",
              "      <td>NaN</td>\n",
              "      <td>I-75 S</td>\n",
              "      <td>R</td>\n",
              "      <td>Cincinnati</td>\n",
              "      <td>Hamilton</td>\n",
              "      <td>OH</td>\n",
              "      <td>45203</td>\n",
              "      <td>US</td>\n",
              "      <td>US/Eastern</td>\n",
              "      <td>KLUK</td>\n",
              "      <td>2016-02-08 05:53:00</td>\n",
              "      <td>36.0</td>\n",
              "      <td>NaN</td>\n",
              "      <td>97.0</td>\n",
              "      <td>29.70</td>\n",
              "      <td>10.0</td>\n",
              "      <td>Calm</td>\n",
              "      <td>NaN</td>\n",
              "      <td>0.02</td>\n",
              "      <td>Overcast</td>\n",
              "      <td>False</td>\n",
              "      <td>False</td>\n",
              "      <td>False</td>\n",
              "      <td>False</td>\n",
              "      <td>True</td>\n",
              "      <td>False</td>\n",
              "      <td>False</td>\n",
              "      <td>False</td>\n",
              "      <td>False</td>\n",
              "      <td>False</td>\n",
              "      <td>False</td>\n",
              "      <td>False</td>\n",
              "      <td>False</td>\n",
              "      <td>Night</td>\n",
              "      <td>Night</td>\n",
              "      <td>Night</td>\n",
              "      <td>Day</td>\n",
              "    </tr>\n",
              "    <tr>\n",
              "      <th>3</th>\n",
              "      <td>A-2716603</td>\n",
              "      <td>2</td>\n",
              "      <td>2016-02-08 06:15:39</td>\n",
              "      <td>2016-02-08 12:15:39</td>\n",
              "      <td>39.10148</td>\n",
              "      <td>-84.52341</td>\n",
              "      <td>39.09841</td>\n",
              "      <td>-84.52241</td>\n",
              "      <td>0.219</td>\n",
              "      <td>At I-71/US-50/Exit 1 - Accident.</td>\n",
              "      <td>NaN</td>\n",
              "      <td>US-50 E</td>\n",
              "      <td>R</td>\n",
              "      <td>Cincinnati</td>\n",
              "      <td>Hamilton</td>\n",
              "      <td>OH</td>\n",
              "      <td>45202</td>\n",
              "      <td>US</td>\n",
              "      <td>US/Eastern</td>\n",
              "      <td>KLUK</td>\n",
              "      <td>2016-02-08 05:53:00</td>\n",
              "      <td>36.0</td>\n",
              "      <td>NaN</td>\n",
              "      <td>97.0</td>\n",
              "      <td>29.70</td>\n",
              "      <td>10.0</td>\n",
              "      <td>Calm</td>\n",
              "      <td>NaN</td>\n",
              "      <td>0.02</td>\n",
              "      <td>Overcast</td>\n",
              "      <td>False</td>\n",
              "      <td>False</td>\n",
              "      <td>False</td>\n",
              "      <td>False</td>\n",
              "      <td>True</td>\n",
              "      <td>False</td>\n",
              "      <td>False</td>\n",
              "      <td>False</td>\n",
              "      <td>False</td>\n",
              "      <td>False</td>\n",
              "      <td>False</td>\n",
              "      <td>False</td>\n",
              "      <td>False</td>\n",
              "      <td>Night</td>\n",
              "      <td>Night</td>\n",
              "      <td>Night</td>\n",
              "      <td>Day</td>\n",
              "    </tr>\n",
              "    <tr>\n",
              "      <th>4</th>\n",
              "      <td>A-2716604</td>\n",
              "      <td>2</td>\n",
              "      <td>2016-02-08 06:51:45</td>\n",
              "      <td>2016-02-08 12:51:45</td>\n",
              "      <td>41.06213</td>\n",
              "      <td>-81.53784</td>\n",
              "      <td>41.06217</td>\n",
              "      <td>-81.53547</td>\n",
              "      <td>0.123</td>\n",
              "      <td>At Dart Ave/Exit 21 - Accident.</td>\n",
              "      <td>NaN</td>\n",
              "      <td>I-77 N</td>\n",
              "      <td>R</td>\n",
              "      <td>Akron</td>\n",
              "      <td>Summit</td>\n",
              "      <td>OH</td>\n",
              "      <td>44311</td>\n",
              "      <td>US</td>\n",
              "      <td>US/Eastern</td>\n",
              "      <td>KAKR</td>\n",
              "      <td>2016-02-08 06:54:00</td>\n",
              "      <td>39.0</td>\n",
              "      <td>NaN</td>\n",
              "      <td>55.0</td>\n",
              "      <td>29.65</td>\n",
              "      <td>10.0</td>\n",
              "      <td>Calm</td>\n",
              "      <td>NaN</td>\n",
              "      <td>NaN</td>\n",
              "      <td>Overcast</td>\n",
              "      <td>False</td>\n",
              "      <td>False</td>\n",
              "      <td>False</td>\n",
              "      <td>False</td>\n",
              "      <td>False</td>\n",
              "      <td>False</td>\n",
              "      <td>False</td>\n",
              "      <td>False</td>\n",
              "      <td>False</td>\n",
              "      <td>False</td>\n",
              "      <td>False</td>\n",
              "      <td>False</td>\n",
              "      <td>False</td>\n",
              "      <td>Night</td>\n",
              "      <td>Night</td>\n",
              "      <td>Day</td>\n",
              "      <td>Day</td>\n",
              "    </tr>\n",
              "    <tr>\n",
              "      <th>...</th>\n",
              "      <td>...</td>\n",
              "      <td>...</td>\n",
              "      <td>...</td>\n",
              "      <td>...</td>\n",
              "      <td>...</td>\n",
              "      <td>...</td>\n",
              "      <td>...</td>\n",
              "      <td>...</td>\n",
              "      <td>...</td>\n",
              "      <td>...</td>\n",
              "      <td>...</td>\n",
              "      <td>...</td>\n",
              "      <td>...</td>\n",
              "      <td>...</td>\n",
              "      <td>...</td>\n",
              "      <td>...</td>\n",
              "      <td>...</td>\n",
              "      <td>...</td>\n",
              "      <td>...</td>\n",
              "      <td>...</td>\n",
              "      <td>...</td>\n",
              "      <td>...</td>\n",
              "      <td>...</td>\n",
              "      <td>...</td>\n",
              "      <td>...</td>\n",
              "      <td>...</td>\n",
              "      <td>...</td>\n",
              "      <td>...</td>\n",
              "      <td>...</td>\n",
              "      <td>...</td>\n",
              "      <td>...</td>\n",
              "      <td>...</td>\n",
              "      <td>...</td>\n",
              "      <td>...</td>\n",
              "      <td>...</td>\n",
              "      <td>...</td>\n",
              "      <td>...</td>\n",
              "      <td>...</td>\n",
              "      <td>...</td>\n",
              "      <td>...</td>\n",
              "      <td>...</td>\n",
              "      <td>...</td>\n",
              "      <td>...</td>\n",
              "      <td>...</td>\n",
              "      <td>...</td>\n",
              "      <td>...</td>\n",
              "      <td>...</td>\n",
              "    </tr>\n",
              "    <tr>\n",
              "      <th>1516059</th>\n",
              "      <td>A-4239402</td>\n",
              "      <td>2</td>\n",
              "      <td>2019-08-23 18:03:25</td>\n",
              "      <td>2019-08-23 18:32:01</td>\n",
              "      <td>34.00248</td>\n",
              "      <td>-117.37936</td>\n",
              "      <td>33.99888</td>\n",
              "      <td>-117.37094</td>\n",
              "      <td>0.543</td>\n",
              "      <td>At Market St - Accident.</td>\n",
              "      <td>NaN</td>\n",
              "      <td>Pomona Fwy E</td>\n",
              "      <td>R</td>\n",
              "      <td>Riverside</td>\n",
              "      <td>Riverside</td>\n",
              "      <td>CA</td>\n",
              "      <td>92501</td>\n",
              "      <td>US</td>\n",
              "      <td>US/Pacific</td>\n",
              "      <td>KRAL</td>\n",
              "      <td>2019-08-23 17:53:00</td>\n",
              "      <td>86.0</td>\n",
              "      <td>86.0</td>\n",
              "      <td>40.0</td>\n",
              "      <td>28.92</td>\n",
              "      <td>10.0</td>\n",
              "      <td>W</td>\n",
              "      <td>13.0</td>\n",
              "      <td>0.00</td>\n",
              "      <td>Fair</td>\n",
              "      <td>False</td>\n",
              "      <td>False</td>\n",
              "      <td>False</td>\n",
              "      <td>False</td>\n",
              "      <td>False</td>\n",
              "      <td>False</td>\n",
              "      <td>False</td>\n",
              "      <td>False</td>\n",
              "      <td>False</td>\n",
              "      <td>False</td>\n",
              "      <td>False</td>\n",
              "      <td>False</td>\n",
              "      <td>False</td>\n",
              "      <td>Day</td>\n",
              "      <td>Day</td>\n",
              "      <td>Day</td>\n",
              "      <td>Day</td>\n",
              "    </tr>\n",
              "    <tr>\n",
              "      <th>1516060</th>\n",
              "      <td>A-4239403</td>\n",
              "      <td>2</td>\n",
              "      <td>2019-08-23 19:11:30</td>\n",
              "      <td>2019-08-23 19:38:23</td>\n",
              "      <td>32.76696</td>\n",
              "      <td>-117.14806</td>\n",
              "      <td>32.76555</td>\n",
              "      <td>-117.15363</td>\n",
              "      <td>0.338</td>\n",
              "      <td>At Camino Del Rio/Mission Center Rd - Accident.</td>\n",
              "      <td>NaN</td>\n",
              "      <td>I-8 W</td>\n",
              "      <td>R</td>\n",
              "      <td>San Diego</td>\n",
              "      <td>San Diego</td>\n",
              "      <td>CA</td>\n",
              "      <td>92108</td>\n",
              "      <td>US</td>\n",
              "      <td>US/Pacific</td>\n",
              "      <td>KMYF</td>\n",
              "      <td>2019-08-23 18:53:00</td>\n",
              "      <td>70.0</td>\n",
              "      <td>70.0</td>\n",
              "      <td>73.0</td>\n",
              "      <td>29.39</td>\n",
              "      <td>10.0</td>\n",
              "      <td>SW</td>\n",
              "      <td>6.0</td>\n",
              "      <td>0.00</td>\n",
              "      <td>Fair</td>\n",
              "      <td>False</td>\n",
              "      <td>False</td>\n",
              "      <td>False</td>\n",
              "      <td>False</td>\n",
              "      <td>False</td>\n",
              "      <td>False</td>\n",
              "      <td>False</td>\n",
              "      <td>False</td>\n",
              "      <td>False</td>\n",
              "      <td>False</td>\n",
              "      <td>False</td>\n",
              "      <td>False</td>\n",
              "      <td>False</td>\n",
              "      <td>Day</td>\n",
              "      <td>Day</td>\n",
              "      <td>Day</td>\n",
              "      <td>Day</td>\n",
              "    </tr>\n",
              "    <tr>\n",
              "      <th>1516061</th>\n",
              "      <td>A-4239404</td>\n",
              "      <td>2</td>\n",
              "      <td>2019-08-23 19:00:21</td>\n",
              "      <td>2019-08-23 19:28:49</td>\n",
              "      <td>33.77545</td>\n",
              "      <td>-117.84779</td>\n",
              "      <td>33.77740</td>\n",
              "      <td>-117.85727</td>\n",
              "      <td>0.561</td>\n",
              "      <td>At Glassell St/Grand Ave - Accident. in the ri...</td>\n",
              "      <td>NaN</td>\n",
              "      <td>Garden Grove Fwy</td>\n",
              "      <td>R</td>\n",
              "      <td>Orange</td>\n",
              "      <td>Orange</td>\n",
              "      <td>CA</td>\n",
              "      <td>92866</td>\n",
              "      <td>US</td>\n",
              "      <td>US/Pacific</td>\n",
              "      <td>KSNA</td>\n",
              "      <td>2019-08-23 18:53:00</td>\n",
              "      <td>73.0</td>\n",
              "      <td>73.0</td>\n",
              "      <td>64.0</td>\n",
              "      <td>29.74</td>\n",
              "      <td>10.0</td>\n",
              "      <td>SSW</td>\n",
              "      <td>10.0</td>\n",
              "      <td>0.00</td>\n",
              "      <td>Partly Cloudy</td>\n",
              "      <td>False</td>\n",
              "      <td>False</td>\n",
              "      <td>False</td>\n",
              "      <td>False</td>\n",
              "      <td>True</td>\n",
              "      <td>False</td>\n",
              "      <td>False</td>\n",
              "      <td>False</td>\n",
              "      <td>False</td>\n",
              "      <td>False</td>\n",
              "      <td>False</td>\n",
              "      <td>False</td>\n",
              "      <td>False</td>\n",
              "      <td>Day</td>\n",
              "      <td>Day</td>\n",
              "      <td>Day</td>\n",
              "      <td>Day</td>\n",
              "    </tr>\n",
              "    <tr>\n",
              "      <th>1516062</th>\n",
              "      <td>A-4239405</td>\n",
              "      <td>2</td>\n",
              "      <td>2019-08-23 19:00:21</td>\n",
              "      <td>2019-08-23 19:29:42</td>\n",
              "      <td>33.99246</td>\n",
              "      <td>-118.40302</td>\n",
              "      <td>33.98311</td>\n",
              "      <td>-118.39565</td>\n",
              "      <td>0.772</td>\n",
              "      <td>At CA-90/Marina Fwy/Jefferson Blvd - Accident.</td>\n",
              "      <td>NaN</td>\n",
              "      <td>San Diego Fwy S</td>\n",
              "      <td>R</td>\n",
              "      <td>Culver City</td>\n",
              "      <td>Los Angeles</td>\n",
              "      <td>CA</td>\n",
              "      <td>90230</td>\n",
              "      <td>US</td>\n",
              "      <td>US/Pacific</td>\n",
              "      <td>KSMO</td>\n",
              "      <td>2019-08-23 18:51:00</td>\n",
              "      <td>71.0</td>\n",
              "      <td>71.0</td>\n",
              "      <td>81.0</td>\n",
              "      <td>29.62</td>\n",
              "      <td>10.0</td>\n",
              "      <td>SW</td>\n",
              "      <td>8.0</td>\n",
              "      <td>0.00</td>\n",
              "      <td>Fair</td>\n",
              "      <td>False</td>\n",
              "      <td>False</td>\n",
              "      <td>False</td>\n",
              "      <td>False</td>\n",
              "      <td>False</td>\n",
              "      <td>False</td>\n",
              "      <td>False</td>\n",
              "      <td>False</td>\n",
              "      <td>False</td>\n",
              "      <td>False</td>\n",
              "      <td>False</td>\n",
              "      <td>False</td>\n",
              "      <td>False</td>\n",
              "      <td>Day</td>\n",
              "      <td>Day</td>\n",
              "      <td>Day</td>\n",
              "      <td>Day</td>\n",
              "    </tr>\n",
              "    <tr>\n",
              "      <th>1516063</th>\n",
              "      <td>A-4239406</td>\n",
              "      <td>2</td>\n",
              "      <td>2019-08-23 18:52:06</td>\n",
              "      <td>2019-08-23 19:21:31</td>\n",
              "      <td>34.13393</td>\n",
              "      <td>-117.23092</td>\n",
              "      <td>34.13736</td>\n",
              "      <td>-117.23934</td>\n",
              "      <td>0.537</td>\n",
              "      <td>At Highland Ave/Arden Ave - Accident.</td>\n",
              "      <td>NaN</td>\n",
              "      <td>CA-210 W</td>\n",
              "      <td>R</td>\n",
              "      <td>Highland</td>\n",
              "      <td>San Bernardino</td>\n",
              "      <td>CA</td>\n",
              "      <td>92346</td>\n",
              "      <td>US</td>\n",
              "      <td>US/Pacific</td>\n",
              "      <td>KSBD</td>\n",
              "      <td>2019-08-23 20:50:00</td>\n",
              "      <td>79.0</td>\n",
              "      <td>79.0</td>\n",
              "      <td>47.0</td>\n",
              "      <td>28.63</td>\n",
              "      <td>7.0</td>\n",
              "      <td>SW</td>\n",
              "      <td>7.0</td>\n",
              "      <td>0.00</td>\n",
              "      <td>Fair</td>\n",
              "      <td>False</td>\n",
              "      <td>False</td>\n",
              "      <td>False</td>\n",
              "      <td>False</td>\n",
              "      <td>False</td>\n",
              "      <td>False</td>\n",
              "      <td>False</td>\n",
              "      <td>False</td>\n",
              "      <td>False</td>\n",
              "      <td>False</td>\n",
              "      <td>False</td>\n",
              "      <td>False</td>\n",
              "      <td>False</td>\n",
              "      <td>Day</td>\n",
              "      <td>Day</td>\n",
              "      <td>Day</td>\n",
              "      <td>Day</td>\n",
              "    </tr>\n",
              "  </tbody>\n",
              "</table>\n",
              "<p>1516064 rows × 47 columns</p>\n",
              "</div>"
            ],
            "text/plain": [
              "                ID  Severity  ... Nautical_Twilight Astronomical_Twilight\n",
              "0        A-2716600         3  ...             Night                 Night\n",
              "1        A-2716601         2  ...             Night                 Night\n",
              "2        A-2716602         2  ...             Night                   Day\n",
              "3        A-2716603         2  ...             Night                   Day\n",
              "4        A-2716604         2  ...               Day                   Day\n",
              "...            ...       ...  ...               ...                   ...\n",
              "1516059  A-4239402         2  ...               Day                   Day\n",
              "1516060  A-4239403         2  ...               Day                   Day\n",
              "1516061  A-4239404         2  ...               Day                   Day\n",
              "1516062  A-4239405         2  ...               Day                   Day\n",
              "1516063  A-4239406         2  ...               Day                   Day\n",
              "\n",
              "[1516064 rows x 47 columns]"
            ]
          },
          "metadata": {},
          "execution_count": 8
        }
      ]
    },
    {
      "cell_type": "code",
      "metadata": {
        "colab": {
          "base_uri": "https://localhost:8080/"
        },
        "id": "-R89XJFsAvaT",
        "outputId": "44e9b5fb-439c-46ee-81f7-1e031d8d878f"
      },
      "source": [
        "df.info()"
      ],
      "execution_count": null,
      "outputs": [
        {
          "output_type": "stream",
          "name": "stdout",
          "text": [
            "<class 'pandas.core.frame.DataFrame'>\n",
            "RangeIndex: 1516064 entries, 0 to 1516063\n",
            "Data columns (total 47 columns):\n",
            " #   Column                 Non-Null Count    Dtype  \n",
            "---  ------                 --------------    -----  \n",
            " 0   ID                     1516064 non-null  object \n",
            " 1   Severity               1516064 non-null  int64  \n",
            " 2   Start_Time             1516064 non-null  object \n",
            " 3   End_Time               1516064 non-null  object \n",
            " 4   Start_Lat              1516064 non-null  float64\n",
            " 5   Start_Lng              1516064 non-null  float64\n",
            " 6   End_Lat                1516064 non-null  float64\n",
            " 7   End_Lng                1516064 non-null  float64\n",
            " 8   Distance(mi)           1516064 non-null  float64\n",
            " 9   Description            1516064 non-null  object \n",
            " 10  Number                 469969 non-null   float64\n",
            " 11  Street                 1516064 non-null  object \n",
            " 12  Side                   1516064 non-null  object \n",
            " 13  City                   1515981 non-null  object \n",
            " 14  County                 1516064 non-null  object \n",
            " 15  State                  1516064 non-null  object \n",
            " 16  Zipcode                1515129 non-null  object \n",
            " 17  Country                1516064 non-null  object \n",
            " 18  Timezone               1513762 non-null  object \n",
            " 19  Airport_Code           1511816 non-null  object \n",
            " 20  Weather_Timestamp      1485800 non-null  object \n",
            " 21  Temperature(F)         1473031 non-null  float64\n",
            " 22  Wind_Chill(F)          1066748 non-null  float64\n",
            " 23  Humidity(%)            1470555 non-null  float64\n",
            " 24  Pressure(in)           1479790 non-null  float64\n",
            " 25  Visibility(mi)         1471853 non-null  float64\n",
            " 26  Wind_Direction         1474206 non-null  object \n",
            " 27  Wind_Speed(mph)        1387202 non-null  float64\n",
            " 28  Precipitation(in)      1005515 non-null  float64\n",
            " 29  Weather_Condition      1472057 non-null  object \n",
            " 30  Amenity                1516064 non-null  bool   \n",
            " 31  Bump                   1516064 non-null  bool   \n",
            " 32  Crossing               1516064 non-null  bool   \n",
            " 33  Give_Way               1516064 non-null  bool   \n",
            " 34  Junction               1516064 non-null  bool   \n",
            " 35  No_Exit                1516064 non-null  bool   \n",
            " 36  Railway                1516064 non-null  bool   \n",
            " 37  Roundabout             1516064 non-null  bool   \n",
            " 38  Station                1516064 non-null  bool   \n",
            " 39  Stop                   1516064 non-null  bool   \n",
            " 40  Traffic_Calming        1516064 non-null  bool   \n",
            " 41  Traffic_Signal         1516064 non-null  bool   \n",
            " 42  Turning_Loop           1516064 non-null  bool   \n",
            " 43  Sunrise_Sunset         1515981 non-null  object \n",
            " 44  Civil_Twilight         1515981 non-null  object \n",
            " 45  Nautical_Twilight      1515981 non-null  object \n",
            " 46  Astronomical_Twilight  1515981 non-null  object \n",
            "dtypes: bool(13), float64(13), int64(1), object(20)\n",
            "memory usage: 412.1+ MB\n"
          ]
        }
      ]
    },
    {
      "cell_type": "code",
      "metadata": {
        "colab": {
          "base_uri": "https://localhost:8080/"
        },
        "id": "zeWt8WqTA07g",
        "outputId": "e14d78c6-3ff9-44e4-a477-4ea3c456f7c8"
      },
      "source": [
        "df.describe()"
      ],
      "execution_count": null,
      "outputs": [
        {
          "output_type": "execute_result",
          "data": {
            "text/html": [
              "<div>\n",
              "<style scoped>\n",
              "    .dataframe tbody tr th:only-of-type {\n",
              "        vertical-align: middle;\n",
              "    }\n",
              "\n",
              "    .dataframe tbody tr th {\n",
              "        vertical-align: top;\n",
              "    }\n",
              "\n",
              "    .dataframe thead th {\n",
              "        text-align: right;\n",
              "    }\n",
              "</style>\n",
              "<table border=\"1\" class=\"dataframe\">\n",
              "  <thead>\n",
              "    <tr style=\"text-align: right;\">\n",
              "      <th></th>\n",
              "      <th>Severity</th>\n",
              "      <th>Start_Lat</th>\n",
              "      <th>Start_Lng</th>\n",
              "      <th>End_Lat</th>\n",
              "      <th>End_Lng</th>\n",
              "      <th>Distance(mi)</th>\n",
              "      <th>Number</th>\n",
              "      <th>Temperature(F)</th>\n",
              "      <th>Wind_Chill(F)</th>\n",
              "      <th>Humidity(%)</th>\n",
              "      <th>Pressure(in)</th>\n",
              "      <th>Visibility(mi)</th>\n",
              "      <th>Wind_Speed(mph)</th>\n",
              "      <th>Precipitation(in)</th>\n",
              "    </tr>\n",
              "  </thead>\n",
              "  <tbody>\n",
              "    <tr>\n",
              "      <th>count</th>\n",
              "      <td>1.516064e+06</td>\n",
              "      <td>1.516064e+06</td>\n",
              "      <td>1.516064e+06</td>\n",
              "      <td>1.516064e+06</td>\n",
              "      <td>1.516064e+06</td>\n",
              "      <td>1.516064e+06</td>\n",
              "      <td>4.699690e+05</td>\n",
              "      <td>1.473031e+06</td>\n",
              "      <td>1.066748e+06</td>\n",
              "      <td>1.470555e+06</td>\n",
              "      <td>1.479790e+06</td>\n",
              "      <td>1.471853e+06</td>\n",
              "      <td>1.387202e+06</td>\n",
              "      <td>1.005515e+06</td>\n",
              "    </tr>\n",
              "    <tr>\n",
              "      <th>mean</th>\n",
              "      <td>2.238630e+00</td>\n",
              "      <td>3.690056e+01</td>\n",
              "      <td>-9.859919e+01</td>\n",
              "      <td>3.690061e+01</td>\n",
              "      <td>-9.859901e+01</td>\n",
              "      <td>5.872617e-01</td>\n",
              "      <td>8.907533e+03</td>\n",
              "      <td>5.958460e+01</td>\n",
              "      <td>5.510976e+01</td>\n",
              "      <td>6.465960e+01</td>\n",
              "      <td>2.955495e+01</td>\n",
              "      <td>9.131755e+00</td>\n",
              "      <td>7.630812e+00</td>\n",
              "      <td>8.477855e-03</td>\n",
              "    </tr>\n",
              "    <tr>\n",
              "      <th>std</th>\n",
              "      <td>6.081481e-01</td>\n",
              "      <td>5.165653e+00</td>\n",
              "      <td>1.849602e+01</td>\n",
              "      <td>5.165629e+00</td>\n",
              "      <td>1.849590e+01</td>\n",
              "      <td>1.632659e+00</td>\n",
              "      <td>2.242190e+04</td>\n",
              "      <td>1.827316e+01</td>\n",
              "      <td>2.112735e+01</td>\n",
              "      <td>2.325986e+01</td>\n",
              "      <td>1.016756e+00</td>\n",
              "      <td>2.889112e+00</td>\n",
              "      <td>5.637364e+00</td>\n",
              "      <td>1.293168e-01</td>\n",
              "    </tr>\n",
              "    <tr>\n",
              "      <th>min</th>\n",
              "      <td>1.000000e+00</td>\n",
              "      <td>2.457022e+01</td>\n",
              "      <td>-1.244976e+02</td>\n",
              "      <td>2.457011e+01</td>\n",
              "      <td>-1.244978e+02</td>\n",
              "      <td>0.000000e+00</td>\n",
              "      <td>0.000000e+00</td>\n",
              "      <td>-8.900000e+01</td>\n",
              "      <td>-8.900000e+01</td>\n",
              "      <td>1.000000e+00</td>\n",
              "      <td>0.000000e+00</td>\n",
              "      <td>0.000000e+00</td>\n",
              "      <td>0.000000e+00</td>\n",
              "      <td>0.000000e+00</td>\n",
              "    </tr>\n",
              "    <tr>\n",
              "      <th>25%</th>\n",
              "      <td>2.000000e+00</td>\n",
              "      <td>3.385422e+01</td>\n",
              "      <td>-1.182076e+02</td>\n",
              "      <td>3.385420e+01</td>\n",
              "      <td>-1.182077e+02</td>\n",
              "      <td>0.000000e+00</td>\n",
              "      <td>1.212000e+03</td>\n",
              "      <td>4.700000e+01</td>\n",
              "      <td>4.080000e+01</td>\n",
              "      <td>4.800000e+01</td>\n",
              "      <td>2.944000e+01</td>\n",
              "      <td>1.000000e+01</td>\n",
              "      <td>4.600000e+00</td>\n",
              "      <td>0.000000e+00</td>\n",
              "    </tr>\n",
              "    <tr>\n",
              "      <th>50%</th>\n",
              "      <td>2.000000e+00</td>\n",
              "      <td>3.735113e+01</td>\n",
              "      <td>-9.438100e+01</td>\n",
              "      <td>3.735134e+01</td>\n",
              "      <td>-9.437987e+01</td>\n",
              "      <td>1.780000e-01</td>\n",
              "      <td>4.000000e+03</td>\n",
              "      <td>6.100000e+01</td>\n",
              "      <td>5.700000e+01</td>\n",
              "      <td>6.800000e+01</td>\n",
              "      <td>2.988000e+01</td>\n",
              "      <td>1.000000e+01</td>\n",
              "      <td>7.000000e+00</td>\n",
              "      <td>0.000000e+00</td>\n",
              "    </tr>\n",
              "    <tr>\n",
              "      <th>75%</th>\n",
              "      <td>2.000000e+00</td>\n",
              "      <td>4.072593e+01</td>\n",
              "      <td>-8.087469e+01</td>\n",
              "      <td>4.072593e+01</td>\n",
              "      <td>-8.087449e+01</td>\n",
              "      <td>5.940000e-01</td>\n",
              "      <td>1.010000e+04</td>\n",
              "      <td>7.300000e+01</td>\n",
              "      <td>7.100000e+01</td>\n",
              "      <td>8.400000e+01</td>\n",
              "      <td>3.004000e+01</td>\n",
              "      <td>1.000000e+01</td>\n",
              "      <td>1.040000e+01</td>\n",
              "      <td>0.000000e+00</td>\n",
              "    </tr>\n",
              "    <tr>\n",
              "      <th>max</th>\n",
              "      <td>4.000000e+00</td>\n",
              "      <td>4.900058e+01</td>\n",
              "      <td>-6.711317e+01</td>\n",
              "      <td>4.907500e+01</td>\n",
              "      <td>-6.710924e+01</td>\n",
              "      <td>1.551860e+02</td>\n",
              "      <td>9.999997e+06</td>\n",
              "      <td>1.706000e+02</td>\n",
              "      <td>1.130000e+02</td>\n",
              "      <td>1.000000e+02</td>\n",
              "      <td>5.804000e+01</td>\n",
              "      <td>1.400000e+02</td>\n",
              "      <td>9.840000e+02</td>\n",
              "      <td>2.400000e+01</td>\n",
              "    </tr>\n",
              "  </tbody>\n",
              "</table>\n",
              "</div>"
            ],
            "text/plain": [
              "           Severity     Start_Lat  ...  Wind_Speed(mph)  Precipitation(in)\n",
              "count  1.516064e+06  1.516064e+06  ...     1.387202e+06       1.005515e+06\n",
              "mean   2.238630e+00  3.690056e+01  ...     7.630812e+00       8.477855e-03\n",
              "std    6.081481e-01  5.165653e+00  ...     5.637364e+00       1.293168e-01\n",
              "min    1.000000e+00  2.457022e+01  ...     0.000000e+00       0.000000e+00\n",
              "25%    2.000000e+00  3.385422e+01  ...     4.600000e+00       0.000000e+00\n",
              "50%    2.000000e+00  3.735113e+01  ...     7.000000e+00       0.000000e+00\n",
              "75%    2.000000e+00  4.072593e+01  ...     1.040000e+01       0.000000e+00\n",
              "max    4.000000e+00  4.900058e+01  ...     9.840000e+02       2.400000e+01\n",
              "\n",
              "[8 rows x 14 columns]"
            ]
          },
          "metadata": {},
          "execution_count": 10
        }
      ]
    },
    {
      "cell_type": "code",
      "metadata": {
        "colab": {
          "base_uri": "https://localhost:8080/"
        },
        "id": "oCNaUWveA3Fc",
        "outputId": "5edb7e23-762d-42ed-e1f3-d05de975f64e"
      },
      "source": [
        "df.dtypes"
      ],
      "execution_count": null,
      "outputs": [
        {
          "output_type": "execute_result",
          "data": {
            "text/plain": [
              "ID                        object\n",
              "Severity                   int64\n",
              "Start_Time                object\n",
              "End_Time                  object\n",
              "Start_Lat                float64\n",
              "Start_Lng                float64\n",
              "End_Lat                  float64\n",
              "End_Lng                  float64\n",
              "Distance(mi)             float64\n",
              "Description               object\n",
              "Number                   float64\n",
              "Street                    object\n",
              "Side                      object\n",
              "City                      object\n",
              "County                    object\n",
              "State                     object\n",
              "Zipcode                   object\n",
              "Country                   object\n",
              "Timezone                  object\n",
              "Airport_Code              object\n",
              "Weather_Timestamp         object\n",
              "Temperature(F)           float64\n",
              "Wind_Chill(F)            float64\n",
              "Humidity(%)              float64\n",
              "Pressure(in)             float64\n",
              "Visibility(mi)           float64\n",
              "Wind_Direction            object\n",
              "Wind_Speed(mph)          float64\n",
              "Precipitation(in)        float64\n",
              "Weather_Condition         object\n",
              "Amenity                     bool\n",
              "Bump                        bool\n",
              "Crossing                    bool\n",
              "Give_Way                    bool\n",
              "Junction                    bool\n",
              "No_Exit                     bool\n",
              "Railway                     bool\n",
              "Roundabout                  bool\n",
              "Station                     bool\n",
              "Stop                        bool\n",
              "Traffic_Calming             bool\n",
              "Traffic_Signal              bool\n",
              "Turning_Loop                bool\n",
              "Sunrise_Sunset            object\n",
              "Civil_Twilight            object\n",
              "Nautical_Twilight         object\n",
              "Astronomical_Twilight     object\n",
              "dtype: object"
            ]
          },
          "metadata": {},
          "execution_count": 11
        }
      ]
    },
    {
      "cell_type": "code",
      "metadata": {
        "colab": {
          "base_uri": "https://localhost:8080/"
        },
        "id": "8M9whtp4T3hl",
        "outputId": "b648e3a0-f081-4b9c-e9a7-bc6472e22841"
      },
      "source": [
        "df.columns"
      ],
      "execution_count": null,
      "outputs": [
        {
          "output_type": "execute_result",
          "data": {
            "text/plain": [
              "Index(['ID', 'Severity', 'Start_Time', 'End_Time', 'Start_Lat', 'Start_Lng',\n",
              "       'End_Lat', 'End_Lng', 'Distance(mi)', 'Description', 'Number', 'Street',\n",
              "       'Side', 'City', 'County', 'State', 'Zipcode', 'Country', 'Timezone',\n",
              "       'Airport_Code', 'Weather_Timestamp', 'Temperature(F)', 'Wind_Chill(F)',\n",
              "       'Humidity(%)', 'Pressure(in)', 'Visibility(mi)', 'Wind_Direction',\n",
              "       'Wind_Speed(mph)', 'Precipitation(in)', 'Weather_Condition', 'Amenity',\n",
              "       'Bump', 'Crossing', 'Give_Way', 'Junction', 'No_Exit', 'Railway',\n",
              "       'Roundabout', 'Station', 'Stop', 'Traffic_Calming', 'Traffic_Signal',\n",
              "       'Turning_Loop', 'Sunrise_Sunset', 'Civil_Twilight', 'Nautical_Twilight',\n",
              "       'Astronomical_Twilight'],\n",
              "      dtype='object')"
            ]
          },
          "metadata": {},
          "execution_count": 12
        }
      ]
    },
    {
      "cell_type": "code",
      "metadata": {
        "colab": {
          "base_uri": "https://localhost:8080/"
        },
        "id": "PR-HxWS2CNyZ",
        "outputId": "f91315a6-43ca-4e7d-cefd-4beb0732b046"
      },
      "source": [
        "numerics = ['int16', 'int32', 'int64', 'float16', 'float32', 'float64']\n",
        "\n",
        "numeric_df = df.select_dtypes(include=numerics)\n",
        "numeric_df\n",
        "len(numeric_df.columns)"
      ],
      "execution_count": null,
      "outputs": [
        {
          "output_type": "execute_result",
          "data": {
            "text/plain": [
              "14"
            ]
          },
          "metadata": {},
          "execution_count": 13
        }
      ]
    },
    {
      "cell_type": "code",
      "metadata": {
        "colab": {
          "base_uri": "https://localhost:8080/"
        },
        "id": "nzjVsvMLCVYo",
        "outputId": "dfa7bef4-070c-4dab-aae1-bff181449712"
      },
      "source": [
        "missing_percentages = df.isna().sum().sort_values(ascending = False)/ len(df)\n",
        "missing_percentages"
      ],
      "execution_count": null,
      "outputs": [
        {
          "output_type": "execute_result",
          "data": {
            "text/plain": [
              "Number                   0.690007\n",
              "Precipitation(in)        0.336760\n",
              "Wind_Chill(F)            0.296370\n",
              "Wind_Speed(mph)          0.084998\n",
              "Humidity(%)              0.030018\n",
              "Visibility(mi)           0.029162\n",
              "Weather_Condition        0.029027\n",
              "Temperature(F)           0.028385\n",
              "Wind_Direction           0.027610\n",
              "Pressure(in)             0.023926\n",
              "Weather_Timestamp        0.019962\n",
              "Airport_Code             0.002802\n",
              "Timezone                 0.001518\n",
              "Zipcode                  0.000617\n",
              "City                     0.000055\n",
              "Nautical_Twilight        0.000055\n",
              "Astronomical_Twilight    0.000055\n",
              "Civil_Twilight           0.000055\n",
              "Sunrise_Sunset           0.000055\n",
              "Amenity                  0.000000\n",
              "Bump                     0.000000\n",
              "Severity                 0.000000\n",
              "Start_Time               0.000000\n",
              "End_Time                 0.000000\n",
              "Start_Lat                0.000000\n",
              "Start_Lng                0.000000\n",
              "End_Lat                  0.000000\n",
              "End_Lng                  0.000000\n",
              "Distance(mi)             0.000000\n",
              "Description              0.000000\n",
              "Street                   0.000000\n",
              "Side                     0.000000\n",
              "County                   0.000000\n",
              "State                    0.000000\n",
              "Turning_Loop             0.000000\n",
              "Country                  0.000000\n",
              "Traffic_Signal           0.000000\n",
              "Traffic_Calming          0.000000\n",
              "Stop                     0.000000\n",
              "Station                  0.000000\n",
              "Roundabout               0.000000\n",
              "Railway                  0.000000\n",
              "No_Exit                  0.000000\n",
              "Junction                 0.000000\n",
              "Give_Way                 0.000000\n",
              "Crossing                 0.000000\n",
              "ID                       0.000000\n",
              "dtype: float64"
            ]
          },
          "metadata": {},
          "execution_count": 14
        }
      ]
    },
    {
      "cell_type": "code",
      "metadata": {
        "colab": {
          "base_uri": "https://localhost:8080/"
        },
        "id": "VqFQkOBfCfrv",
        "outputId": "a0598127-922f-4e34-8751-38b697d9a972"
      },
      "source": [
        "missing_percentages[missing_percentages != 0].plot(kind = 'barh')"
      ],
      "execution_count": null,
      "outputs": [
        {
          "output_type": "execute_result",
          "data": {
            "text/plain": [
              "<matplotlib.axes._subplots.AxesSubplot at 0x7fbc85371b90>"
            ]
          },
          "metadata": {},
          "execution_count": 15
        },
        {
          "output_type": "display_data",
          "data": {
            "image/png": "[encoded data removed]",
            "text/plain": [
              "<Figure size 432x288 with 1 Axes>"
            ]
          },
          "metadata": {
            "needs_background": "light"
          }
        }
      ]
    },
    {
      "cell_type": "markdown",
      "metadata": {
        "id": "Z3bFc5WeU8T-"
      },
      "source": [
        "## **Exploratory Analysis and Visualization**\n",
        "\n",
        "Columns we'll analyze:\n",
        "\n",
        "1. City\n",
        "2. State\n",
        "3. Start Time\n",
        "4. Start Lat, Start Lng\n",
        "5. Temperature\n",
        "6. Severity\n",
        "7. Weather Condition\n",
        "\n",
        "\n",
        "\n"
      ]
    },
    {
      "cell_type": "markdown",
      "metadata": {
        "id": "zP8Xd0yMzGSy"
      },
      "source": [
        "###  **City**"
      ]
    },
    {
      "cell_type": "code",
      "metadata": {
        "id": "AtUsYlt8DSGF",
        "colab": {
          "base_uri": "https://localhost:8080/"
        },
        "outputId": "b2c04fed-a81d-4af5-fd4b-9dba2b5991c5"
      },
      "source": [
        "cities = df.City.unique()\n",
        "len(cities)\n",
        "## Total number of cities in USA are 19,502 incorporated places registered in the United States as of July 31, 2019."
      ],
      "execution_count": null,
      "outputs": [
        {
          "output_type": "execute_result",
          "data": {
            "text/plain": [
              "10658"
            ]
          },
          "metadata": {},
          "execution_count": 16
        }
      ]
    },
    {
      "cell_type": "code",
      "metadata": {
        "colab": {
          "base_uri": "https://localhost:8080/"
        },
        "id": "hCy5hi7rVU6j",
        "outputId": "5b670241-d3b2-4d39-b2a1-3f18eb82bf8d"
      },
      "source": [
        "cities_by_accidents = df.City.value_counts()\n",
        "cities_by_accidents"
      ],
      "execution_count": null,
      "outputs": [
        {
          "output_type": "execute_result",
          "data": {
            "text/plain": [
              "Los Angeles      39984\n",
              "Miami            36233\n",
              "Charlotte        22203\n",
              "Houston          20843\n",
              "Dallas           19497\n",
              "                 ...  \n",
              "Kiowa                1\n",
              "Grabill              1\n",
              "Sunset Valley        1\n",
              "Houstonia            1\n",
              "Arab                 1\n",
              "Name: City, Length: 10657, dtype: int64"
            ]
          },
          "metadata": {},
          "execution_count": 17
        }
      ]
    },
    {
      "cell_type": "code",
      "metadata": {
        "colab": {
          "base_uri": "https://localhost:8080/",
          "height": 282
        },
        "id": "6uWy7VYWWfOU",
        "outputId": "b7bb080c-4c9a-4c5f-b4a0-7b541d75a4bf"
      },
      "source": [
        "cities_by_accidents[0:10].plot(kind = 'barh')\n",
        "## top 10 cities with large no. of accidents"
      ],
      "execution_count": null,
      "outputs": [
        {
          "output_type": "execute_result",
          "data": {
            "text/plain": [
              "<matplotlib.axes._subplots.AxesSubplot at 0x7fbc8530ff90>"
            ]
          },
          "metadata": {},
          "execution_count": 18
        },
        {
          "output_type": "display_data",
          "data": {
            "image/png": "[encoded data removed]",
            "text/plain": [
              "<Figure size 432x288 with 1 Axes>"
            ]
          },
          "metadata": {
            "needs_background": "light"
          }
        }
      ]
    },
    {
      "cell_type": "code",
      "metadata": {
        "id": "qUTEcIuAWqyI"
      },
      "source": [
        "import seaborn as sns\n",
        "sns.set_style(\"darkgrid\")"
      ],
      "execution_count": null,
      "outputs": []
    },
    {
      "cell_type": "code",
      "metadata": {
        "colab": {
          "base_uri": "https://localhost:8080/",
          "height": 300
        },
        "id": "GQ0_kbIcXgws",
        "outputId": "4fa4d4e0-eb8d-4bf4-c35e-a1eeb1132699"
      },
      "source": [
        "sns.histplot(cities_by_accidents, log_scale = True)"
      ],
      "execution_count": null,
      "outputs": [
        {
          "output_type": "execute_result",
          "data": {
            "text/plain": [
              "<matplotlib.axes._subplots.AxesSubplot at 0x7fbc76b5bdd0>"
            ]
          },
          "metadata": {},
          "execution_count": 20
        },
        {
          "output_type": "display_data",
          "data": {
            "image/png": "[encoded data removed]",
            "text/plain": [
              "<Figure size 432x288 with 1 Axes>"
            ]
          },
          "metadata": {}
        }
      ]
    },
    {
      "cell_type": "code",
      "metadata": {
        "id": "wy_N7rD0XulH"
      },
      "source": [
        " high_accident_cities = cities_by_accidents[cities_by_accidents >= 1000]\n",
        "low_accident_cities = cities_by_accidents[cities_by_accidents <2]"
      ],
      "execution_count": null,
      "outputs": []
    },
    {
      "cell_type": "code",
      "metadata": {
        "colab": {
          "base_uri": "https://localhost:8080/"
        },
        "id": "MhGxZjByYbwY",
        "outputId": "9584e6a5-2cf9-4dbe-9d63-e554ed52d868"
      },
      "source": [
        "len(high_accident_cities)/len(cities)*100"
      ],
      "execution_count": null,
      "outputs": [
        {
          "output_type": "execute_result",
          "data": {
            "text/plain": [
              "2.3550384687558643"
            ]
          },
          "metadata": {},
          "execution_count": 22
        }
      ]
    },
    {
      "cell_type": "code",
      "metadata": {
        "colab": {
          "base_uri": "https://localhost:8080/",
          "height": 300
        },
        "id": "-PbBCzGVcGHD",
        "outputId": "391209a8-bf67-46d8-b248-eb0985737b09"
      },
      "source": [
        "sns.histplot(high_accident_cities,log_scale = True)"
      ],
      "execution_count": null,
      "outputs": [
        {
          "output_type": "execute_result",
          "data": {
            "text/plain": [
              "<matplotlib.axes._subplots.AxesSubplot at 0x7fbc761bab90>"
            ]
          },
          "metadata": {},
          "execution_count": 23
        },
        {
          "output_type": "display_data",
          "data": {
            "image/png": "[encoded data removed]",
            "text/plain": [
              "<Figure size 432x288 with 1 Axes>"
            ]
          },
          "metadata": {}
        }
      ]
    },
    {
      "cell_type": "markdown",
      "metadata": {
        "id": "CP9bM-r3RYx2"
      },
      "source": [
        "### **States**"
      ]
    },
    {
      "cell_type": "code",
      "metadata": {
        "colab": {
          "base_uri": "https://localhost:8080/"
        },
        "id": "E7DCiKiB3KtY",
        "outputId": "0f4a77f7-620c-4fc5-b455-a1de69f644cc"
      },
      "source": [
        "statewise_accidents = df.State.value_counts()\n",
        "statewise_accidents"
      ],
      "execution_count": null,
      "outputs": [
        {
          "output_type": "execute_result",
          "data": {
            "text/plain": [
              "CA    448833\n",
              "FL    153007\n",
              "OR     87484\n",
              "TX     75142\n",
              "NY     60974\n",
              "MN     52345\n",
              "VA     51198\n",
              "NC     50159\n",
              "PA     42844\n",
              "IL     41709\n",
              "MD     35320\n",
              "UT     33218\n",
              "GA     31111\n",
              "AZ     30185\n",
              "NJ     29850\n",
              "SC     28090\n",
              "MI     27775\n",
              "WA     22999\n",
              "OH     22044\n",
              "TN     21874\n",
              "CO     19809\n",
              "LA     19250\n",
              "MO     16949\n",
              "CT     15194\n",
              "IN     11736\n",
              "AL      9375\n",
              "WI      7919\n",
              "MA      6121\n",
              "KY      5671\n",
              "OK      5592\n",
              "KS      5146\n",
              "IA      4780\n",
              "AR      4373\n",
              "ID      4061\n",
              "NH      3826\n",
              "DC      3788\n",
              "RI      3766\n",
              "NV      3681\n",
              "MT      3306\n",
              "WV      3242\n",
              "MS      2790\n",
              "DE      2331\n",
              "ME      2202\n",
              "NE      2178\n",
              "NM      1467\n",
              "ND       455\n",
              "VT       352\n",
              "WY       330\n",
              "SD       213\n",
              "Name: State, dtype: int64"
            ]
          },
          "metadata": {},
          "execution_count": 24
        }
      ]
    },
    {
      "cell_type": "code",
      "metadata": {
        "id": "sfhES9R8fqPk"
      },
      "source": [
        "import plotly.express as px"
      ],
      "execution_count": null,
      "outputs": []
    },
    {
      "cell_type": "code",
      "metadata": {
        "colab": {
          "base_uri": "https://localhost:8080/",
          "height": 542
        },
        "id": "gO0J3Zfgf9z0",
        "outputId": "8cd82dc9-59b2-442f-c187-894dd6f3e861"
      },
      "source": [
        "states_choropleth=px.choropleth(data_frame=df,locations=statewise_accidents.index,locationmode='USA-states',color=statewise_accidents.array,color_continuous_scale='Aggrnyl',scope='usa',title='Map of USA')\n",
        "states_choropleth.update_layout(paper_bgcolor='#ffffff',showlegend=False, title_x=0.5)\n",
        "states_choropleth.show()"
      ],
      "execution_count": null,
      "outputs": [
        {
          "output_type": "display_data",
          "data": {
            "text/html": [
              "<html>\n",
              "<head><meta charset=\"utf-8\" /></head>\n",
              "<body>\n",
              "    <div>\n",
              "            <script src=\"https://cdnjs.cloudflare.com/ajax/libs/mathjax/2.7.5/MathJax.js?config=TeX-AMS-MML_SVG\"></script><script type=\"text/javascript\">if (window.MathJax) {MathJax.Hub.Config({SVG: {font: \"STIX-Web\"}});}</script>\n",
              "                <script type=\"text/javascript\">window.PlotlyConfig = {MathJaxConfig: 'local'};</script>\n",
              "        <script src=\"https://cdn.plot.ly/plotly-latest.min.js\"></script>    \n",
              "            <div id=\"cdcf7d12-0f56-4d79-89ef-651d57c78603\" class=\"plotly-graph-div\" style=\"height:525px; width:100%;\"></div>\n",
              "            <script type=\"text/javascript\">\n",
              "                \n",
              "                    window.PLOTLYENV=window.PLOTLYENV || {};\n",
              "                    \n",
              "                if (document.getElementById(\"cdcf7d12-0f56-4d79-89ef-651d57c78603\")) {\n",
              "                    Plotly.newPlot(\n",
              "                        'cdcf7d12-0f56-4d79-89ef-651d57c78603',\n",
              "                        [{\"coloraxis\": \"coloraxis\", \"geo\": \"geo\", \"hoverlabel\": {\"namelength\": 0}, \"hovertemplate\": \"locations=%{location}<br>color=%{z}\", \"locationmode\": \"USA-states\", \"locations\": [\"CA\", \"FL\", \"OR\", \"TX\", \"NY\", \"MN\", \"VA\", \"NC\", \"PA\", \"IL\", \"MD\", \"UT\", \"GA\", \"AZ\", \"NJ\", \"SC\", \"MI\", \"WA\", \"OH\", \"TN\", \"CO\", \"LA\", \"MO\", \"CT\", \"IN\", \"AL\", \"WI\", \"MA\", \"KY\", \"OK\", \"KS\", \"IA\", \"AR\", \"ID\", \"NH\", \"DC\", \"RI\", \"NV\", \"MT\", \"WV\", \"MS\", \"DE\", \"ME\", \"NE\", \"NM\", \"ND\", \"VT\", \"WY\", \"SD\"], \"name\": \"\", \"type\": \"choropleth\", \"z\": [448833, 153007, 87484, 75142, 60974, 52345, 51198, 50159, 42844, 41709, 35320, 33218, 31111, 30185, 29850, 28090, 27775, 22999, 22044, 21874, 19809, 19250, 16949, 15194, 11736, 9375, 7919, 6121, 5671, 5592, 5146, 4780, 4373, 4061, 3826, 3788, 3766, 3681, 3306, 3242, 2790, 2331, 2202, 2178, 1467, 455, 352, 330, 213]}],\n",
              "                        {\"coloraxis\": {\"colorbar\": {\"title\": {\"text\": \"color\"}}, \"colorscale\": [[0.0, \"rgb(36, 86, 104)\"], [0.16666666666666666, \"rgb(15, 114, 121)\"], [0.3333333333333333, \"rgb(13, 143, 129)\"], [0.5, \"rgb(57, 171, 126)\"], [0.6666666666666666, \"rgb(110, 197, 116)\"], [0.8333333333333334, \"rgb(169, 220, 103)\"], [1.0, \"rgb(237, 239, 93)\"]]}, \"geo\": {\"center\": {}, \"domain\": {\"x\": [0.0, 1.0], \"y\": [0.0, 1.0]}, \"scope\": \"usa\"}, \"legend\": {\"tracegroupgap\": 0}, \"paper_bgcolor\": \"#ffffff\", \"showlegend\": false, \"template\": {\"data\": {\"bar\": [{\"error_x\": {\"color\": \"#2a3f5f\"}, \"error_y\": {\"color\": \"#2a3f5f\"}, \"marker\": {\"line\": {\"color\": \"#E5ECF6\", \"width\": 0.5}}, \"type\": \"bar\"}], \"barpolar\": [{\"marker\": {\"line\": {\"color\": \"#E5ECF6\", \"width\": 0.5}}, \"type\": \"barpolar\"}], \"carpet\": [{\"aaxis\": {\"endlinecolor\": \"#2a3f5f\", \"gridcolor\": \"white\", \"linecolor\": \"white\", \"minorgridcolor\": \"white\", \"startlinecolor\": \"#2a3f5f\"}, \"baxis\": {\"endlinecolor\": \"#2a3f5f\", \"gridcolor\": \"white\", \"linecolor\": \"white\", \"minorgridcolor\": \"white\", \"startlinecolor\": \"#2a3f5f\"}, \"type\": \"carpet\"}], \"choropleth\": [{\"colorbar\": {\"outlinewidth\": 0, \"ticks\": \"\"}, \"type\": \"choropleth\"}], \"contour\": [{\"colorbar\": {\"outlinewidth\": 0, \"ticks\": \"\"}, \"colorscale\": [[0.0, \"#0d0887\"], [0.1111111111111111, \"#46039f\"], [0.2222222222222222, \"#7201a8\"], [0.3333333333333333, \"#9c179e\"], [0.4444444444444444, \"#bd3786\"], [0.5555555555555556, \"#d8576b\"], [0.6666666666666666, \"#ed7953\"], [0.7777777777777778, \"#fb9f3a\"], [0.8888888888888888, \"#fdca26\"], [1.0, \"#f0f921\"]], \"type\": \"contour\"}], \"contourcarpet\": [{\"colorbar\": {\"outlinewidth\": 0, \"ticks\": \"\"}, \"type\": \"contourcarpet\"}], \"heatmap\": [{\"colorbar\": {\"outlinewidth\": 0, \"ticks\": \"\"}, \"colorscale\": [[0.0, \"#0d0887\"], [0.1111111111111111, \"#46039f\"], [0.2222222222222222, \"#7201a8\"], [0.3333333333333333, \"#9c179e\"], [0.4444444444444444, \"#bd3786\"], [0.5555555555555556, \"#d8576b\"], [0.6666666666666666, \"#ed7953\"], [0.7777777777777778, \"#fb9f3a\"], [0.8888888888888888, \"#fdca26\"], [1.0, \"#f0f921\"]], \"type\": \"heatmap\"}], \"heatmapgl\": [{\"colorbar\": {\"outlinewidth\": 0, \"ticks\": \"\"}, \"colorscale\": [[0.0, \"#0d0887\"], [0.1111111111111111, \"#46039f\"], [0.2222222222222222, \"#7201a8\"], [0.3333333333333333, \"#9c179e\"], [0.4444444444444444, \"#bd3786\"], [0.5555555555555556, \"#d8576b\"], [0.6666666666666666, \"#ed7953\"], [0.7777777777777778, \"#fb9f3a\"], [0.8888888888888888, \"#fdca26\"], [1.0, \"#f0f921\"]], \"type\": \"heatmapgl\"}], \"histogram\": [{\"marker\": {\"colorbar\": {\"outlinewidth\": 0, \"ticks\": \"\"}}, \"type\": \"histogram\"}], \"histogram2d\": [{\"colorbar\": {\"outlinewidth\": 0, \"ticks\": \"\"}, \"colorscale\": [[0.0, \"#0d0887\"], [0.1111111111111111, \"#46039f\"], [0.2222222222222222, \"#7201a8\"], [0.3333333333333333, \"#9c179e\"], [0.4444444444444444, \"#bd3786\"], [0.5555555555555556, \"#d8576b\"], [0.6666666666666666, \"#ed7953\"], [0.7777777777777778, \"#fb9f3a\"], [0.8888888888888888, \"#fdca26\"], [1.0, \"#f0f921\"]], \"type\": \"histogram2d\"}], \"histogram2dcontour\": [{\"colorbar\": {\"outlinewidth\": 0, \"ticks\": \"\"}, \"colorscale\": [[0.0, \"#0d0887\"], [0.1111111111111111, \"#46039f\"], [0.2222222222222222, \"#7201a8\"], [0.3333333333333333, \"#9c179e\"], [0.4444444444444444, \"#bd3786\"], [0.5555555555555556, \"#d8576b\"], [0.6666666666666666, \"#ed7953\"], [0.7777777777777778, \"#fb9f3a\"], [0.8888888888888888, \"#fdca26\"], [1.0, \"#f0f921\"]], \"type\": \"histogram2dcontour\"}], \"mesh3d\": [{\"colorbar\": {\"outlinewidth\": 0, \"ticks\": \"\"}, \"type\": \"mesh3d\"}], \"parcoords\": [{\"line\": {\"colorbar\": {\"outlinewidth\": 0, \"ticks\": \"\"}}, \"type\": \"parcoords\"}], \"pie\": [{\"automargin\": true, \"type\": \"pie\"}], \"scatter\": [{\"marker\": {\"colorbar\": {\"outlinewidth\": 0, \"ticks\": \"\"}}, \"type\": \"scatter\"}], \"scatter3d\": [{\"line\": {\"colorbar\": {\"outlinewidth\": 0, \"ticks\": \"\"}}, \"marker\": {\"colorbar\": {\"outlinewidth\": 0, \"ticks\": \"\"}}, \"type\": \"scatter3d\"}], \"scattercarpet\": [{\"marker\": {\"colorbar\": {\"outlinewidth\": 0, \"ticks\": \"\"}}, \"type\": \"scattercarpet\"}], \"scattergeo\": [{\"marker\": {\"colorbar\": {\"outlinewidth\": 0, \"ticks\": \"\"}}, \"type\": \"scattergeo\"}], \"scattergl\": [{\"marker\": {\"colorbar\": {\"outlinewidth\": 0, \"ticks\": \"\"}}, \"type\": \"scattergl\"}], \"scattermapbox\": [{\"marker\": {\"colorbar\": {\"outlinewidth\": 0, \"ticks\": \"\"}}, \"type\": \"scattermapbox\"}], \"scatterpolar\": [{\"marker\": {\"colorbar\": {\"outlinewidth\": 0, \"ticks\": \"\"}}, \"type\": \"scatterpolar\"}], \"scatterpolargl\": [{\"marker\": {\"colorbar\": {\"outlinewidth\": 0, \"ticks\": \"\"}}, \"type\": \"scatterpolargl\"}], \"scatterternary\": [{\"marker\": {\"colorbar\": {\"outlinewidth\": 0, \"ticks\": \"\"}}, \"type\": \"scatterternary\"}], \"surface\": [{\"colorbar\": {\"outlinewidth\": 0, \"ticks\": \"\"}, \"colorscale\": [[0.0, \"#0d0887\"], [0.1111111111111111, \"#46039f\"], [0.2222222222222222, \"#7201a8\"], [0.3333333333333333, \"#9c179e\"], [0.4444444444444444, \"#bd3786\"], [0.5555555555555556, \"#d8576b\"], [0.6666666666666666, \"#ed7953\"], [0.7777777777777778, \"#fb9f3a\"], [0.8888888888888888, \"#fdca26\"], [1.0, \"#f0f921\"]], \"type\": \"surface\"}], \"table\": [{\"cells\": {\"fill\": {\"color\": \"#EBF0F8\"}, \"line\": {\"color\": \"white\"}}, \"header\": {\"fill\": {\"color\": \"#C8D4E3\"}, \"line\": {\"color\": \"white\"}}, \"type\": \"table\"}]}, \"layout\": {\"annotationdefaults\": {\"arrowcolor\": \"#2a3f5f\", \"arrowhead\": 0, \"arrowwidth\": 1}, \"coloraxis\": {\"colorbar\": {\"outlinewidth\": 0, \"ticks\": \"\"}}, \"colorscale\": {\"diverging\": [[0, \"#8e0152\"], [0.1, \"#c51b7d\"], [0.2, \"#de77ae\"], [0.3, \"#f1b6da\"], [0.4, \"#fde0ef\"], [0.5, \"#f7f7f7\"], [0.6, \"#e6f5d0\"], [0.7, \"#b8e186\"], [0.8, \"#7fbc41\"], [0.9, \"#4d9221\"], [1, \"#276419\"]], \"sequential\": [[0.0, \"#0d0887\"], [0.1111111111111111, \"#46039f\"], [0.2222222222222222, \"#7201a8\"], [0.3333333333333333, \"#9c179e\"], [0.4444444444444444, \"#bd3786\"], [0.5555555555555556, \"#d8576b\"], [0.6666666666666666, \"#ed7953\"], [0.7777777777777778, \"#fb9f3a\"], [0.8888888888888888, \"#fdca26\"], [1.0, \"#f0f921\"]], \"sequentialminus\": [[0.0, \"#0d0887\"], [0.1111111111111111, \"#46039f\"], [0.2222222222222222, \"#7201a8\"], [0.3333333333333333, \"#9c179e\"], [0.4444444444444444, \"#bd3786\"], [0.5555555555555556, \"#d8576b\"], [0.6666666666666666, \"#ed7953\"], [0.7777777777777778, \"#fb9f3a\"], [0.8888888888888888, \"#fdca26\"], [1.0, \"#f0f921\"]]}, \"colorway\": [\"#636efa\", \"#EF553B\", \"#00cc96\", \"#ab63fa\", \"#FFA15A\", \"#19d3f3\", \"#FF6692\", \"#B6E880\", \"#FF97FF\", \"#FECB52\"], \"font\": {\"color\": \"#2a3f5f\"}, \"geo\": {\"bgcolor\": \"white\", \"lakecolor\": \"white\", \"landcolor\": \"#E5ECF6\", \"showlakes\": true, \"showland\": true, \"subunitcolor\": \"white\"}, \"hoverlabel\": {\"align\": \"left\"}, \"hovermode\": \"closest\", \"mapbox\": {\"style\": \"light\"}, \"paper_bgcolor\": \"white\", \"plot_bgcolor\": \"#E5ECF6\", \"polar\": {\"angularaxis\": {\"gridcolor\": \"white\", \"linecolor\": \"white\", \"ticks\": \"\"}, \"bgcolor\": \"#E5ECF6\", \"radialaxis\": {\"gridcolor\": \"white\", \"linecolor\": \"white\", \"ticks\": \"\"}}, \"scene\": {\"xaxis\": {\"backgroundcolor\": \"#E5ECF6\", \"gridcolor\": \"white\", \"gridwidth\": 2, \"linecolor\": \"white\", \"showbackground\": true, \"ticks\": \"\", \"zerolinecolor\": \"white\"}, \"yaxis\": {\"backgroundcolor\": \"#E5ECF6\", \"gridcolor\": \"white\", \"gridwidth\": 2, \"linecolor\": \"white\", \"showbackground\": true, \"ticks\": \"\", \"zerolinecolor\": \"white\"}, \"zaxis\": {\"backgroundcolor\": \"#E5ECF6\", \"gridcolor\": \"white\", \"gridwidth\": 2, \"linecolor\": \"white\", \"showbackground\": true, \"ticks\": \"\", \"zerolinecolor\": \"white\"}}, \"shapedefaults\": {\"line\": {\"color\": \"#2a3f5f\"}}, \"ternary\": {\"aaxis\": {\"gridcolor\": \"white\", \"linecolor\": \"white\", \"ticks\": \"\"}, \"baxis\": {\"gridcolor\": \"white\", \"linecolor\": \"white\", \"ticks\": \"\"}, \"bgcolor\": \"#E5ECF6\", \"caxis\": {\"gridcolor\": \"white\", \"linecolor\": \"white\", \"ticks\": \"\"}}, \"title\": {\"x\": 0.05}, \"xaxis\": {\"automargin\": true, \"gridcolor\": \"white\", \"linecolor\": \"white\", \"ticks\": \"\", \"title\": {\"standoff\": 15}, \"zerolinecolor\": \"white\", \"zerolinewidth\": 2}, \"yaxis\": {\"automargin\": true, \"gridcolor\": \"white\", \"linecolor\": \"white\", \"ticks\": \"\", \"title\": {\"standoff\": 15}, \"zerolinecolor\": \"white\", \"zerolinewidth\": 2}}}, \"title\": {\"text\": \"Map of USA\", \"x\": 0.5}},\n",
              "                        {\"responsive\": true}\n",
              "                    ).then(function(){\n",
              "                            \n",
              "var gd = document.getElementById('cdcf7d12-0f56-4d79-89ef-651d57c78603');\n",
              "var x = new MutationObserver(function (mutations, observer) {{\n",
              "        var display = window.getComputedStyle(gd).display;\n",
              "        if (!display || display === 'none') {{\n",
              "            console.log([gd, 'removed!']);\n",
              "            Plotly.purge(gd);\n",
              "            observer.disconnect();\n",
              "        }}\n",
              "}});\n",
              "\n",
              "// Listen for the removal of the full notebook cells\n",
              "var notebookContainer = gd.closest('#notebook-container');\n",
              "if (notebookContainer) {{\n",
              "    x.observe(notebookContainer, {childList: true});\n",
              "}}\n",
              "\n",
              "// Listen for the clearing of the current output cell\n",
              "var outputEl = gd.closest('.output');\n",
              "if (outputEl) {{\n",
              "    x.observe(outputEl, {childList: true});\n",
              "}}\n",
              "\n",
              "                        })\n",
              "                };\n",
              "                \n",
              "            </script>\n",
              "        </div>\n",
              "</body>\n",
              "</html>"
            ]
          },
          "metadata": {}
        }
      ]
    },
    {
      "cell_type": "markdown",
      "metadata": {
        "id": "l-YPb3XHdlvh"
      },
      "source": [
        "### **Start Time**\n"
      ]
    },
    {
      "cell_type": "code",
      "metadata": {
        "colab": {
          "base_uri": "https://localhost:8080/"
        },
        "id": "JpBmfK6BeKel",
        "outputId": "af4e4890-a371-4030-f2e9-9017346a3f18"
      },
      "source": [
        "df.Start_Time\n"
      ],
      "execution_count": null,
      "outputs": [
        {
          "output_type": "execute_result",
          "data": {
            "text/plain": [
              "0          2016-02-08 00:37:08\n",
              "1          2016-02-08 05:56:20\n",
              "2          2016-02-08 06:15:39\n",
              "3          2016-02-08 06:15:39\n",
              "4          2016-02-08 06:51:45\n",
              "                  ...         \n",
              "1516059    2019-08-23 18:03:25\n",
              "1516060    2019-08-23 19:11:30\n",
              "1516061    2019-08-23 19:00:21\n",
              "1516062    2019-08-23 19:00:21\n",
              "1516063    2019-08-23 18:52:06\n",
              "Name: Start_Time, Length: 1516064, dtype: object"
            ]
          },
          "metadata": {},
          "execution_count": 27
        }
      ]
    },
    {
      "cell_type": "code",
      "metadata": {
        "id": "Tgk3iph3dk0W"
      },
      "source": [
        "df.Start_Time = pd.to_datetime(df.Start_Time)\n"
      ],
      "execution_count": null,
      "outputs": []
    },
    {
      "cell_type": "code",
      "metadata": {
        "colab": {
          "base_uri": "https://localhost:8080/",
          "height": 572
        },
        "id": "w-4-PI_eebgI",
        "outputId": "76ff0a95-4e04-4bd3-9122-543b1bd0e12f"
      },
      "source": [
        "hourly_data = df.Start_Time.dt.hour\n",
        "sns.distplot(df.Start_Time.dt.hour,bins = 24, kde = False, norm_hist = True)\n",
        "hourly_data"
      ],
      "execution_count": null,
      "outputs": [
        {
          "output_type": "stream",
          "name": "stderr",
          "text": [
            "/usr/local/lib/python3.7/dist-packages/seaborn/distributions.py:2619: FutureWarning:\n",
            "\n",
            "`distplot` is a deprecated function and will be removed in a future version. Please adapt your code to use either `displot` (a figure-level function with similar flexibility) or `histplot` (an axes-level function for histograms).\n",
            "\n"
          ]
        },
        {
          "output_type": "execute_result",
          "data": {
            "text/plain": [
              "0           0\n",
              "1           5\n",
              "2           6\n",
              "3           6\n",
              "4           6\n",
              "           ..\n",
              "1516059    18\n",
              "1516060    19\n",
              "1516061    19\n",
              "1516062    19\n",
              "1516063    18\n",
              "Name: Start_Time, Length: 1516064, dtype: int64"
            ]
          },
          "metadata": {},
          "execution_count": 50
        },
        {
          "output_type": "display_data",
          "data": {
            "image/png": "[encoded data removed]",
            "text/plain": [
              "<Figure size 432x288 with 1 Axes>"
            ]
          },
          "metadata": {
            "needs_background": "light"
          }
        }
      ]
    },
    {
      "cell_type": "code",
      "metadata": {
        "colab": {
          "base_uri": "https://localhost:8080/",
          "height": 385
        },
        "id": "QRL2gJFJex2G",
        "outputId": "b3ed9b44-e6f9-478e-d98b-41cfe8b7a87f"
      },
      "source": [
        "sns.distplot(df.Start_Time.dt.dayofweek,bins = 7, kde = False, norm_hist = True)"
      ],
      "execution_count": null,
      "outputs": [
        {
          "output_type": "stream",
          "name": "stderr",
          "text": [
            "/usr/local/lib/python3.7/dist-packages/seaborn/distributions.py:2619: FutureWarning:\n",
            "\n",
            "`distplot` is a deprecated function and will be removed in a future version. Please adapt your code to use either `displot` (a figure-level function with similar flexibility) or `histplot` (an axes-level function for histograms).\n",
            "\n"
          ]
        },
        {
          "output_type": "execute_result",
          "data": {
            "text/plain": [
              "<matplotlib.axes._subplots.AxesSubplot at 0x7fbc76117890>"
            ]
          },
          "metadata": {},
          "execution_count": 30
        },
        {
          "output_type": "display_data",
          "data": {
            "image/png": "[encoded data removed]",
            "text/plain": [
              "<Figure size 432x288 with 1 Axes>"
            ]
          },
          "metadata": {}
        }
      ]
    },
    {
      "cell_type": "code",
      "metadata": {
        "colab": {
          "base_uri": "https://localhost:8080/",
          "height": 385
        },
        "id": "P9Gp9H31ZIkQ",
        "outputId": "ff2b729f-c59d-4430-d058-bb9910c0576f"
      },
      "source": [
        "sns.distplot(df.Start_Time.dt.year, kde = False)"
      ],
      "execution_count": null,
      "outputs": [
        {
          "output_type": "stream",
          "name": "stderr",
          "text": [
            "/usr/local/lib/python3.7/dist-packages/seaborn/distributions.py:2619: FutureWarning:\n",
            "\n",
            "`distplot` is a deprecated function and will be removed in a future version. Please adapt your code to use either `displot` (a figure-level function with similar flexibility) or `histplot` (an axes-level function for histograms).\n",
            "\n"
          ]
        },
        {
          "output_type": "execute_result",
          "data": {
            "text/plain": [
              "<matplotlib.axes._subplots.AxesSubplot at 0x7fbc735f8110>"
            ]
          },
          "metadata": {},
          "execution_count": 31
        },
        {
          "output_type": "display_data",
          "data": {
            "image/png": "[encoded data removed]",
            "text/plain": [
              "<Figure size 432x288 with 1 Axes>"
            ]
          },
          "metadata": {}
        }
      ]
    },
    {
      "cell_type": "code",
      "metadata": {
        "colab": {
          "base_uri": "https://localhost:8080/",
          "height": 385
        },
        "id": "OqKwrIQleyJ1",
        "outputId": "85fc0df1-f74f-41bf-d972-4371988f5055"
      },
      "source": [
        "sundays_start_time = df.Start_Time[df.Start_Time.dt.dayofweek == 6] \n",
        "sns.distplot(sundays_start_time.dt.hour,bins=24,kde = False, norm_hist = True)"
      ],
      "execution_count": null,
      "outputs": [
        {
          "output_type": "stream",
          "name": "stderr",
          "text": [
            "/usr/local/lib/python3.7/dist-packages/seaborn/distributions.py:2619: FutureWarning:\n",
            "\n",
            "`distplot` is a deprecated function and will be removed in a future version. Please adapt your code to use either `displot` (a figure-level function with similar flexibility) or `histplot` (an axes-level function for histograms).\n",
            "\n"
          ]
        },
        {
          "output_type": "execute_result",
          "data": {
            "text/plain": [
              "<matplotlib.axes._subplots.AxesSubplot at 0x7fbc735f8f50>"
            ]
          },
          "metadata": {},
          "execution_count": 32
        },
        {
          "output_type": "display_data",
          "data": {
            "image/png": "[encoded data removed]",
            "text/plain": [
              "<Figure size 432x288 with 1 Axes>"
            ]
          },
          "metadata": {}
        }
      ]
    },
    {
      "cell_type": "code",
      "metadata": {
        "colab": {
          "base_uri": "https://localhost:8080/",
          "height": 385
        },
        "id": "ql8qJQIUeyoo",
        "outputId": "18f31d23-a9d9-4b4a-d4da-5ab8380391cd"
      },
      "source": [
        "df_2018 = df[df.Start_Time.dt.year == 2018]\n",
        "sns.distplot(df_2018.Start_Time.dt.month,bins = 12, kde = False, norm_hist = True)"
      ],
      "execution_count": null,
      "outputs": [
        {
          "output_type": "stream",
          "name": "stderr",
          "text": [
            "/usr/local/lib/python3.7/dist-packages/seaborn/distributions.py:2619: FutureWarning:\n",
            "\n",
            "`distplot` is a deprecated function and will be removed in a future version. Please adapt your code to use either `displot` (a figure-level function with similar flexibility) or `histplot` (an axes-level function for histograms).\n",
            "\n"
          ]
        },
        {
          "output_type": "execute_result",
          "data": {
            "text/plain": [
              "<matplotlib.axes._subplots.AxesSubplot at 0x7fbc73486d10>"
            ]
          },
          "metadata": {},
          "execution_count": 33
        },
        {
          "output_type": "display_data",
          "data": {
            "image/png": "[encoded data removed]",
            "text/plain": [
              "<Figure size 432x288 with 1 Axes>"
            ]
          },
          "metadata": {}
        }
      ]
    },
    {
      "cell_type": "markdown",
      "metadata": {
        "id": "V8pXS8VZtP_d"
      },
      "source": [
        "### **Start Latitude & Start Longitude**"
      ]
    },
    {
      "cell_type": "code",
      "metadata": {
        "colab": {
          "base_uri": "https://localhost:8080/"
        },
        "id": "SEqTxto7juZS",
        "outputId": "5fecb0fc-265d-4db1-e992-bd6057a32fb3"
      },
      "source": [
        "df.Start_Lat"
      ],
      "execution_count": null,
      "outputs": [
        {
          "output_type": "execute_result",
          "data": {
            "text/plain": [
              "0          40.10891\n",
              "1          39.86542\n",
              "2          39.10266\n",
              "3          39.10148\n",
              "4          41.06213\n",
              "             ...   \n",
              "1516059    34.00248\n",
              "1516060    32.76696\n",
              "1516061    33.77545\n",
              "1516062    33.99246\n",
              "1516063    34.13393\n",
              "Name: Start_Lat, Length: 1516064, dtype: float64"
            ]
          },
          "metadata": {},
          "execution_count": 34
        }
      ]
    },
    {
      "cell_type": "code",
      "metadata": {
        "colab": {
          "base_uri": "https://localhost:8080/"
        },
        "id": "v_rLrsRDtiOz",
        "outputId": "b8247daa-2fe3-481b-c025-20a1a0ba7c68"
      },
      "source": [
        "df.Start_Lng"
      ],
      "execution_count": null,
      "outputs": [
        {
          "output_type": "execute_result",
          "data": {
            "text/plain": [
              "0          -83.09286\n",
              "1          -84.06280\n",
              "2          -84.52468\n",
              "3          -84.52341\n",
              "4          -81.53784\n",
              "             ...    \n",
              "1516059   -117.37936\n",
              "1516060   -117.14806\n",
              "1516061   -117.84779\n",
              "1516062   -118.40302\n",
              "1516063   -117.23092\n",
              "Name: Start_Lng, Length: 1516064, dtype: float64"
            ]
          },
          "metadata": {},
          "execution_count": 35
        }
      ]
    },
    {
      "cell_type": "code",
      "metadata": {
        "colab": {
          "base_uri": "https://localhost:8080/",
          "height": 299
        },
        "id": "2GqozHnstiG2",
        "outputId": "aae64efa-2f79-45f9-d174-e7fd0d46257c"
      },
      "source": [
        "df_sample = df.sample(int(0.1* len(df)))\n",
        "sns.scatterplot(x=df_sample.Start_Lng,y=df_sample.Start_Lat,size= 0.001)"
      ],
      "execution_count": null,
      "outputs": [
        {
          "output_type": "execute_result",
          "data": {
            "text/plain": [
              "<matplotlib.axes._subplots.AxesSubplot at 0x7fbc733eaf10>"
            ]
          },
          "metadata": {},
          "execution_count": 36
        },
        {
          "output_type": "display_data",
          "data": {
            "image/png": "[encoded data removed]",
            "text/plain": [
              "<Figure size 432x288 with 1 Axes>"
            ]
          },
          "metadata": {}
        }
      ]
    },
    {
      "cell_type": "code",
      "metadata": {
        "id": "jMqJs5motiDm"
      },
      "source": [
        "import folium"
      ],
      "execution_count": null,
      "outputs": []
    },
    {
      "cell_type": "code",
      "metadata": {
        "colab": {
          "base_uri": "https://localhost:8080/"
        },
        "id": "OJGpWpDAxRYp",
        "outputId": "c97d5f34-0f0c-4ebe-eb80-8281a5ece6b0"
      },
      "source": [
        "for x in df[['Start_Lat', 'Start_Lng']].sample(100).iteritems():\n",
        "    print(x[1])"
      ],
      "execution_count": null,
      "outputs": [
        {
          "output_type": "stream",
          "name": "stdout",
          "text": [
            "604998     38.130082\n",
            "310567     39.302638\n",
            "753428     30.026290\n",
            "361941     39.646418\n",
            "912970     34.144880\n",
            "             ...    \n",
            "1182172    44.976090\n",
            "747569     30.167140\n",
            "1121456    32.763567\n",
            "425059     39.505730\n",
            "922729     35.277290\n",
            "Name: Start_Lat, Length: 100, dtype: float64\n",
            "604998    -121.589554\n",
            "310567     -76.952905\n",
            "753428     -90.009330\n",
            "361941    -105.179803\n",
            "912970    -118.215300\n",
            "              ...    \n",
            "1182172    -93.286650\n",
            "747569     -97.790950\n",
            "1121456   -117.160850\n",
            "425059     -77.585054\n",
            "922729     -80.766250\n",
            "Name: Start_Lng, Length: 100, dtype: float64\n"
          ]
        }
      ]
    },
    {
      "cell_type": "code",
      "metadata": {
        "colab": {
          "base_uri": "https://localhost:8080/"
        },
        "id": "QCDX-y16x1kK",
        "outputId": "270d9e60-fa92-4cc5-c70b-13f6c7bf455f"
      },
      "source": [
        "zip(list(df.Start_Lat), list(df.Start_Lng))"
      ],
      "execution_count": null,
      "outputs": [
        {
          "output_type": "execute_result",
          "data": {
            "text/plain": [
              "<zip at 0x7fbc93715e60>"
            ]
          },
          "metadata": {},
          "execution_count": 39
        }
      ]
    },
    {
      "cell_type": "code",
      "metadata": {
        "id": "_Zl8dXjCx4OZ"
      },
      "source": [
        "from folium.plugins import HeatMap"
      ],
      "execution_count": null,
      "outputs": []
    },
    {
      "cell_type": "code",
      "metadata": {
        "id": "LxBN-6D3x87o"
      },
      "source": [
        "sample_df = df.sample(int(0.001 * len(df)))\n",
        "lat_lon_pairs = list(zip(list(sample_df.Start_Lat), list(sample_df.Start_Lng)))"
      ],
      "execution_count": null,
      "outputs": []
    },
    {
      "cell_type": "code",
      "metadata": {
        "colab": {
          "base_uri": "https://localhost:8080/",
          "height": 583
        },
        "id": "99uL4TPRth73",
        "outputId": "e45542b5-4a73-47ff-b72c-18583ed723be"
      },
      "source": [
        "map = folium.Map()\n",
        "HeatMap(lat_lon_pairs).add_to(map)\n",
        "map"
      ],
      "execution_count": null,
      "outputs": [
        {
          "output_type": "execute_result",
          "data": {
            "text/html": [
              "<div style=\"width:100%;\"><div style=\"position:relative;width:100%;height:0;padding-bottom:60%;\"><span style=\"color:#565656\">Make this Notebook Trusted to load map: File -> Trust Notebook</span><iframe src=\"about:blank\" style=\"position:absolute;width:100%;height:100%;left:0;top:0;border:none !important;\" data-html=%3C%21DOCTYPE%20html%3E%0A%3Chead%3E%20%20%20%20%0A%20%20%20%20%3Cmeta%20http-equiv%3D%22content-type%22%20content%3D%22text/html%3B%20charset%3DUTF-8%22%20/%3E%0A%20%20%20%20%3Cscript%3EL_PREFER_CANVAS%3Dfalse%3B%20L_NO_TOUCH%3Dfalse%3B%20L_DISABLE_3D%3Dfalse%3B%3C/script%3E%0A%20%20%20%20%3Cscript%20src%3D%22https%3A//cdn.jsdelivr.net/npm/leaflet%401.4.0/dist/leaflet.js%22%3E%3C/script%3E%0A%20%20%20%20%3Cscript%20src%3D%22https%3A//code.jquery.com/jquery-1.12.4.min.js%22%3E%3C/script%3E%0A%20%20%20%20%3Cscript%20src%3D%22https%3A//maxcdn.bootstrapcdn.com/bootstrap/3.2.0/js/bootstrap.min.js%22%3E%3C/script%3E%0A%20%20%20%20%3Cscript%20src%3D%22https%3A//cdnjs.cloudflare.com/ajax/libs/Leaflet.awesome-markers/2.0.2/leaflet.awesome-markers.js%22%3E%3C/script%3E%0A%20%20%20%20%3Clink%20rel%3D%22stylesheet%22%20href%3D%22https%3A//cdn.jsdelivr.net/npm/leaflet%401.4.0/dist/leaflet.css%22/%3E%0A%20%20%20%20%3Clink%20rel%3D%22stylesheet%22%20href%3D%22https%3A//maxcdn.bootstrapcdn.com/bootstrap/3.2.0/css/bootstrap.min.css%22/%3E%0A%20%20%20%20%3Clink%20rel%3D%22stylesheet%22%20href%3D%22https%3A//maxcdn.bootstrapcdn.com/bootstrap/3.2.0/css/bootstrap-theme.min.css%22/%3E%0A%20%20%20%20%3Clink%20rel%3D%22stylesheet%22%20href%3D%22https%3A//maxcdn.bootstrapcdn.com/font-awesome/4.6.3/css/font-awesome.min.css%22/%3E%0A%20%20%20%20%3Clink%20rel%3D%22stylesheet%22%20href%3D%22https%3A//cdnjs.cloudflare.com/ajax/libs/Leaflet.awesome-markers/2.0.2/leaflet.awesome-markers.css%22/%3E%0A%20%20%20%20%3Clink%20rel%3D%22stylesheet%22%20href%3D%22https%3A//rawcdn.githack.com/python-visualization/folium/master/folium/templates/leaflet.awesome.rotate.css%22/%3E%0A%20%20%20%20%3Cstyle%3Ehtml%2C%20body%20%7Bwidth%3A%20100%25%3Bheight%3A%20100%25%3Bmargin%3A%200%3Bpadding%3A%200%3B%7D%3C/style%3E%0A%20%20%20%20%3Cstyle%3E%23map%20%7Bposition%3Aabsolute%3Btop%3A0%3Bbottom%3A0%3Bright%3A0%3Bleft%3A0%3B%7D%3C/style%3E%0A%20%20%20%20%0A%20%20%20%20%3Cmeta%20name%3D%22viewport%22%20content%3D%22width%3Ddevice-width%2C%0A%20%20%20%20%20%20%20%20initial-scale%3D1.0%2C%20maximum-scale%3D1.0%2C%20user-scalable%3Dno%22%20/%3E%0A%20%20%20%20%3Cstyle%3E%23map_ecad8b10410b41d5abe5f1c2f6d59654%20%7B%0A%20%20%20%20%20%20%20%20position%3A%20relative%3B%0A%20%20%20%20%20%20%20%20width%3A%20100.0%25%3B%0A%20%20%20%20%20%20%20%20height%3A%20100.0%25%3B%0A%20%20%20%20%20%20%20%20left%3A%200.0%25%3B%0A%20%20%20%20%20%20%20%20top%3A%200.0%25%3B%0A%20%20%20%20%20%20%20%20%7D%0A%20%20%20%20%3C/style%3E%0A%20%20%20%20%3Cscript%20src%3D%22https%3A//leaflet.github.io/Leaflet.heat/dist/leaflet-heat.js%22%3E%3C/script%3E%0A%3C/head%3E%0A%3Cbody%3E%20%20%20%20%0A%20%20%20%20%0A%20%20%20%20%3Cdiv%20class%3D%22folium-map%22%20id%3D%22map_ecad8b10410b41d5abe5f1c2f6d59654%22%20%3E%3C/div%3E%0A%3C/body%3E%0A%3Cscript%3E%20%20%20%20%0A%20%20%20%20%0A%20%20%20%20%0A%20%20%20%20%20%20%20%20var%20bounds%20%3D%20null%3B%0A%20%20%20%20%0A%0A%20%20%20%20var%20map_ecad8b10410b41d5abe5f1c2f6d59654%20%3D%20L.map%28%0A%20%20%20%20%20%20%20%20%27map_ecad8b10410b41d5abe5f1c2f6d59654%27%2C%20%7B%0A%20%20%20%20%20%20%20%20center%3A%20%5B0%2C%200%5D%2C%0A%20%20%20%20%20%20%20%20zoom%3A%201%2C%0A%20%20%20%20%20%20%20%20maxBounds%3A%20bounds%2C%0A%20%20%20%20%20%20%20%20layers%3A%20%5B%5D%2C%0A%20%20%20%20%20%20%20%20worldCopyJump%3A%20false%2C%0A%20%20%20%20%20%20%20%20crs%3A%20L.CRS.EPSG3857%2C%0A%20%20%20%20%20%20%20%20zoomControl%3A%20true%2C%0A%20%20%20%20%20%20%20%20%7D%29%3B%0A%0A%0A%20%20%20%20%0A%20%20%20%20var%20tile_layer_fb5cd00e402849fcb4edd6ee4b7028f8%20%3D%20L.tileLayer%28%0A%20%20%20%20%20%20%20%20%27https%3A//%7Bs%7D.tile.openstreetmap.org/%7Bz%7D/%7Bx%7D/%7By%7D.png%27%2C%0A%20%20%20%20%20%20%20%20%7B%0A%20%20%20%20%20%20%20%20%22attribution%22%3A%20null%2C%0A%20%20%20%20%20%20%20%20%22detectRetina%22%3A%20false%2C%0A%20%20%20%20%20%20%20%20%22maxNativeZoom%22%3A%2018%2C%0A%20%20%20%20%20%20%20%20%22maxZoom%22%3A%2018%2C%0A%20%20%20%20%20%20%20%20%22minZoom%22%3A%200%2C%0A%20%20%20%20%20%20%20%20%22noWrap%22%3A%20false%2C%0A%20%20%20%20%20%20%20%20%22opacity%22%3A%201%2C%0A%20%20%20%20%20%20%20%20%22subdomains%22%3A%20%22abc%22%2C%0A%20%20%20%20%20%20%20%20%22tms%22%3A%20false%0A%7D%29.addTo%28map_ecad8b10410b41d5abe5f1c2f6d59654%29%3B%0A%20%20%20%20%0A%20%20%20%20%20%20%20%20%20%20%20%20var%20heat_map_f164b274c6f7421b8cbc02562219705d%20%3D%20L.heatLayer%28%0A%20%20%20%20%20%20%20%20%20%20%20%20%20%20%20%20%5B%5B42.45282%2C%20-82.91986999999999%5D%2C%20%5B33.69891%2C%20-84.26978000000001%5D%2C%20%5B35.269014%2C%20-119.226353%5D%2C%20%5B38.641220000000004%2C%20-121.47345%5D%2C%20%5B40.275481%2C%20-76.81744599999999%5D%2C%20%5B45.046788%2C%20-93.037487%5D%2C%20%5B37.720009999999995%2C%20-121.65891%5D%2C%20%5B38.381681%2C%20-121.95318700000001%5D%2C%20%5B37.334223%2C%20-122.03763000000001%5D%2C%20%5B33.9136%2C%20-84.20464%5D%2C%20%5B44.05942%2C%20-93.24268000000001%5D%2C%20%5B28.687640000000002%2C%20-81.38861%5D%2C%20%5B45.560520000000004%2C%20-123.906827%5D%2C%20%5B38.383469%2C%20-122.557497%5D%2C%20%5B47.978382%2C%20-122.141667%5D%2C%20%5B35.06712%2C%20-80.99045%5D%2C%20%5B44.2023%2C%20-92.43089%5D%2C%20%5B38.64448%2C%20-77.28673%5D%2C%20%5B34.10686%2C%20-118.25006%5D%2C%20%5B36.796369%2C%20-121.723673%5D%2C%20%5B37.700790000000005%2C%20-121.80915%5D%2C%20%5B34.2745%2C%20-118.596071%5D%2C%20%5B32.92365%2C%20-96.7588%5D%2C%20%5B39.96144%2C%20-74.20636999999999%5D%2C%20%5B40.753322%2C%20-74.211026%5D%2C%20%5B41.06284%2C%20-81.49773%5D%2C%20%5B45.05936%2C%20-123.55255%5D%2C%20%5B44.580771999999996%2C%20-92.654308%5D%2C%20%5B33.63531%2C%20-84.45725999999999%5D%2C%20%5B38.41553%2C%20-81.79826%5D%2C%20%5B34.057044%2C%20-118.214146%5D%2C%20%5B33.881547999999995%2C%20-117.580431%5D%2C%20%5B35.814582%2C%20-78.60532099999999%5D%2C%20%5B39.09875%2C%20-76.62821%5D%2C%20%5B28.625553999999998%2C%20-81.448706%5D%2C%20%5B47.61765%2C%20-122.18916999999999%5D%2C%20%5B45.83736%2C%20-119.70698%5D%2C%20%5B45.20089%2C%20-123.13968999999999%5D%2C%20%5B38.385090000000005%2C%20-75.31233%5D%2C%20%5B32.8525%2C%20-117.11523999999999%5D%2C%20%5B37.99965%2C%20-122.07621999999999%5D%2C%20%5B25.899987%2C%20-80.161937%5D%2C%20%5B32.77993%2C%20-117.09686599999999%5D%2C%20%5B34.02535%2C%20-117.33431000000002%5D%2C%20%5B45.444935%2C%20-122.78020900000001%5D%2C%20%5B40.65945%2C%20-76.39528%5D%2C%20%5B33.78719%2C%20-117.83113%5D%2C%20%5B32.682719%2C%20-117.109601%5D%2C%20%5B33.52082%2C%20-80.88217%5D%2C%20%5B39.141453999999996%2C%20-84.016543%5D%2C%20%5B38.092678%2C%20-122.234326%5D%2C%20%5B44.94918%2C%20-95.68725%5D%2C%20%5B36.262898%2C%20-80.146467%5D%2C%20%5B37.714728%2C%20-121.710007%5D%2C%20%5B41.10147%2C%20-80.67483%5D%2C%20%5B42.38701%2C%20-122.385282%5D%2C%20%5B33.722213%2C%20-117.974756%5D%2C%20%5B28.635614%2C%20-81.41512900000001%5D%2C%20%5B29.865006%2C%20-95.287739%5D%2C%20%5B44.09148%2C%20-121.30495%5D%2C%20%5B34.04569%2C%20-118.21552%5D%2C%20%5B34.70621%2C%20-92.27006%5D%2C%20%5B41.84944%2C%20-87.64433000000001%5D%2C%20%5B34.110419%2C%20-118.33440700000001%5D%2C%20%5B33.947082%2C%20-118.279729%5D%2C%20%5B39.113440000000004%2C%20-77.19075%5D%2C%20%5B40.555409999999995%2C%20-111.89726%5D%2C%20%5B36.187909999999995%2C%20-86.79855%5D%2C%20%5B28.565744%2C%20-81.229226%5D%2C%20%5B33.565020000000004%2C%20-81.9369%5D%2C%20%5B36.69129%2C%20-120.06069%5D%2C%20%5B45.219887%2C%20-93.02763900000001%5D%2C%20%5B39.33665%2C%20-120.17353999999999%5D%2C%20%5B41.18137%2C%20-85.627688%5D%2C%20%5B34.072007%2C%20-117.885727%5D%2C%20%5B29.68078%2C%20-95.36395999999999%5D%2C%20%5B38.86898%2C%20-76.84461999999999%5D%2C%20%5B34.055001000000004%2C%20-117.29907299999999%5D%2C%20%5B40.823859999999996%2C%20-74.31905%5D%2C%20%5B30.360139%2C%20-97.532505%5D%2C%20%5B26.192308999999998%2C%20-80.151737%5D%2C%20%5B40.087185%2C%20-74.971501%5D%2C%20%5B38.057477%2C%20-121.29613700000002%5D%2C%20%5B33.89952%2C%20-84.26938%5D%2C%20%5B36.740823%2C%20-119.814823%5D%2C%20%5B35.15275%2C%20-80.84854%5D%2C%20%5B35.341409999999996%2C%20-80.76736%5D%2C%20%5B42.004509999999996%2C%20-83.35604000000001%5D%2C%20%5B36.874355%2C%20-77.406037%5D%2C%20%5B26.25427%2C%20-80.13679%5D%2C%20%5B33.881840000000004%2C%20-118.19171000000001%5D%2C%20%5B28.625320000000002%2C%20-81.3865%5D%2C%20%5B45.3401%2C%20-93.79356%5D%2C%20%5B37.70827%2C%20-97.29906%5D%2C%20%5B40.136078999999995%2C%20-75.17790500000001%5D%2C%20%5B37.443000000000005%2C%20-122.11668%5D%2C%20%5B40.651759999999996%2C%20-73.865782%5D%2C%20%5B34.894557%2C%20-85.078925%5D%2C%20%5B39.567838%2C%20-76.97918100000001%5D%2C%20%5B34.660288%2C%20-118.154772%5D%2C%20%5B42.68813%2C%20-73.8596%5D%2C%20%5B33.779107%2C%20-117.887452%5D%2C%20%5B33.84966%2C%20-118.28483999999999%5D%2C%20%5B34.033970000000004%2C%20-118.36398999999999%5D%2C%20%5B33.676922%2C%20-80.91765600000001%5D%2C%20%5B47.382777000000004%2C%20-122.244433%5D%2C%20%5B43.022%2C%20-123.29972%5D%2C%20%5B39.63525%2C%20-84.23055%5D%2C%20%5B28.668653000000003%2C%20-82.142668%5D%2C%20%5B40.31658%2C%20-111.72623999999999%5D%2C%20%5B33.927917%2C%20-118.25428000000001%5D%2C%20%5B35.127140999999995%2C%20-118.411323%5D%2C%20%5B39.378358%2C%20-77.407103%5D%2C%20%5B37.531174%2C%20-121.941171%5D%2C%20%5B43.15938%2C%20-77.64681%5D%2C%20%5B35.39161%2C%20-97.49165%5D%2C%20%5B36.445544%2C%20-119.798172%5D%2C%20%5B35.209601%2C%20-80.814111%5D%2C%20%5B43.230408000000004%2C%20-77.475951%5D%2C%20%5B43.0538%2C%20-76.17375%5D%2C%20%5B25.736943%2C%20-80.327526%5D%2C%20%5B40.655722999999995%2C%20-73.930818%5D%2C%20%5B40.04373%2C%20-75.0027%5D%2C%20%5B36.266905%2C%20-86.75663399999999%5D%2C%20%5B34.13677%2C%20-117.57578999999998%5D%2C%20%5B33.982659999999996%2C%20-118.39496000000001%5D%2C%20%5B38.85718%2C%20-77.37284%5D%2C%20%5B34.321042%2C%20-118.496121%5D%2C%20%5B34.057848%2C%20-117.80436%5D%2C%20%5B39.871485%2C%20-75.102027%5D%2C%20%5B39.68731%2C%20-84.22064%5D%2C%20%5B27.996685%2C%20-82.582587%5D%2C%20%5B27.99375%2C%20-82.36758%5D%2C%20%5B33.925239000000005%2C%20-117.88004199999999%5D%2C%20%5B39.006071999999996%2C%20-77.09747%5D%2C%20%5B44.965013%2C%20-93.28273399999999%5D%2C%20%5B25.752225%2C%20-80.319826%5D%2C%20%5B37.29524%2C%20-121.81%5D%2C%20%5B30.457419%2C%20-91.16485300000001%5D%2C%20%5B37.932715%2C%20-122.060323%5D%2C%20%5B39.019692%2C%20-76.98085%5D%2C%20%5B47.1484%2C%20-122.50236000000001%5D%2C%20%5B40.76876%2C%20-73.88205%5D%2C%20%5B35.229407%2C%20-80.830683%5D%2C%20%5B40.12254%2C%20-111.65471000000001%5D%2C%20%5B37.784842%2C%20-121.18795700000001%5D%2C%20%5B42.622744%2C%20-85.96849399999999%5D%2C%20%5B33.945146%2C%20-117.296015%5D%2C%20%5B28.568817%2C%20-81.247537%5D%2C%20%5B29.515159999999998%2C%20-98.41104%5D%2C%20%5B43.97483%2C%20-117.26231000000001%5D%2C%20%5B42.962759000000005%2C%20-73.791351%5D%2C%20%5B47.15922%2C%20-122.46373999999999%5D%2C%20%5B32.293742%2C%20-80.937105%5D%2C%20%5B34.028931%2C%20-117.81143600000001%5D%2C%20%5B47.582369%2C%20-122.631479%5D%2C%20%5B38.550306%2C%20-121.473874%5D%2C%20%5B37.619549%2C%20-120.99433799999998%5D%2C%20%5B34.0262%2C%20-117.33355%5D%2C%20%5B38.28391%2C%20-90.40321999999999%5D%2C%20%5B29.77004%2C%20-95.35177%5D%2C%20%5B30.167140000000003%2C%20-97.79095%5D%2C%20%5B41.608270000000005%2C%20-72.90091%5D%2C%20%5B47.53196%2C%20-122.34678999999998%5D%2C%20%5B38.563190000000006%2C%20-121.34198899999998%5D%2C%20%5B37.749163%2C%20-121.13771899999999%5D%2C%20%5B37.68835%2C%20-122.1348%5D%2C%20%5B35.27148%2C%20-80.83705%5D%2C%20%5B39.286084%2C%20-76.553669%5D%2C%20%5B30.633459999999996%2C%20-86.97119%5D%2C%20%5B33.990527%2C%20-118.070066%5D%2C%20%5B40.922878000000004%2C%20-76.905235%5D%2C%20%5B42.375307%2C%20-122.85596000000001%5D%2C%20%5B29.08575%2C%20-82.185151%5D%2C%20%5B44.087634%2C%20-93.24529799999999%5D%2C%20%5B33.94178%2C%20-117.27361%5D%2C%20%5B45.344253%2C%20-122.63048799999999%5D%2C%20%5B33.29694%2C%20-111.97653000000001%5D%2C%20%5B42.237190000000005%2C%20-123.06995%5D%2C%20%5B36.261657%2C%20-119.421186%5D%2C%20%5B37.30058%2C%20-121.81371999999999%5D%2C%20%5B37.318314%2C%20-121.889544%5D%2C%20%5B44.78246%2C%20-93.28856999999999%5D%2C%20%5B32.67624%2C%20-97.24047%5D%2C%20%5B39.314335%2C%20-104.88498999999999%5D%2C%20%5B44.16938%2C%20-93.25856999999999%5D%2C%20%5B45.677751%2C%20-118.851031%5D%2C%20%5B33.905227000000004%2C%20-118.27400700000001%5D%2C%20%5B34.14517%2C%20-118.2178%5D%2C%20%5B38.414029%2C%20-109.44221999999999%5D%2C%20%5B33.930871%2C%20-118.17889699999999%5D%2C%20%5B34.127208%2C%20-118.27333899999999%5D%2C%20%5B34.064017%2C%20-117.81199%5D%2C%20%5B47.86654%2C%20-122.6363%5D%2C%20%5B42.58668%2C%20-123.38695%5D%2C%20%5B29.494490999999996%2C%20-98.54760999999999%5D%2C%20%5B38.849779999999996%2C%20-77.43312%5D%2C%20%5B34.13315%2C%20-117.229853%5D%2C%20%5B44.77912%2C%20-93.343905%5D%2C%20%5B38.23915%2C%20-85.75329%5D%2C%20%5B33.427351%2C%20-117.149115%5D%2C%20%5B34.154444%2C%20-118.31454599999999%5D%2C%20%5B37.79035%2C%20-121.29505%5D%2C%20%5B33.99777%2C%20-117.3682%5D%2C%20%5B47.956379999999996%2C%20-122.19941000000001%5D%2C%20%5B25.926026%2C%20-80.150541%5D%2C%20%5B40.431761%2C%20-111.881165%5D%2C%20%5B33.634842%2C%20-84.400599%5D%2C%20%5B40.41666%2C%20-75.841587%5D%2C%20%5B40.055078%2C%20-74.25522%5D%2C%20%5B38.03212%2C%20-122.11675%5D%2C%20%5B39.125879%2C%20-86.609813%5D%2C%20%5B33.765159999999995%2C%20-84.52149%5D%2C%20%5B42.259809999999995%2C%20-121.8045%5D%2C%20%5B34.151734000000005%2C%20-118.12207%5D%2C%20%5B40.66375%2C%20-74.182405%5D%2C%20%5B34.051287%2C%20-118.26106399999999%5D%2C%20%5B44.884868%2C%20-122.620571%5D%2C%20%5B40.82483%2C%20-73.93104%5D%2C%20%5B33.90638%2C%20-84.43185%5D%2C%20%5B37.74109%2C%20-122.19503999999999%5D%2C%20%5B44.04587%2C%20-122.99546299999999%5D%2C%20%5B32.809013%2C%20-96.808643%5D%2C%20%5B37.799159%2C%20-122.27724099999999%5D%2C%20%5B40.110929999999996%2C%20-82.9924%5D%2C%20%5B29.718329999999998%2C%20-95.37784%5D%2C%20%5B41.79733%2C%20-71.40356%5D%2C%20%5B28.052884000000002%2C%20-82.50402%5D%2C%20%5B44.401738%2C%20-122.56378899999999%5D%2C%20%5B47.164531%2C%20-93.353737%5D%2C%20%5B38.8118%2C%20-77.18685%5D%2C%20%5B44.394709999999996%2C%20-122.11633%5D%2C%20%5B38.839515999999996%2C%20-121.16205500000001%5D%2C%20%5B33.743326%2C%20-117.110879%5D%2C%20%5B34.15943%2C%20-118.6373%5D%2C%20%5B30.340490000000003%2C%20-97.6994%5D%2C%20%5B36.26825%2C%20-121.805435%5D%2C%20%5B39.140714%2C%20-77.212396%5D%2C%20%5B40.997367%2C%20-80.342875%5D%2C%20%5B40.898576%2C%20-73.879544%5D%2C%20%5B34.656346%2C%20-118.15351000000001%5D%2C%20%5B42.993774%2C%20-123.324745%5D%2C%20%5B36.327511%2C%20-119.34140900000001%5D%2C%20%5B45.52585%2C%20-122.6602%5D%2C%20%5B40.58914%2C%20-75.56464%5D%2C%20%5B35.202123%2C%20-80.870627%5D%2C%20%5B25.887961999999998%2C%20-80.21885999999999%5D%2C%20%5B35.55485%2C%20-82.717608%5D%2C%20%5B38.852743%2C%20-77.43294300000001%5D%2C%20%5B41.213691%2C%20-80.56782%5D%2C%20%5B25.850362%2C%20-80.322286%5D%2C%20%5B42.99548%2C%20-85.66461%5D%2C%20%5B37.670609999999996%2C%20-121.45421%5D%2C%20%5B34.982583%2C%20-81.97034000000001%5D%2C%20%5B44.95143%2C%20-93.02203%5D%2C%20%5B39.35257%2C%20-122.194681%5D%2C%20%5B28.474201%2C%20-81.396745%5D%2C%20%5B38.81389%2C%20-94.87841%5D%2C%20%5B45.825056%2C%20-122.69001999999999%5D%2C%20%5B39.0161%2C%20-76.97769%5D%2C%20%5B40.69129%2C%20-74.26723%5D%2C%20%5B40.836492%2C%20-73.876887%5D%2C%20%5B34.08747%2C%20-117.64563999999999%5D%2C%20%5B39.940106%2C%20-75.011147%5D%2C%20%5B39.093415%2C%20-94.54318%5D%2C%20%5B25.954226000000002%2C%20-80.277086%5D%2C%20%5B33.657664000000004%2C%20-117.7782%5D%2C%20%5B41.49259%2C%20-81.67664%5D%2C%20%5B28.960455%2C%20-82.377183%5D%2C%20%5B38.599965999999995%2C%20-121.415292%5D%2C%20%5B34.07029%2C%20-117.86429%5D%2C%20%5B33.936665000000005%2C%20-118.04122199999999%5D%2C%20%5B33.760659999999994%2C%20-84.4845%5D%2C%20%5B34.769974%2C%20-92.329669%5D%2C%20%5B43.44138%2C%20-112.11788%5D%2C%20%5B33.927917%2C%20-118.25428000000001%5D%2C%20%5B33.618159999999996%2C%20-84.4537%5D%2C%20%5B42.909890000000004%2C%20-73.683511%5D%2C%20%5B37.8333%2C%20-81.21395%5D%2C%20%5B44.94543%2C%20-122.99015%5D%2C%20%5B38.588736%2C%20-121.40143799999998%5D%2C%20%5B32.272079999999995%2C%20-110.9611%5D%2C%20%5B41.77217%2C%20-72.59765%5D%2C%20%5B33.799659999999996%2C%20-118.11143%5D%2C%20%5B40.2705%2C%20-103.58778000000001%5D%2C%20%5B37.40854%2C%20-122.06922%5D%2C%20%5B29.897691%2C%20-95.54951%5D%2C%20%5B44.676327%2C%20-123.87421299999998%5D%2C%20%5B33.872064%2C%20-117.665251%5D%2C%20%5B40.270196999999996%2C%20-80.017161%5D%2C%20%5B43.694846999999996%2C%20-124.07123200000001%5D%2C%20%5B41.503840000000004%2C%20-81.61176999999999%5D%2C%20%5B35.22444%2C%20-80.89787%5D%2C%20%5B35.59472%2C%20-97.56718000000001%5D%2C%20%5B42.74304%2C%20-73.64752%5D%2C%20%5B32.112713%2C%20-110.99153100000001%5D%2C%20%5B41.818290000000005%2C%20-71.39672%5D%2C%20%5B41.51944%2C%20-74.02362%5D%2C%20%5B44.693954%2C%20-121.98198400000001%5D%2C%20%5B39.09297%2C%20-77.01478%5D%2C%20%5B32.86175%2C%20-117.18745%5D%2C%20%5B27.172597999999997%2C%20-80.312136%5D%2C%20%5B34.080622%2C%20-81.067068%5D%2C%20%5B33.727421%2C%20-117.916248%5D%2C%20%5B35.74637%2C%20-78.59340999999999%5D%2C%20%5B34.071745%2C%20-117.87699199999999%5D%2C%20%5B33.46253%2C%20-112.4964%5D%2C%20%5B28.251735999999998%2C%20-81.487225%5D%2C%20%5B28.57905%2C%20-81.476118%5D%2C%20%5B41.647994%2C%20-73.204128%5D%2C%20%5B33.494904999999996%2C%20-111.899441%5D%2C%20%5B27.772170000000003%2C%20-80.55100999999999%5D%2C%20%5B35.183240000000005%2C%20-80.8871%5D%2C%20%5B37.807961999999996%2C%20-122.367345%5D%2C%20%5B37.86125%2C%20-122.03305%5D%2C%20%5B31.676758000000003%2C%20-106.323012%5D%2C%20%5B44.96999%2C%20-93.32937%5D%2C%20%5B43.06505%2C%20-76.12263%5D%2C%20%5B34.044959999999996%2C%20-84.17631%5D%2C%20%5B35.41369%2C%20-77.90148%5D%2C%20%5B41.970859999999995%2C%20-87.761031%5D%2C%20%5B44.86937%2C%20-122.89686%5D%2C%20%5B38.753227%2C%20-112.086226%5D%2C%20%5B48.73917%2C%20-94.83482%5D%2C%20%5B38.784135%2C%20-90.509487%5D%2C%20%5B34.043232%2C%20-117.96033%5D%2C%20%5B30.249062%2C%20-81.592787%5D%2C%20%5B35.705118%2C%20-79.779871%5D%2C%20%5B33.87034%2C%20-117.70351000000001%5D%2C%20%5B25.867179%2C%20-80.208382%5D%2C%20%5B41.833978%2C%20-71.41614200000001%5D%2C%20%5B44.86497%2C%20-93.429%5D%2C%20%5B33.928495%2C%20-118.289676%5D%2C%20%5B32.68269%2C%20-97.24061999999999%5D%2C%20%5B36.945036%2C%20-120.043176%5D%2C%20%5B39.26184%2C%20-76.67309%5D%2C%20%5B37.293261%2C%20-120.465471%5D%2C%20%5B28.16607%2C%20-82.69803%5D%2C%20%5B38.414844%2C%20-77.42766%5D%2C%20%5B35.20256%2C%20-80.72606999999999%5D%2C%20%5B29.991861%2C%20-90.05850799999999%5D%2C%20%5B34.033259%2C%20-118.183398%5D%2C%20%5B34.23911%2C%20-118.47313%5D%2C%20%5B40.8046%2C%20-73.9119%5D%2C%20%5B41.79583%2C%20-88.32778%5D%2C%20%5B42.219482%2C%20-121.78976599999999%5D%2C%20%5B33.688076%2C%20-117.91228400000001%5D%2C%20%5B40.61315%2C%20-74.15474%5D%2C%20%5B38.128679999999996%2C%20-77.51279%5D%2C%20%5B27.42877%2C%20-82.53057%5D%2C%20%5B33.978449%2C%20-118.077288%5D%2C%20%5B38.72782%2C%20-104.73573%5D%2C%20%5B28.594920000000002%2C%20-81.416014%5D%2C%20%5B32.779204%2C%20-117.06980300000001%5D%2C%20%5B39.792120000000004%2C%20-75.112%5D%2C%20%5B34.609021000000006%2C%20-83.147736%5D%2C%20%5B28.259744%2C%20-81.48618%5D%2C%20%5B37.364340000000006%2C%20-121.90180900000001%5D%2C%20%5B25.947048000000002%2C%20-80.189091%5D%2C%20%5B47.636179999999996%2C%20-122.32337%5D%2C%20%5B33.81064%2C%20-81.00711%5D%2C%20%5B41.257899%2C%20-95.953763%5D%2C%20%5B36.90809%2C%20-82.04326999999999%5D%2C%20%5B33.93461%2C%20-118.17691%5D%2C%20%5B33.400937%2C%20-86.787689%5D%2C%20%5B33.617359%2C%20-117.71021200000001%5D%2C%20%5B32.709734000000005%2C%20-117.11950300000001%5D%2C%20%5B34.956452%2C%20-81.99701800000001%5D%2C%20%5B33.69753%2C%20-84.41546%5D%2C%20%5B42.971495000000004%2C%20-85.720382%5D%2C%20%5B41.071286%2C%20-73.896775%5D%2C%20%5B41.860281%2C%20-87.617784%5D%2C%20%5B38.136448%2C%20-122.221884%5D%2C%20%5B43.156918%2C%20-77.601828%5D%2C%20%5B34.070485999999995%2C%20-117.396025%5D%2C%20%5B39.652824%2C%20-75.711439%5D%2C%20%5B42.360588%2C%20-88.000887%5D%2C%20%5B34.131784%2C%20-117.22168500000001%5D%2C%20%5B30.439943%2C%20-84.331528%5D%2C%20%5B39.825707%2C%20-76.68428%5D%2C%20%5B38.588093%2C%20-121.554955%5D%2C%20%5B45.57235%2C%20-122.67877%5D%2C%20%5B32.760090000000005%2C%20-97.16185%5D%2C%20%5B29.021726%2C%20-81.227663%5D%2C%20%5B34.072455%2C%20-118.069349%5D%2C%20%5B33.87275%2C%20-84.01429%5D%2C%20%5B47.293279999999996%2C%20-122.30565%5D%2C%20%5B39.983743%2C%20-75.097464%5D%2C%20%5B44.689023999999996%2C%20-93.49692399999999%5D%2C%20%5B38.793040000000005%2C%20-76.571206%5D%2C%20%5B40.28524%2C%20-111.7257%5D%2C%20%5B32.828618%2C%20-113.41217900000001%5D%2C%20%5B34.139874%2C%20-80.914029%5D%2C%20%5B29.513493%2C%20-98.532246%5D%2C%20%5B40.28092%2C%20-74.50414%5D%2C%20%5B45.53598%2C%20-122.66773%5D%2C%20%5B37.554390999999995%2C%20-77.446264%5D%2C%20%5B32.87835%2C%20-96.68734%5D%2C%20%5B47.19777%2C%20-122.28148999999999%5D%2C%20%5B29.77805%2C%20-95.28858000000001%5D%2C%20%5B35.034924%2C%20-120.482395%5D%2C%20%5B32.76473%2C%20-117.0019%5D%2C%20%5B36.17824%2C%20-86.45659%5D%2C%20%5B35.757%2C%20-78.61721999999999%5D%2C%20%5B33.967983000000004%2C%20-118.371528%5D%2C%20%5B32.878979%2C%20-96.51297199999999%5D%2C%20%5B34.5971%2C%20-77.92711%5D%2C%20%5B41.14698%2C%20-96.16251%5D%2C%20%5B33.87275%2C%20-118.27013000000001%5D%2C%20%5B37.720067%2C%20-121.65861299999999%5D%2C%20%5B42.749272%2C%20-73.712521%5D%2C%20%5B39.77035%2C%20-84.19485999999999%5D%2C%20%5B36.13413%2C%20-79.78969000000001%5D%2C%20%5B42.974332000000004%2C%20-82.483384%5D%2C%20%5B29.827458%2C%20-95.569975%5D%2C%20%5B34.23105%2C%20-118.266182%5D%2C%20%5B30.479225%2C%20-91.131227%5D%2C%20%5B30.311559999999997%2C%20-97.70923%5D%2C%20%5B37.578151%2C%20-77.476116%5D%2C%20%5B41.283916%2C%20-72.935638%5D%2C%20%5B37.866056%2C%20-121.21910700000001%5D%2C%20%5B38.851863%2C%20-121.146786%5D%2C%20%5B34.245489%2C%20-118.839898%5D%2C%20%5B40.887889%2C%20-76.93990699999999%5D%2C%20%5B35.10755%2C%20-106.61522%5D%2C%20%5B36.771589%2C%20-76.25745%5D%2C%20%5B38.78553%2C%20-76.59731%5D%2C%20%5B34.010308%2C%20-117.823429%5D%2C%20%5B35.021962%2C%20-80.848911%5D%2C%20%5B34.133306%2C%20-118.352405%5D%2C%20%5B41.256411%2C%20-111.977949%5D%2C%20%5B39.236553%2C%20-123.20783300000001%5D%2C%20%5B36.755223%2C%20-119.75641599999999%5D%2C%20%5B30.427509999999998%2C%20-91.16942%5D%2C%20%5B38.819148%2C%20-77.34819499999999%5D%2C%20%5B32.257709999999996%2C%20-110.96098%5D%2C%20%5B42.733643%2C%20-84.73963%5D%2C%20%5B42.965987%2C%20-71.412498%5D%2C%20%5B32.416707%2C%20-80.747855%5D%2C%20%5B34.278448%2C%20-118.604708%5D%2C%20%5B38.703801%2C%20-121.363654%5D%2C%20%5B40.107973%2C%20-82.962643%5D%2C%20%5B44.40506%2C%20-123.94396%5D%2C%20%5B31.77611%2C%20-106.38752%5D%2C%20%5B42.33292%2C%20-83.08145%5D%2C%20%5B34.07308%2C%20-118.21916999999999%5D%2C%20%5B36.288901%2C%20-121.846554%5D%2C%20%5B42.92408%2C%20-83.62595%5D%2C%20%5B40.347986999999996%2C%20-75.542045%5D%2C%20%5B43.68381%2C%20-93.32123%5D%2C%20%5B35.145340000000004%2C%20-80.78839%5D%2C%20%5B42.878161999999996%2C%20-117.394144%5D%2C%20%5B39.6822%2C%20-78.09725999999999%5D%2C%20%5B39.132135999999996%2C%20-120.158078%5D%2C%20%5B33.747371%2C%20-117.832392%5D%2C%20%5B32.523493%2C%20-83.594554%5D%2C%20%5B44.404509000000004%2C%20-122.75065%5D%2C%20%5B34.072540000000004%2C%20-118.23483%5D%2C%20%5B33.58806%2C%20-84.50859%5D%2C%20%5B34.467424%2C%20-117.34834599999999%5D%2C%20%5B34.068279%2C%20-117.85561899999999%5D%2C%20%5B37.656335999999996%2C%20-122.101569%5D%2C%20%5B41.803096000000004%2C%20-88.20966800000001%5D%2C%20%5B40.81118%2C%20-73.83569%5D%2C%20%5B34.127520000000004%2C%20-118.14719%5D%2C%20%5B42.4688%2C%20-82.91919%5D%2C%20%5B39.499443%2C%20-76.667629%5D%2C%20%5B34.368557%2C%20-119.025003%5D%2C%20%5B44.09186%2C%20-123.0456%5D%2C%20%5B35.27299%2C%20-80.837%5D%2C%20%5B34.0618%2C%20-118.16188999999999%5D%2C%20%5B42.363036%2C%20-87.96354699999999%5D%2C%20%5B32.20655%2C%20-110.82691000000001%5D%2C%20%5B34.06678%2C%20-117.33233999999999%5D%2C%20%5B32.938913%2C%20-117.241771%5D%2C%20%5B44.93469%2C%20-93.39697%5D%2C%20%5B43.087140000000005%2C%20-87.9218%5D%2C%20%5B44.862746%2C%20-93.24971%5D%2C%20%5B34.087259%2C%20-117.64540600000001%5D%2C%20%5B40.838725%2C%20-73.93324799999999%5D%2C%20%5B34.217895%2C%20-119.052733%5D%2C%20%5B39.411467%2C%20-76.582206%5D%2C%20%5B33.850518%2C%20-117.83679099999999%5D%2C%20%5B34.39711%2C%20-118.854118%5D%2C%20%5B33.994046999999995%2C%20-117.90519499999999%5D%2C%20%5B32.676395%2C%20-97.042497%5D%2C%20%5B30.531840000000003%2C%20-91.06251%5D%2C%20%5B44.74904%2C%20-93.58676%5D%2C%20%5B44.596215%2C%20-92.68727700000001%5D%2C%20%5B33.74064%2C%20-112.48069%5D%2C%20%5B25.988148000000002%2C%20-80.165745%5D%2C%20%5B38.66417%2C%20-76.87458000000001%5D%2C%20%5B43.09353%2C%20-76.08429%5D%2C%20%5B39.223420000000004%2C%20-84.3597%5D%2C%20%5B39.157328%2C%20-77.205223%5D%2C%20%5B40.83393%2C%20-111.92856%5D%2C%20%5B38.95588%2C%20-111.87316000000001%5D%2C%20%5B33.931459999999994%2C%20-118.39073%5D%2C%20%5B39.76142%2C%20-84.253334%5D%2C%20%5B37.31009%2C%20-121.88316%5D%2C%20%5B39.226%2C%20-84.550229%5D%2C%20%5B38.84128%2C%20-76.875739%5D%2C%20%5B34.628135%2C%20-82.78066899999999%5D%2C%20%5B37.480165%2C%20-122.406897%5D%2C%20%5B28.553395000000002%2C%20-81.333486%5D%2C%20%5B25.632964%2C%20-80.439188%5D%2C%20%5B40.63539%2C%20-74.97310999999999%5D%2C%20%5B40.44097%2C%20-75.42843%5D%2C%20%5B38.67279%2C%20-77.26025%5D%2C%20%5B39.920415999999996%2C%20-75.14116%5D%2C%20%5B30.00487%2C%20-95.29682%5D%2C%20%5B28.536859999999997%2C%20-80.8263%5D%2C%20%5B33.934033%2C%20-118.300307%5D%2C%20%5B40.65955%2C%20-74.28711%5D%2C%20%5B39.14378%2C%20-84.45934%5D%2C%20%5B39.382413%2C%20-76.446057%5D%2C%20%5B45.572494%2C%20-122.63070400000001%5D%2C%20%5B40.907645%2C%20-73.886312%5D%2C%20%5B35.41019%2C%20-80.68705%5D%2C%20%5B33.948226%2C%20-118.092947%5D%2C%20%5B35.42078%2C%20-97.50793%5D%2C%20%5B39.6695%2C%20-75.67973%5D%2C%20%5B42.25833%2C%20-73.74646%5D%2C%20%5B36.05802%2C%20-83.92416999999999%5D%2C%20%5B28.03893%2C%20-82.05604%5D%2C%20%5B43.531575%2C%20-70.448893%5D%2C%20%5B30.02807%2C%20-95.83983%5D%2C%20%5B40.005818%2C%20-76.36794%5D%2C%20%5B33.773216%2C%20-118.039248%5D%2C%20%5B38.93932%2C%20-76.91535%5D%2C%20%5B35.70166%2C%20-78.66913000000001%5D%2C%20%5B33.7745%2C%20-118.06948%5D%2C%20%5B41.599179%2C%20-81.48876%5D%2C%20%5B45.836698%2C%20-123.508626%5D%2C%20%5B39.09279%2C%20-76.80544%5D%2C%20%5B33.672061%2C%20-117.170814%5D%2C%20%5B37.964786%2C%20-122.058249%5D%2C%20%5B37.505644000000004%2C%20-77.09129%5D%2C%20%5B44.81221%2C%20-94.3757%5D%2C%20%5B35.923093%2C%20-79.93456%5D%2C%20%5B40.00111%2C%20-75.82183%5D%2C%20%5B39.026617%2C%20-94.78585%5D%2C%20%5B34.174116999999995%2C%20-118.159691%5D%2C%20%5B43.9437%2C%20-121.02893999999999%5D%2C%20%5B34.225059%2C%20-117.409632%5D%2C%20%5B34.16534%2C%20-118.46973%5D%2C%20%5B38.217498%2C%20-122.13613600000001%5D%2C%20%5B34.209833%2C%20-117.412975%5D%2C%20%5B37.833263%2C%20-122.26588100000001%5D%2C%20%5B33.88366%2C%20-118.10408000000001%5D%2C%20%5B25.7325%2C%20-80.31713%5D%2C%20%5B34.071647%2C%20-118.10822900000001%5D%2C%20%5B25.712548%2C%20-80.382427%5D%2C%20%5B42.29728%2C%20-85.00601999999999%5D%2C%20%5B29.575740999999997%2C%20-82.46214599999999%5D%2C%20%5B37.60368%2C%20-122.06436000000001%5D%2C%20%5B36.83697%2C%20-76.1565%5D%2C%20%5B33.974765000000005%2C%20-118.25318899999999%5D%2C%20%5B40.91511%2C%20-81.98201999999999%5D%2C%20%5B33.68038%2C%20-117.17076999999999%5D%2C%20%5B42.67155%2C%20-73.75545%5D%2C%20%5B38.663482%2C%20-121.305176%5D%2C%20%5B40.39395%2C%20-104.6381%5D%2C%20%5B40.766914%2C%20-73.887807%5D%2C%20%5B26.04269%2C%20-80.16289%5D%2C%20%5B33.17754%2C%20-117.22785%5D%2C%20%5B39.558052%2C%20-122.00429799999999%5D%2C%20%5B41.14703%2C%20-96.17737%5D%2C%20%5B34.10375%2C%20-117.98352%5D%2C%20%5B26.691287%2C%20-80.066661%5D%2C%20%5B44.366481%2C%20-123.83358%5D%2C%20%5B29.665713%2C%20-95.259622%5D%2C%20%5B44.48195%2C%20-95.75574%5D%2C%20%5B38.6434%2C%20-90.51546%5D%2C%20%5B47.463528000000004%2C%20-122.125882%5D%2C%20%5B39.66162%2C%20-77.74205%5D%2C%20%5B42.895272%2C%20-71.359341%5D%2C%20%5B38.879081%2C%20-77.253209%5D%2C%20%5B29.972715%2C%20-90.037785%5D%2C%20%5B38.924614%2C%20-76.85386%5D%2C%20%5B25.963987%2C%20-80.165592%5D%2C%20%5B45.051208%2C%20-123.78018%5D%2C%20%5B37.981638000000004%2C%20-122.06725800000001%5D%2C%20%5B28.661979%2C%20-81.402687%5D%2C%20%5B41.496021%2C%20-94.50522099999999%5D%2C%20%5B45.13902%2C%20-94.77757%5D%2C%20%5B36.602491%2C%20-86.714327%5D%2C%20%5B35.426705%2C%20-119.012226%5D%2C%20%5B39.20583%2C%20-76.68930999999999%5D%2C%20%5B34.15567%2C%20-118.29732%5D%2C%20%5B33.422909999999995%2C%20-111.69315700000001%5D%2C%20%5B30.534090000000003%2C%20-87.08175%5D%2C%20%5B40.444534000000004%2C%20-80.028885%5D%2C%20%5B30.230196000000003%2C%20-95.36810200000001%5D%2C%20%5B43.163215%2C%20-77.621608%5D%2C%20%5B33.845991%2C%20-80.767476%5D%2C%20%5B37.444753000000006%2C%20-122.123999%5D%2C%20%5B39.77279%2C%20-86.14282%5D%2C%20%5B33.103629999999995%2C%20-117.09195%5D%2C%20%5B33.07445%2C%20-97.022123%5D%2C%20%5B38.61053%2C%20-121.510291%5D%2C%20%5B40.659440000000004%2C%20-75.06752%5D%2C%20%5B28.414472999999997%2C%20-81.47403299999999%5D%2C%20%5B39.18439%2C%20-84.46497%5D%2C%20%5B33.943233%2C%20-118.280123%5D%2C%20%5B40.124308%2C%20-78.579746%5D%2C%20%5B38.304326%2C%20-104.66351999999999%5D%2C%20%5B34.54526%2C%20-77.89345%5D%2C%20%5B45.4118%2C%20-122.96028000000001%5D%2C%20%5B33.67357%2C%20-117.88613000000001%5D%2C%20%5B41.56238%2C%20-81.12916%5D%2C%20%5B42.664967%2C%20-73.728875%5D%2C%20%5B44.79368%2C%20-93.28883%5D%2C%20%5B43.110512%2C%20-75.20760600000001%5D%2C%20%5B40.797444%2C%20-124.08811200000001%5D%2C%20%5B35.33164%2C%20-80.74231%5D%2C%20%5B24.623188%2C%20-81.602725%5D%2C%20%5B38.849763%2C%20-77.415459%5D%2C%20%5B40.845490000000005%2C%20-73.92808000000001%5D%2C%20%5B31.893834000000002%2C%20-106.46990900000002%5D%2C%20%5B38.057674%2C%20-121.33263000000001%5D%2C%20%5B33.90505%2C%20-118.37053999999999%5D%2C%20%5B36.52134%2C%20-77.58548%5D%2C%20%5B41.482079999999996%2C%20-91.55085%5D%2C%20%5B32.884209999999996%2C%20-96.69716%5D%2C%20%5B27.955945%2C%20-82.465835%5D%2C%20%5B44.129531%2C%20-121.28097%5D%2C%20%5B39.554390000000005%2C%20-104.79446%5D%2C%20%5B37.68778%2C%20-122.13391000000001%5D%2C%20%5B32.780637%2C%20-117.113176%5D%2C%20%5B27.43205%2C%20-82.42839000000001%5D%2C%20%5B26.172386%2C%20-81.68681%5D%2C%20%5B43.252959999999995%2C%20-77.64679%5D%2C%20%5B37.719141%2C%20-122.448457%5D%2C%20%5B35.85751%2C%20-78.86121%5D%2C%20%5B29.81405%2C%20-95.36061%5D%2C%20%5B33.963423%2C%20-87.688324%5D%2C%20%5B40.36619%2C%20-80.015152%5D%2C%20%5B35.566812%2C%20-78.170906%5D%2C%20%5B42.41299%2C%20-83.08331%5D%2C%20%5B27.011357%2C%20-82.142615%5D%2C%20%5B38.85113%2C%20-77.407933%5D%2C%20%5B34.816229%2C%20-117.09581200000001%5D%2C%20%5B35.100812%2C%20-80.992847%5D%2C%20%5B33.052135%2C%20-83.288923%5D%2C%20%5B33.308792%2C%20-111.72111899999999%5D%2C%20%5B30.376008000000002%2C%20-84.293626%5D%2C%20%5B33.809142%2C%20-118.28768000000001%5D%2C%20%5B34.0365%2C%20-118.02386000000001%5D%2C%20%5B34.053031%2C%20-118.228867%5D%2C%20%5B37.69812%2C%20-121.93978999999999%5D%2C%20%5B41.880857%2C%20-87.66678%5D%2C%20%5B38.553833000000004%2C%20-121.474019%5D%2C%20%5B36.553696%2C%20-119.196774%5D%2C%20%5B40.325825%2C%20-76.791829%5D%2C%20%5B45.42053%2C%20-122.7442%5D%2C%20%5B34.10321%2C%20-118.19213%5D%2C%20%5B35.21895%2C%20-80.65101%5D%2C%20%5B41.618001%2C%20-72.196135%5D%2C%20%5B40.39116%2C%20-111.834994%5D%2C%20%5B27.79072%2C%20-82.3572%5D%2C%20%5B34.02535%2C%20-117.33431000000002%5D%2C%20%5B43.39311%2C%20-123.35923000000001%5D%2C%20%5B35.232048%2C%20-80.827151%5D%2C%20%5B33.689267%2C%20-117.919301%5D%2C%20%5B41.77925%2C%20-87.68365%5D%2C%20%5B34.155570000000004%2C%20-118.26756999999999%5D%2C%20%5B33.79483%2C%20-118.10495%5D%2C%20%5B34.03313%2C%20-81.1069%5D%2C%20%5B34.026321%2C%20-118.23534599999999%5D%2C%20%5B44.14979%2C%20-122.58035%5D%2C%20%5B38.639495000000004%2C%20-122.594567%5D%2C%20%5B32.719205%2C%20-117.096115%5D%2C%20%5B43.36716%2C%20-123.33017%5D%2C%20%5B37.718284999999995%2C%20-77.44836600000001%5D%2C%20%5B41.225770000000004%2C%20-95.96942%5D%2C%20%5B38.327382%2C%20-122.31423400000001%5D%2C%20%5B35.087637%2C%20-80.936454%5D%2C%20%5B33.85544%2C%20-117.87581000000002%5D%2C%20%5B34.177201000000004%2C%20-79.809812%5D%2C%20%5B30.416959000000002%2C%20-91.155378%5D%2C%20%5B33.987836%2C%20-117.348041%5D%2C%20%5B34.157271%2C%20-118.29073600000001%5D%2C%20%5B32.841408%2C%20-96.870529%5D%2C%20%5B39.889869%2C%20-74.577458%5D%2C%20%5B33.74351%2C%20-84.38776999999999%5D%2C%20%5B34.460995000000004%2C%20-120.00357199999999%5D%2C%20%5B34.206098%2C%20-80.026409%5D%2C%20%5B30.270078%2C%20-90.942255%5D%2C%20%5B36.901112%2C%20-81.324781%5D%2C%20%5B36.416536%2C%20-119.804135%5D%2C%20%5B29.725734999999997%2C%20-95.33304100000001%5D%2C%20%5B33.853818%2C%20-118.01260900000001%5D%2C%20%5B32.964695%2C%20-117.09498700000002%5D%2C%20%5B29.453015%2C%20-98.515612%5D%2C%20%5B34.121567999999996%2C%20-117.69843999999999%5D%2C%20%5B45.35611%2C%20-122.60953%5D%2C%20%5B34.024053%2C%20-117.33545500000001%5D%2C%20%5B42.41231%2C%20-122.96751200000001%5D%2C%20%5B40.719429999999996%2C%20-73.94551%5D%2C%20%5B33.565020000000004%2C%20-81.9369%5D%2C%20%5B45.83335%2C%20-119.61939%5D%2C%20%5B32.779313%2C%20-117.066359%5D%2C%20%5B33.3857%2C%20-111.93489%5D%2C%20%5B35.83508%2C%20-78.64339%5D%2C%20%5B34.037648%2C%20-118.022653%5D%2C%20%5B41.037636%2C%20-73.949393%5D%2C%20%5B38.605152000000004%2C%20-121.137024%5D%2C%20%5B34.631534%2C%20-82.599688%5D%2C%20%5B38.91215%2C%20-76.93404%5D%2C%20%5B35.167182000000004%2C%20-80.965257%5D%2C%20%5B41.39012%2C%20-88.19296%5D%2C%20%5B40.704609999999995%2C%20-111.90382%5D%2C%20%5B41.319161%2C%20-72.89386800000001%5D%2C%20%5B45.213996%2C%20-118.02549599999999%5D%2C%20%5B36.44725%2C%20-87.09439%5D%2C%20%5B42.47603%2C%20-83.11779%5D%2C%20%5B37.720859999999995%2C%20-121.93794%5D%2C%20%5B41.767649%2C%20-72.656077%5D%2C%20%5B43.032634%2C%20-71.343717%5D%2C%20%5B41.29526%2C%20-72.782084%5D%2C%20%5B33.866401%2C%20-117.71726899999999%5D%2C%20%5B36.47527%2C%20-86.32621%5D%2C%20%5B25.700111%2C%20-80.33411600000001%5D%2C%20%5B32.798024%2C%20-96.79288000000001%5D%2C%20%5B42.97201%2C%20-85.88830300000001%5D%2C%20%5B34.821612%2C%20-82.284743%5D%2C%20%5B42.79029%2C%20-86.10897%5D%2C%20%5B36.00823%2C%20-80.43836%5D%2C%20%5B29.966796999999996%2C%20-90.071031%5D%2C%20%5B33.99814%2C%20-118.14721000000002%5D%2C%20%5B43.11699%2C%20-85.70551999999999%5D%2C%20%5B25.7022%2C%20-80.33555600000001%5D%2C%20%5B37.505229%2C%20-122.35824199999999%5D%2C%20%5B35.416540000000005%2C%20-81.64375%5D%2C%20%5B37.43581%2C%20-122.32094%5D%2C%20%5B41.294333%2C%20-72.790539%5D%2C%20%5B32.788044%2C%20-117.160509%5D%2C%20%5B45.718806%2C%20-120.219447%5D%2C%20%5B34.77755%2C%20-82.46044%5D%2C%20%5B46.852909999999994%2C%20-92.280423%5D%2C%20%5B38.241751%2C%20-122.70523600000001%5D%2C%20%5B39.939372%2C%20-76.02385100000001%5D%2C%20%5B35.12956%2C%20-80.94169000000001%5D%2C%20%5B44.102779999999996%2C%20-121.29913%5D%2C%20%5B40.428859%2C%20-79.888728%5D%2C%20%5B28.23302%2C%20-81.64965%5D%2C%20%5B35.098172%2C%20-85.327851%5D%2C%20%5B36.623746000000004%2C%20-120.061272%5D%2C%20%5B37.211523%2C%20-122.15631699999999%5D%2C%20%5B41.873490000000004%2C%20-87.81535%5D%2C%20%5B37.60259%2C%20-77.42359%5D%2C%20%5B33.756098%2C%20-78.96560699999999%5D%2C%20%5B34.154423%2C%20-118.38316699999999%5D%2C%20%5B33.710252000000004%2C%20-117.782227%5D%2C%20%5B34.14864%2C%20-118.05017%5D%2C%20%5B28.59504%2C%20-81.38455%5D%2C%20%5B42.423812%2C%20-123.22911299999998%5D%2C%20%5B35.24276%2C%20-80.84469200000001%5D%2C%20%5B38.01874%2C%20-121.94288%5D%2C%20%5B40.741971%2C%20-74.083911%5D%2C%20%5B34.094749%2C%20-117.98796000000002%5D%2C%20%5B25.883637%2C%20-80.243199%5D%2C%20%5B34.0048%2C%20-84.5646%5D%2C%20%5B36.153956%2C%20-86.757305%5D%2C%20%5B38.43237%2C%20-122.73042%5D%2C%20%5B38.481587%2C%20-121.334751%5D%2C%20%5B34.095728%2C%20-117.872478%5D%2C%20%5B29.700433%2C%20-95.517799%5D%2C%20%5B40.345659999999995%2C%20-112.30644%5D%2C%20%5B30.224128000000004%2C%20-81.57321800000001%5D%2C%20%5B39.803729%2C%20-84.225937%5D%2C%20%5B40.24693%2C%20-74.08255%5D%2C%20%5B37.149142%2C%20-121.648575%5D%2C%20%5B46.164922999999995%2C%20-123.63199399999999%5D%2C%20%5B33.751577000000005%2C%20-117.84608200000001%5D%2C%20%5B39.05089%2C%20-94.67903000000001%5D%2C%20%5B41.244668%2C%20-73.082963%5D%2C%20%5B37.348533%2C%20-119.719002%5D%2C%20%5B32.923790000000004%2C%20-96.76876999999999%5D%2C%20%5B36.123925%2C%20-119.324929%5D%2C%20%5B43.140692%2C%20-77.60495300000001%5D%2C%20%5B35.834819%2C%20-79.589515%5D%2C%20%5B40.83155%2C%20-73.95071999999999%5D%2C%20%5B40.64845%2C%20-111.90222%5D%2C%20%5B33.50195%2C%20-84.22685%5D%2C%20%5B33.893256%2C%20-118.04578300000001%5D%2C%20%5B42.337026%2C%20-83.058161%5D%2C%20%5B38.623143%2C%20-121.266714%5D%2C%20%5B33.71134%2C%20-84.21434%5D%2C%20%5B35.366684%2C%20-117.619596%5D%2C%20%5B29.704033000000003%2C%20-95.52107099999999%5D%2C%20%5B40.567778000000004%2C%20-122.360433%5D%2C%20%5B39.777081%2C%20-82.616545%5D%2C%20%5B34.037967%2C%20-118.02219199999999%5D%2C%20%5B38.91019%2C%20-76.84988%5D%2C%20%5B37.34022%2C%20-121.85131000000001%5D%2C%20%5B34.071883%2C%20-117.872309%5D%2C%20%5B39.912933%2C%20-75.091477%5D%2C%20%5B35.090534999999996%2C%20-80.667575%5D%2C%20%5B33.87895%2C%20-118.10383999999999%5D%2C%20%5B37.412890000000004%2C%20-122.08073999999999%5D%2C%20%5B39.476099%2C%20-76.91550699999999%5D%2C%20%5B45.823947%2C%20-119.565191%5D%2C%20%5B35.64604%2C%20-78.56533%5D%2C%20%5B33.699451%2C%20-117.08486%5D%2C%20%5B34.015370000000004%2C%20-118.05532%5D%2C%20%5B33.924976%2C%20-118.280965%5D%2C%20%5B33.974742%2C%20-118.244456%5D%2C%20%5B33.930877%2C%20-118.17831100000001%5D%2C%20%5B38.088390000000004%2C%20-122.10991000000001%5D%2C%20%5B26.312890000000003%2C%20-80.1173%5D%2C%20%5B40.96634%2C%20-73.72794%5D%2C%20%5B40.793193%2C%20-76.552815%5D%2C%20%5B28.55573%2C%20-81.312721%5D%2C%20%5B39.750440000000005%2C%20-75.50480999999999%5D%2C%20%5B35.960809999999995%2C%20-79.97455%5D%2C%20%5B34.136198%2C%20-117.44522099999999%5D%2C%20%5B33.727823%2C%20-84.502447%5D%2C%20%5B38.28203%2C%20-122.296158%5D%2C%20%5B27.984332000000002%2C%20-82.398457%5D%2C%20%5B37.353217%2C%20-121.83774%5D%2C%20%5B33.933134%2C%20-118.100958%5D%2C%20%5B41.11169%2C%20-111.75679%5D%2C%20%5B40.31305%2C%20-74.49021%5D%2C%20%5B37.521479%2C%20-77.271842%5D%2C%20%5B34.38312%2C%20-117.389401%5D%2C%20%5B34.12053%2C%20-117.83568000000001%5D%2C%20%5B28.30987%2C%20-82.69986999999999%5D%2C%20%5B44.83285%2C%20-92.96439000000001%5D%2C%20%5B25.685477%2C%20-80.414796%5D%2C%20%5B40.75327%2C%20-74.21083%5D%2C%20%5B42.17586%2C%20-88.17551999999999%5D%2C%20%5B41.4935%2C%20-72.18045%5D%2C%20%5B39.65112%2C%20-77.75214%5D%2C%20%5B35.981544%2C%20-77.876082%5D%2C%20%5B40.720385%2C%20-74.232741%5D%2C%20%5B26.704340999999996%2C%20-81.803437%5D%2C%20%5B40.102919%2C%20-75.08601800000001%5D%2C%20%5B34.228516%2C%20-119.16993400000001%5D%2C%20%5B38.770047%2C%20-90.497066%5D%2C%20%5B33.728833%2C%20-117.38328%5D%2C%20%5B44.36517%2C%20-121.99798%5D%2C%20%5B38.589526%2C%20-121.50458700000001%5D%2C%20%5B42.492252%2C%20-82.998758%5D%2C%20%5B40.694379%2C%20-73.5759%5D%2C%20%5B40.26169%2C%20-75.4066%5D%2C%20%5B37.23053%2C%20-80.240246%5D%2C%20%5B37.7009%2C%20-121.82292%5D%2C%20%5B41.68196%2C%20-92.90952%5D%2C%20%5B45.532332000000004%2C%20-122.61983500000001%5D%2C%20%5B41.227354999999996%2C%20-111.97033%5D%2C%20%5B34.37761%2C%20-118.49348%5D%2C%20%5B33.91704%2C%20-118.07968999999999%5D%2C%20%5B39.788662%2C%20-86.16660999999999%5D%2C%20%5B29.688740000000003%2C%20-82.397826%5D%2C%20%5B45.938641%2C%20-118.38767%5D%2C%20%5B40.73506%2C%20-73.86169%5D%2C%20%5B40.989629%2C%20-78.163286%5D%2C%20%5B30.822371%2C%20-82.942032%5D%2C%20%5B25.764879%2C%20-80.352901%5D%2C%20%5B38.039398999999996%2C%20-109.343853%5D%2C%20%5B37.374190000000006%2C%20-77.40588000000001%5D%2C%20%5B44.85812%2C%20-93.536393%5D%2C%20%5B34.00591%2C%20-84.35076%5D%2C%20%5B44.3104%2C%20-94.02887%5D%2C%20%5B35.03848%2C%20-85.68451%5D%2C%20%5B25.946023%2C%20-80.162867%5D%2C%20%5B26.268420000000003%2C%20-80.16871%5D%2C%20%5B44.818532%2C%20-121.360724%5D%2C%20%5B41.80883%2C%20-88.01106%5D%2C%20%5B37.400752000000004%2C%20-122.035634%5D%2C%20%5B30.315088%2C%20-81.770993%5D%2C%20%5B41.22365%2C%20-96.012%5D%2C%20%5B40.70835%2C%20-111.90396000000001%5D%2C%20%5B32.92048%2C%20-96.7504%5D%2C%20%5B34.0743%2C%20-118.271821%5D%2C%20%5B34.15582%2C%20-118.29727%5D%2C%20%5B39.161668%2C%20-84.514359%5D%2C%20%5B33.884671999999995%2C%20-117.521639%5D%2C%20%5B39.88935%2C%20-104.98768000000001%5D%2C%20%5B32.942347999999996%2C%20-96.903581%5D%2C%20%5B35.07694%2C%20-90.02646999999999%5D%2C%20%5B38.610391%2C%20-121.38285%5D%2C%20%5B40.50026%2C%20-78.391562%5D%2C%20%5B35.7956%2C%20-78.58098000000001%5D%2C%20%5B39.977270000000004%2C%20-83.14663%5D%2C%20%5B43.14893%2C%20-88.05221%5D%2C%20%5B44.740225%2C%20-93.588034%5D%2C%20%5B40.904856%2C%20-123.740054%5D%2C%20%5B29.71205%2C%20-95.15351%5D%2C%20%5B43.1496%2C%20-76.1256%5D%2C%20%5B43.43918%2C%20-83.94752%5D%2C%20%5B35.272940000000006%2C%20-80.88511%5D%2C%20%5B33.789833%2C%20-118.207746%5D%2C%20%5B34.268513%2C%20-118.43511699999999%5D%2C%20%5B34.801665%2C%20-82.42779399999999%5D%2C%20%5B33.876979999999996%2C%20-118.18327%5D%2C%20%5B45.094279%2C%20-93.29%5D%2C%20%5B38.12863%2C%20-77.51318%5D%2C%20%5B34.152144%2C%20-118.150577%5D%2C%20%5B37.31909%2C%20-121.99186999999999%5D%2C%20%5B38.581628%2C%20-121.415314%5D%2C%20%5B39.48332%2C%20-79.35075%5D%2C%20%5B33.538539%2C%20-112.11119199999999%5D%2C%20%5B33.881825%2C%20-117.268184%5D%2C%20%5B38.768578999999995%2C%20-121.329823%5D%2C%20%5B44.26979%2C%20-121.17155%5D%2C%20%5B42.929159999999996%2C%20-85.655641%5D%2C%20%5B41.486670000000004%2C%20-88.18858%5D%2C%20%5B36.97372%2C%20-119.330372%5D%2C%20%5B25.6872%2C%20-80.35146%5D%2C%20%5B35.01446%2C%20-85.27365999999999%5D%2C%20%5B35.376234000000004%2C%20-118.91416399999999%5D%2C%20%5B34.162151%2C%20-118.15855%5D%2C%20%5B33.88201%2C%20-84.47202%5D%2C%20%5B41.45071%2C%20-81.70174%5D%2C%20%5B37.887277000000005%2C%20-79.282709%5D%2C%20%5B40.769793%2C%20-74.026201%5D%2C%20%5B40.060790000000004%2C%20-76.27668%5D%2C%20%5B37.65166%2C%20-122.09866399999999%5D%2C%20%5B26.20755%2C%20-80.13985%5D%2C%20%5B26.017109%2C%20-80.167415%5D%2C%20%5B40.556684000000004%2C%20-74.43506500000001%5D%2C%20%5B34.026474%2C%20-81.102112%5D%2C%20%5B38.752702%2C%20-121.54111699999999%5D%2C%20%5B33.766090000000005%2C%20-84.49851%5D%2C%20%5B39.044959999999996%2C%20-94.39095%5D%2C%20%5B33.837123%2C%20-117.296373%5D%2C%20%5B37.752501%2C%20-122.402997%5D%2C%20%5B43.16534%2C%20-77.85543%5D%2C%20%5B26.377009%2C%20-80.171022%5D%2C%20%5B33.753094%2C%20-83.852536%5D%2C%20%5B39.3815%2C%20-76.73791%5D%2C%20%5B40.737678%2C%20-74.077297%5D%2C%20%5B34.092397999999996%2C%20-117.670225%5D%2C%20%5B34.145596999999995%2C%20-117.305702%5D%2C%20%5B33.855888%2C%20-118.01124399999999%5D%2C%20%5B40.076997999999996%2C%20-75.11036%5D%2C%20%5B40.00385%2C%20-83.03035%5D%2C%20%5B30.29099%2C%20-81.52195%5D%2C%20%5B37.533869%2C%20-77.42241700000001%5D%2C%20%5B42.97788%2C%20-78.78246999999999%5D%2C%20%5B40.11334%2C%20-83.18175%5D%2C%20%5B38.977936%2C%20-76.713316%5D%2C%20%5B28.17125%2C%20-82.39228%5D%2C%20%5B35.086954%2C%20-85.2901%5D%2C%20%5B30.731147999999997%2C%20-85.185468%5D%2C%20%5B45.674296000000005%2C%20-118.841439%5D%2C%20%5B35.24185%2C%20-80.77953000000001%5D%2C%20%5B29.828570000000003%2C%20-95.38091%5D%2C%20%5B36.014362%2C%20-86.679153%5D%2C%20%5B40.38384%2C%20-122.347365%5D%2C%20%5B30.165218%2C%20-81.74767299999999%5D%2C%20%5B29.716632%2C%20-95.290274%5D%2C%20%5B27.9815%2C%20-82.40169%5D%2C%20%5B26.696637%2C%20-80.06995699999999%5D%2C%20%5B39.00642%2C%20-77.07101999999999%5D%2C%20%5B33.47033%2C%20-82.04912%5D%2C%20%5B34.04133%2C%20-118.06008%5D%2C%20%5B33.46223%2C%20-112.0477%5D%2C%20%5B45.034917%2C%20-93.087405%5D%2C%20%5B45.51549%2C%20-122.69965%5D%2C%20%5B25.565116%2C%20-80.478236%5D%2C%20%5B38.639879%2C%20-78.790165%5D%2C%20%5B37.116583%2C%20-121.62491499999999%5D%2C%20%5B38.646638%2C%20-121.37681599999999%5D%2C%20%5B36.59063%2C%20-119.57031599999999%5D%2C%20%5B39.01562%2C%20-77.002%5D%2C%20%5B34.12085%2C%20-117.87931999999999%5D%2C%20%5B35.565709999999996%2C%20-82.58928%5D%2C%20%5B29.368340000000003%2C%20-98.45069000000001%5D%2C%20%5B36.678587%2C%20-121.735082%5D%2C%20%5B37.667881%2C%20-121.035357%5D%2C%20%5B33.941182%2C%20-118.096502%5D%2C%20%5B44.97121%2C%20-93.37512%5D%2C%20%5B33.944984999999996%2C%20-84.51103499999999%5D%2C%20%5B33.758041999999996%2C%20-92.239521%5D%2C%20%5B45.29629%2C%20-93.78785%5D%2C%20%5B34.945555999999996%2C%20-118.932222%5D%2C%20%5B42.43077%2C%20-82.92419%5D%2C%20%5B45.53246%2C%20-122.565301%5D%2C%20%5B45.490342%2C%20-122.65341000000001%5D%2C%20%5B37.46175%2C%20-77.63297%5D%2C%20%5B40.73217%2C%20-73.91944000000001%5D%2C%20%5B33.688%2C%20-117.90768999999999%5D%2C%20%5B36.147890000000004%2C%20-95.86155%5D%2C%20%5B38.576764000000004%2C%20-121.495%5D%2C%20%5B33.424346%2C%20-81.685609%5D%2C%20%5B39.75894%2C%20-105.00748999999999%5D%2C%20%5B33.470690000000005%2C%20-111.88821000000002%5D%2C%20%5B33.7928%2C%20-118.20756999999999%5D%2C%20%5B34.123663%2C%20-118.001571%5D%2C%20%5B33.331144%2C%20-117.159089%5D%2C%20%5B39.096157%2C%20-94.567397%5D%2C%20%5B36.150587%2C%20-86.785522%5D%2C%20%5B34.03029%2C%20-117.70199%5D%2C%20%5B32.273920000000004%2C%20-90.16264%5D%2C%20%5B28.0933%2C%20-81.73055%5D%2C%20%5B38.168482%2C%20-120.10168999999999%5D%2C%20%5B47.605284000000005%2C%20-122.33946399999999%5D%2C%20%5B36.00513%2C%20-78.88492%5D%2C%20%5B29.81318%2C%20-95.33532%5D%2C%20%5B37.145716%2C%20-121.98504799999999%5D%2C%20%5B33.854225%2C%20-117.79065%5D%2C%20%5B44.096990000000005%2C%20-123.12996000000001%5D%2C%20%5B47.545361%2C%20-122.32964299999999%5D%2C%20%5B29.81318%2C%20-95.33532%5D%2C%20%5B44.954440000000005%2C%20-93.40084%5D%2C%20%5B41.103809999999996%2C%20-74.02162%5D%2C%20%5B37.500127%2C%20-121.92856599999999%5D%2C%20%5B38.684905%2C%20-121.339377%5D%2C%20%5B42.19356%2C%20-122.67154%5D%2C%20%5B38.661124%2C%20-121.364025%5D%2C%20%5B32.798403%2C%20-96.818866%5D%2C%20%5B29.818634000000003%2C%20-95.207945%5D%2C%20%5B38.024936%2C%20-112.71362099999999%5D%2C%20%5B33.195825%2C%20-117.367005%5D%2C%20%5B30.457421999999998%2C%20-91.175534%5D%2C%20%5B34.312321000000004%2C%20-117.346298%5D%2C%20%5B44.034240000000004%2C%20-116.95488%5D%2C%20%5B34.089923%2C%20-117.75033799999999%5D%2C%20%5B34.03758%2C%20-118.2824%5D%2C%20%5B47.54245%2C%20-122.30418999999999%5D%2C%20%5B28.567148%2C%20-81.375709%5D%2C%20%5B27.92322%2C%20-82.69838%5D%2C%20%5B25.834704000000002%2C%20-80.386801%5D%2C%20%5B35.21086%2C%20-80.85651%5D%2C%20%5B36.677222%2C%20-121.64111100000001%5D%2C%20%5B40.425964%2C%20-79.897373%5D%2C%20%5B39.3422%2C%20-76.39591%5D%2C%20%5B34.03011%2C%20-117.69388000000001%5D%2C%20%5B40.02694%2C%20-76.55613000000001%5D%2C%20%5B35.420718%2C%20-97.579171%5D%2C%20%5B37.607347999999995%2C%20-121.03043000000001%5D%2C%20%5B37.143406%2C%20-121.98493899999998%5D%2C%20%5B45.631859999999996%2C%20-93.9869%5D%2C%20%5B37.900774%2C%20-122.645472%5D%2C%20%5B35.1277%2C%20-89.86794%5D%2C%20%5B44.08832%2C%20-123.0464%5D%2C%20%5B41.68884%2C%20-88.16625%5D%2C%20%5B25.783739999999998%2C%20-80.26748%5D%2C%20%5B33.857490000000006%2C%20-84.31251%5D%2C%20%5B34.416340000000005%2C%20-119.69165%5D%2C%20%5B34.06654%2C%20-117.24928999999999%5D%2C%20%5B32.684785%2C%20-117.089423%5D%2C%20%5B33.13177%2C%20-117.10541%5D%2C%20%5B33.749359999999996%2C%20-84.34919000000001%5D%2C%20%5B44.739934999999996%2C%20-93.282899%5D%2C%20%5B35.639285%2C%20-117.88365%5D%2C%20%5B44.90227%2C%20-93.40151999999999%5D%2C%20%5B41.8521%2C%20-88.20297%5D%2C%20%5B42.36544%2C%20-83.1334%5D%2C%20%5B34.277998%2C%20-119.302221%5D%2C%20%5B29.10111%2C%20-81.02608000000001%5D%2C%20%5B26.10233%2C%20-80.21825%5D%2C%20%5B40.071329999999996%2C%20-74.95785%5D%2C%20%5B34.080711%2C%20-117.628468%5D%2C%20%5B34.15933%2C%20-118.46386000000001%5D%2C%20%5B26.09367%2C%20-80.36367%5D%2C%20%5B44.986509999999996%2C%20-93.40080999999999%5D%2C%20%5B40.255188000000004%2C%20-74.694711%5D%2C%20%5B39.79976%2C%20-105.03023%5D%2C%20%5B41.330870000000004%2C%20-75.73807%5D%2C%20%5B43.15035%2C%20-124.289915%5D%2C%20%5B30.412569%2C%20-84.283035%5D%2C%20%5B34.4886%2C%20-118.28648999999999%5D%2C%20%5B35.224148%2C%20-80.865806%5D%2C%20%5B39.12219%2C%20-76.86657%5D%2C%20%5B35.842098%2C%20-78.679322%5D%2C%20%5B41.795264%2C%20-123.33568400000001%5D%2C%20%5B39.72558%2C%20-105.058952%5D%2C%20%5B40.787354%2C%20-73.525947%5D%2C%20%5B38.62871%2C%20-90.316%5D%2C%20%5B39.778290000000005%2C%20-104.90746999999999%5D%2C%20%5B39.758833%2C%20-84.187164%5D%2C%20%5B32.6692%2C%20-97.31168000000001%5D%2C%20%5B34.081505%2C%20-118.225994%5D%2C%20%5B40.272431%2C%20-76.877314%5D%2C%20%5B34.036842%2C%20-118.293732%5D%2C%20%5B28.955090000000002%2C%20-80.95298000000001%5D%2C%20%5B34.14565%2C%20-118.75721999999999%5D%2C%20%5B33.008556%2C%20-96.829536%5D%2C%20%5B31.34647%2C%20-92.51096%5D%2C%20%5B37.778081%2C%20-122.40116499999999%5D%2C%20%5B34.25728%2C%20-118.47235%5D%2C%20%5B32.69314%2C%20-96.63573000000001%5D%2C%20%5B33.1246%2C%20-117.323669%5D%2C%20%5B32.19944%2C%20-110.90937%5D%2C%20%5B33.567040999999996%2C%20-84.53281%5D%2C%20%5B35.13007%2C%20-90.0791%5D%2C%20%5B35.221540000000005%2C%20-89.73971999999999%5D%2C%20%5B38.882425%2C%20-77.022444%5D%2C%20%5B28.670083%2C%20-81.842916%5D%2C%20%5B25.886454999999998%2C%20-80.21079499999999%5D%2C%20%5B25.847789000000002%2C%20-80.241867%5D%2C%20%5B42.457743%2C%20-87.90359000000001%5D%2C%20%5B38.993342999999996%2C%20-77.462464%5D%2C%20%5B36.14355%2C%20-86.7021%5D%2C%20%5B33.913668%2C%20-118.104754%5D%2C%20%5B32.794173%2C%20-96.69880699999999%5D%2C%20%5B29.774581%2C%20-82.188158%5D%2C%20%5B34.26697%2C%20-118.44388000000001%5D%2C%20%5B45.34329%2C%20-121.14215%5D%2C%20%5B39.08064%2C%20-77.07531999999999%5D%2C%20%5B33.846577%2C%20-118.215255%5D%2C%20%5B43.599039000000005%2C%20-116.52053400000001%5D%2C%20%5B41.838640000000005%2C%20-87.66502%5D%2C%20%5B41.06755%2C%20-81.57421%5D%2C%20%5B35.903681%2C%20-78.812397%5D%2C%20%5B33.889414%2C%20-118.104417%5D%2C%20%5B39.739424%2C%20-84.204914%5D%2C%20%5B33.54467%2C%20-83.20626%5D%2C%20%5B42.984922%2C%20-85.67880799999999%5D%2C%20%5B36.797429%2C%20-119.785449%5D%2C%20%5B34.185543%2C%20-82.10475100000001%5D%2C%20%5B35.01117%2C%20-85.27175%5D%2C%20%5B27.947457%2C%20-82.353887%5D%2C%20%5B33.721940000000004%2C%20-117.79874%5D%2C%20%5B39.0459%2C%20-94.41054%5D%2C%20%5B40.260884999999995%2C%20-75.323123%5D%2C%20%5B37.738690000000005%2C%20-121.59449%5D%2C%20%5B40.703959999999995%2C%20-111.93896000000001%5D%2C%20%5B33.968868%2C%20-118.23021299999999%5D%2C%20%5B37.344511%2C%20-120.61332800000001%5D%2C%20%5B35.373329999999996%2C%20-115.89438999999999%5D%2C%20%5B45.535693%2C%20-122.58715900000001%5D%2C%20%5B39.14948%2C%20-122.887896%5D%2C%20%5B35.160736%2C%20-80.862789%5D%2C%20%5B34.036846999999995%2C%20-118.270425%5D%2C%20%5B41.81731%2C%20-71.3981%5D%2C%20%5B32.83755%2C%20-97.10752%5D%2C%20%5B25.627093%2C%20-80.38489%5D%2C%20%5B41.755274%2C%20-87.94491%5D%2C%20%5B37.297781%2C%20-122.02917%5D%2C%20%5B34.054078000000004%2C%20-118.237857%5D%2C%20%5B36.758381%2C%20-76.349755%5D%2C%20%5B37.81608%2C%20-121.99347%5D%2C%20%5B40.735126%2C%20-111.489654%5D%2C%20%5B37.390456%2C%20-121.86955900000001%5D%2C%20%5B38.41299%2C%20-82.01305%5D%2C%20%5B36.13592%2C%20-79.86001%5D%2C%20%5B39.879020000000004%2C%20-86.20698%5D%2C%20%5B28.116602%2C%20-82.502397%5D%2C%20%5B35.3975%2C%20-119.395278%5D%2C%20%5B34.16823%2C%20-118.49723%5D%2C%20%5B40.73465%2C%20-74.1012%5D%2C%20%5B30.26278%2C%20-81.51881%5D%2C%20%5B35.270109999999995%2C%20-80.85417%5D%2C%20%5B32.177741999999995%2C%20-110.98522700000001%5D%2C%20%5B41.056459999999994%2C%20-74.06603%5D%2C%20%5B41.753347999999995%2C%20-85.585465%5D%2C%20%5B40.81116%2C%20-73.93122%5D%2C%20%5B34.04507%2C%20-118.2709%5D%2C%20%5B34.033305%2C%20-118.187762%5D%2C%20%5B37.998126%2C%20-121.81113300000001%5D%2C%20%5B40.498059000000005%2C%20-85.549065%5D%2C%20%5B28.308529999999998%2C%20-82.66607900000001%5D%2C%20%5B38.852584%2C%20-76.857896%5D%2C%20%5B30.704287%2C%20-85.95687%5D%2C%20%5B40.140657%2C%20-74.716989%5D%2C%20%5B33.765186%2C%20-79.137778%5D%2C%20%5B33.708575%2C%20-117.95843400000001%5D%2C%20%5B27.099190000000004%2C%20-82.20801999999999%5D%2C%20%5B33.830863%2C%20-117.83430200000001%5D%2C%20%5B32.77305%2C%20-117.04331%5D%2C%20%5B32.693309%2C%20-96.845097%5D%2C%20%5B34.112375%2C%20-80.894257%5D%2C%20%5B34.063764%2C%20-117.820118%5D%2C%20%5B32.799023999999996%2C%20-96.815678%5D%2C%20%5B39.604040999999995%2C%20-76.31196899999999%5D%2C%20%5B42.860548%2C%20-83.73971800000001%5D%2C%20%5B32.62927%2C%20-117.0958%5D%2C%20%5B42.408138%2C%20-122.176305%5D%2C%20%5B47.66186%2C%20-122.37621000000001%5D%2C%20%5B37.752501%2C%20-122.402997%5D%2C%20%5B37.557149%2C%20-77.291893%5D%2C%20%5B37.663808%2C%20-77.44904%5D%2C%20%5B30.241402%2C%20-82.63427800000001%5D%2C%20%5B38.51038%2C%20-121.46376000000001%5D%2C%20%5B42.347101%2C%20-87.902392%5D%2C%20%5B35.23981%2C%20-112.21869%5D%2C%20%5B39.96105%2C%20-75.18244%5D%2C%20%5B41.961040000000004%2C%20-87.69847%5D%2C%20%5B29.732779999999998%2C%20-95.376024%5D%2C%20%5B41.66783%2C%20-84.21037%5D%2C%20%5B41.122194%2C%20-111.76485100000001%5D%2C%20%5B30.4487%2C%20-91.1389%5D%2C%20%5B37.7182%2C%20-121.66403000000001%5D%2C%20%5B37.24299%2C%20-77.39446%5D%2C%20%5B41.73976%2C%20-72.62993%5D%2C%20%5B40.602837%2C%20-111.90423100000001%5D%2C%20%5B41.234959%2C%20-111.970171%5D%2C%20%5B33.743590000000005%2C%20-84.35876%5D%2C%20%5B44.723114%2C%20-121.18554499999999%5D%2C%20%5B45.280338%2C%20-120.021179%5D%2C%20%5B34.03326%2C%20-118.18463%5D%2C%20%5B42.749674%2C%20-95.551271%5D%2C%20%5B33.073251%2C%20-80.033826%5D%2C%20%5B39.99625%2C%20-104.98279%5D%2C%20%5B45.60123%2C%20-122.54051000000001%5D%2C%20%5B35.43203%2C%20-97.48605%5D%2C%20%5B34.437688%2C%20-118.2347%5D%2C%20%5B41.580222%2C%20-73.909031%5D%2C%20%5B33.839040000000004%2C%20-117.94798%5D%2C%20%5B36.75339%2C%20-119.72483999999999%5D%2C%20%5B43.15809%2C%20-77.62523%5D%2C%20%5B33.908582%2C%20-84.22896899999999%5D%2C%20%5B42.927611999999996%2C%20-85.66967%5D%2C%20%5B33.910918%2C%20-117.88372199999999%5D%2C%20%5B38.57436%2C%20-121.519442%5D%2C%20%5B34.037511%2C%20-118.03828100000001%5D%2C%20%5B41.53991%2C%20-73.95056%5D%2C%20%5B41.665831%2C%20-72.774027%5D%2C%20%5B40.455791999999995%2C%20-75.884579%5D%2C%20%5B47.991226%2C%20-122.871199%5D%2C%20%5B33.94577%2C%20-118.09436000000001%5D%2C%20%5B37.583101%2C%20-122.050132%5D%2C%20%5B33.8819%2C%20-117.58375%5D%2C%20%5B32.761803%2C%20-97.063477%5D%2C%20%5B38.88485%2C%20-104.72978%5D%2C%20%5B32.759370000000004%2C%20-117.20378999999998%5D%2C%20%5B29.989140000000003%2C%20-90.10212%5D%2C%20%5B37.3104%2C%20-121.96327%5D%2C%20%5B33.66792%2C%20-117.81773999999999%5D%2C%20%5B44.94849%2C%20-92.86918%5D%2C%20%5B33.87498%2C%20-117.54523%5D%2C%20%5B39.99734%2C%20-104.98218%5D%2C%20%5B33.86938%2C%20-117.75046%5D%2C%20%5B33.89594%2C%20-118.05102%5D%2C%20%5B29.864675%2C%20-95.429553%5D%2C%20%5B35.21759%2C%20-80.83407%5D%2C%20%5B32.700109999999995%2C%20-117.09495%5D%2C%20%5B34.132464%2C%20-117.951128%5D%2C%20%5B33.888798%2C%20-117.51241499999999%5D%2C%20%5B40.93031%2C%20-75.09736%5D%2C%20%5B45.443659999999994%2C%20-122.7772%5D%2C%20%5B38.85946%2C%20-77.06976999999999%5D%2C%20%5B25.81365%2C%20-80.20711999999999%5D%2C%20%5B28.01463%2C%20-82.73668%5D%2C%20%5B33.46298%2C%20-112.19538100000001%5D%2C%20%5B34.133457%2C%20-117.392334%5D%2C%20%5B40.087428%2C%20-75.12769499999999%5D%2C%20%5B35.24172%2C%20-80.84956%5D%2C%20%5B35.602%2C%20-97.54939%5D%2C%20%5B37.107708%2C%20-122.11151799999999%5D%2C%20%5B41.00164%2C%20-85.702539%5D%2C%20%5B35.384759%2C%20-120.629232%5D%2C%20%5B37.791986%2C%20-122.384274%5D%2C%20%5B25.9263%2C%20-80.24934%5D%2C%20%5B35.156040000000004%2C%20-90.15247%5D%2C%20%5B35.90555%2C%20-86.74409%5D%2C%20%5B28.693340000000003%2C%20-81.38875999999999%5D%2C%20%5B33.877010999999996%2C%20-118.13395200000001%5D%2C%20%5B32.46348%2C%20-96.84236%5D%2C%20%5B33.898276%2C%20-80.875923%5D%2C%20%5B35.23048%2C%20-80.94518000000001%5D%2C%20%5B33.82425%2C%20-118.20668%5D%2C%20%5B33.949675%2C%20-118.170308%5D%2C%20%5B35.202940000000005%2C%20-80.73888000000001%5D%2C%20%5B33.853%2C%20-118.28025%5D%2C%20%5B35.10228%2C%20-81.63731%5D%2C%20%5B31.78016%2C%20-106.39631000000001%5D%2C%20%5B45.440490000000004%2C%20-118.37077%5D%2C%20%5B34.433820000000004%2C%20-118.38893999999999%5D%2C%20%5B34.15205%2C%20-118.12751000000002%5D%2C%20%5B35.402111%2C%20-119.0416%5D%2C%20%5B41.296409999999995%2C%20-73.89532%5D%2C%20%5B34.85303%2C%20-82.23243000000001%5D%2C%20%5B34.149158%2C%20-118.156219%5D%2C%20%5B32.423621999999995%2C%20-93.694451%5D%2C%20%5B40.345420000000004%2C%20-79.57064%5D%2C%20%5B33.760401%2C%20-78.969812%5D%2C%20%5B34.066421999999996%2C%20-117.990881%5D%2C%20%5B40.076504%2C%20-74.964576%5D%2C%20%5B39.756240000000005%2C%20-86.1941%5D%2C%20%5B33.931006%2C%20-118.38378999999999%5D%2C%20%5B33.928931%2C%20-118.28107299999999%5D%2C%20%5B43.21617%2C%20-89.36013%5D%2C%20%5B47.45863%2C%20-122.26462%5D%2C%20%5B31.751459999999998%2C%20-106.3019%5D%2C%20%5B41.81426%2C%20-71.43965%5D%2C%20%5B29.992815000000004%2C%20-90.048869%5D%2C%20%5B29.78476%2C%20-95.53535%5D%2C%20%5B45.62053%2C%20-117.69923%5D%2C%20%5B34.846142%2C%20-82.459737%5D%2C%20%5B39.9131%2C%20-75.14853000000001%5D%2C%20%5B40.967729999999996%2C%20-73.87108%5D%2C%20%5B44.58324%2C%20-117.45707%5D%2C%20%5B38.912490999999996%2C%20-77.218055%5D%2C%20%5B28.379585%2C%20-81.376677%5D%2C%20%5B40.750040000000006%2C%20-74.16991%5D%2C%20%5B40.24388%2C%20-111.18628799999999%5D%2C%20%5B25.871368%2C%20-80.25120799999999%5D%2C%20%5B40.859359999999995%2C%20-74.37356%5D%2C%20%5B38.618396999999995%2C%20-90.190887%5D%2C%20%5B32.14591%2C%20-110.9092%5D%2C%20%5B39.4393%2C%20-77.405979%5D%2C%20%5B38.96269%2C%20-76.86719000000001%5D%2C%20%5B34.027583%2C%20-118.45241100000001%5D%2C%20%5B37.334134000000006%2C%20-121.86121299999999%5D%2C%20%5B40.64355%2C%20-74.20971999999999%5D%2C%20%5B30.50644%2C%20-87.16335%5D%2C%20%5B29.677259999999997%2C%20-95.15605%5D%2C%20%5B35.24317%2C%20-80.78009899999999%5D%2C%20%5B40.9307%2C%20-74.07061%5D%2C%20%5B45.919909999999994%2C%20-95.55885%5D%2C%20%5B40.268057%2C%20-74.509631%5D%2C%20%5B40.909749%2C%20-123.78575900000001%5D%2C%20%5B34.017553%2C%20-118.15481799999999%5D%2C%20%5B45.77652%2C%20-111.09859499999999%5D%2C%20%5B38.970889%2C%20-77.17911099999999%5D%2C%20%5B34.960232%2C%20-118.293793%5D%2C%20%5B40.213893%2C%20-78.177071%5D%2C%20%5B37.56188%2C%20-77.45425999999999%5D%2C%20%5B33.975153000000006%2C%20-118.383858%5D%2C%20%5B37.731378%2C%20-122.42523899999999%5D%2C%20%5B35.02843%2C%20-81.86913%5D%2C%20%5B45.42218%2C%20-122.74717%5D%2C%20%5B41.769535999999995%2C%20-72.666975%5D%2C%20%5B34.00248%2C%20-117.37936%5D%2C%20%5B44.16668%2C%20-93.94899000000001%5D%2C%20%5B34.02637%2C%20-118.14408999999999%5D%2C%20%5B25.685198%2C%20-80.418289%5D%2C%20%5B29.706979999999998%2C%20-95.23271%5D%2C%20%5B47.97651%2C%20-122.20998%5D%2C%20%5B42.19683%2C%20-87.88625%5D%2C%20%5B35.121382000000004%2C%20-82.645273%5D%2C%20%5B26.640903%2C%20-81.821027%5D%2C%20%5B30.4164%2C%20-91.06993%5D%2C%20%5B39.77983%2C%20-104.99207%5D%2C%20%5B39.97957%2C%20-77.23526%5D%2C%20%5B46.208103%2C%20-92.84136%5D%2C%20%5B26.61341%2C%20-80.068784%5D%2C%20%5B34.061331%2C%20-80.500159%5D%2C%20%5B45.536528000000004%2C%20-112.699398%5D%2C%20%5B37.695457%2C%20-122.07379399999999%5D%2C%20%5B37.963399%2C%20-122.292832%5D%2C%20%5B30.438653000000002%2C%20-84.125671%5D%2C%20%5B45.525215%2C%20-122.662158%5D%2C%20%5B40.717645000000005%2C%20-112.09553100000001%5D%2C%20%5B45.32574%2C%20-94.61676%5D%2C%20%5B33.718345%2C%20-117.79307%5D%2C%20%5B28.678119%2C%20-82.137135%5D%2C%20%5B33.34356%2C%20-111.89334%5D%2C%20%5B28.551923%2C%20-81.490237%5D%2C%20%5B45.04058%2C%20-93.40071%5D%2C%20%5B27.838781%2C%20-82.787139%5D%2C%20%5B39.14853%2C%20-94.55986999999999%5D%2C%20%5B39.76455%2C%20-105.00165%5D%2C%20%5B27.950602000000003%2C%20-82.533727%5D%2C%20%5B38.660940000000004%2C%20-121.35778%5D%2C%20%5B45.07598%2C%20-93.32973%5D%2C%20%5B47.302762%2C%20-122.25625600000001%5D%2C%20%5B34.049242%2C%20-118.18903%5D%2C%20%5B40.756412%2C%20-74.201477%5D%2C%20%5B43.972146%2C%20-75.971901%5D%2C%20%5B47.476436%2C%20-122.792153%5D%2C%20%5B29.620797999999997%2C%20-95.51025200000001%5D%2C%20%5B38.243508%2C%20-85.813632%5D%2C%20%5B29.809857%2C%20-95.412386%5D%2C%20%5B41.88173%2C%20-87.75267%5D%2C%20%5B34.144337%2C%20-118.60771399999999%5D%2C%20%5B32.74289%2C%20-117.01688999999999%5D%2C%20%5B37.51194%2C%20-122.34938999999999%5D%2C%20%5B47.566546%2C%20-122.10125%5D%2C%20%5B37.824803%2C%20-122.31382099999999%5D%2C%20%5B42.380615999999996%2C%20-83.529258%5D%2C%20%5B25.970660000000002%2C%20-80.194291%5D%2C%20%5B41.21346%2C%20-96.09102%5D%2C%20%5B40.73938%2C%20-73.8461%5D%2C%20%5B34.08599%2C%20-84.52950200000001%5D%2C%20%5B35.964319%2C%20-119.28958100000001%5D%2C%20%5B33.50926%2C%20-112.065%5D%2C%20%5B40.809329999999996%2C%20-73.21189%5D%2C%20%5B40.554113%2C%20-123.181983%5D%2C%20%5B39.430701%2C%20-87.41068%5D%2C%20%5B34.05125%2C%20-118.00588%5D%2C%20%5B41.75285%2C%20-72.64535%5D%2C%20%5B28.314512%2C%20-81.648466%5D%2C%20%5B35.155272%2C%20-85.33084000000001%5D%2C%20%5B39.38711%2C%20-76.52724%5D%2C%20%5B33.507690000000004%2C%20-112.26978000000001%5D%2C%20%5B35.20625%2C%20-80.79549%5D%2C%20%5B40.680620000000005%2C%20-73.80455%5D%2C%20%5B38.201209999999996%2C%20-120.692741%5D%2C%20%5B33.34987%2C%20-111.80701%5D%2C%20%5B36.677631%2C%20-80.711499%5D%2C%20%5B33.77758%2C%20-84.39076%5D%2C%20%5B29.732142%2C%20-95.26633100000001%5D%2C%20%5B28.618128999999996%2C%20-81.499382%5D%2C%20%5B27.155939%2C%20-80.388153%5D%2C%20%5B29.523729%2C%20-98.574315%5D%2C%20%5B43.056251%2C%20-83.656631%5D%2C%20%5B42.98535%2C%20-71.47145%5D%2C%20%5B34.223924%2C%20-117.239278%5D%2C%20%5B35.65552%2C%20-78.6663%5D%2C%20%5B30.339634999999998%2C%20-81.668318%5D%2C%20%5B39.485824%2C%20-76.238508%5D%2C%20%5B41.858509999999995%2C%20-74.58145999999999%5D%2C%20%5B34.12151%2C%20-117.91105%5D%2C%20%5B39.963961%2C%20-75.18451800000001%5D%2C%20%5B34.274640000000005%2C%20-118.4934%5D%2C%20%5B34.160073%2C%20-118.469604%5D%2C%20%5B43.908351%2C%20-121.355828%5D%2C%20%5B40.544146999999995%2C%20-111.943001%5D%2C%20%5B41.984790000000004%2C%20-87.86346%5D%2C%20%5B45.47685%2C%20-122.39674%5D%2C%20%5B33.905952%2C%20-118.274002%5D%2C%20%5B35.463640000000005%2C%20-97.57746%5D%2C%20%5B35.381799%2C%20-120.63139299999999%5D%2C%20%5B37.032922%2C%20-121.52765%5D%2C%20%5B27.22573%2C%20-82.49306%5D%2C%20%5B43.336644%2C%20-124.198333%5D%2C%20%5B29.672926%2C%20-95.38161%5D%2C%20%5B32.337485%2C%20-111.04783400000001%5D%2C%20%5B38.495482%2C%20-77.383779%5D%2C%20%5B37.741723%2C%20-121.57419399999999%5D%2C%20%5B40.356658%2C%20-80.119642%5D%2C%20%5B34.024912%2C%20-117.73146200000001%5D%2C%20%5B40.85306%2C%20-73.96011%5D%2C%20%5B33.98887%2C%20-118.06504299999999%5D%2C%20%5B30.015259999999998%2C%20-95.42808000000001%5D%2C%20%5B39.325851%2C%20-76.526609%5D%2C%20%5B33.505679%2C%20-112.04413999999998%5D%2C%20%5B39.866584%2C%20-86.047314%5D%2C%20%5B39.65312%2C%20-76.23555%5D%2C%20%5B36.175671%2C%20-86.01660799999999%5D%2C%20%5B41.8523%2C%20-87.667087%5D%2C%20%5B35.12956%2C%20-80.94169000000001%5D%2C%20%5B33.55813%2C%20-88.19951400000001%5D%2C%20%5B32.965218%2C%20-96.917875%5D%2C%20%5B39.7504%2C%20-84.20561%5D%2C%20%5B42.39532%2C%20-82.98926%5D%2C%20%5B40.09681%2C%20-75.09176%5D%2C%20%5B38.595653000000006%2C%20-121.410725%5D%2C%20%5B33.977309000000005%2C%20-118.372234%5D%2C%20%5B27.92295%2C%20-82.40189000000001%5D%2C%20%5B40.14052%2C%20-75.16637%5D%2C%20%5B38.25046%2C%20-85.73852%5D%2C%20%5B36.706578%2C%20-119.853426%5D%2C%20%5B26.01126%2C%20-80.16728%5D%2C%20%5B37.375628999999996%2C%20-118.397521%5D%2C%20%5B27.98132%2C%20-82.48881%5D%2C%20%5B41.92807%2C%20-72.609022%5D%2C%20%5B38.890735%2C%20-77.211407%5D%2C%20%5B45.51549%2C%20-122.69966000000001%5D%2C%20%5B27.432013%2C%20-82.42822%5D%2C%20%5B42.627959999999995%2C%20-71.17895%5D%2C%20%5B46.158902000000005%2C%20-123.902948%5D%2C%20%5B40.554618%2C%20-112.29758899999999%5D%2C%20%5B37.07674%2C%20-121.98423999999999%5D%2C%20%5B29.754469%2C%20-95.62048%5D%2C%20%5B27.916789%2C%20-82.795514%5D%2C%20%5B34.028813%2C%20-117.575703%5D%2C%20%5B37.867152000000004%2C%20-121.638126%5D%2C%20%5B38.64281%2C%20-121.12187%5D%2C%20%5B38.602934000000005%2C%20-120.958582%5D%2C%20%5B29.947946999999996%2C%20-90.083674%5D%2C%20%5B37.588944%2C%20-121.87068400000001%5D%2C%20%5B41.50225%2C%20-81.66991999999999%5D%2C%20%5B42.353271%2C%20-122.877477%5D%2C%20%5B47.23483%2C%20-122.47200000000001%5D%2C%20%5B25.599355%2C%20-80.35394000000001%5D%2C%20%5B37.969034%2C%20-84.533311%5D%2C%20%5B30.441473%2C%20-91.01163199999999%5D%2C%20%5B35.872205%2C%20-78.718552%5D%2C%20%5B28.199991999999998%2C%20-82.64684799999999%5D%2C%20%5B39.41871%2C%20-76.5988%5D%2C%20%5B43.03082%2C%20-88.03473000000001%5D%2C%20%5B43.636234%2C%20-121.53169%5D%2C%20%5B34.266078%2C%20-118.472023%5D%2C%20%5B45.522354%2C%20-122.685731%5D%2C%20%5B38.189121%2C%20-85.509287%5D%2C%20%5B43.15729%2C%20-77.68876%5D%2C%20%5B40.659929999999996%2C%20-111.95277%5D%2C%20%5B26.331984000000002%2C%20-81.80611999999999%5D%2C%20%5B35.229040000000005%2C%20-80.91622%5D%2C%20%5B39.464171%2C%20-123.350702%5D%2C%20%5B45.39758%2C%20-122.57417%5D%2C%20%5B40.10637%2C%20-75.12411999999999%5D%2C%20%5B35.22437%2C%20-80.86529%5D%2C%20%5B41.82255%2C%20-72.66620999999999%5D%2C%20%5B37.10436%2C%20-121.97516999999999%5D%2C%20%5B27.032749%2C%20-82.163701%5D%2C%20%5B28.625529999999998%2C%20-81.4436%5D%2C%20%5B41.32345%2C%20-105.61535%5D%2C%20%5B41.990433%2C%20-88.156977%5D%2C%20%5B41.546698%2C%20-93.959144%5D%2C%20%5B38.87143%2C%20-104.71993%5D%2C%20%5B34.12015%2C%20-117.69986000000002%5D%2C%20%5B33.814963%2C%20-117.877196%5D%2C%20%5B40.356584000000005%2C%20-74.128842%5D%2C%20%5B44.608309999999996%2C%20-92.99492%5D%2C%20%5B30.429006%2C%20-83.452416%5D%2C%20%5B35.014582%2C%20-85.274236%5D%2C%20%5B33.879114%2C%20-118.346791%5D%2C%20%5B34.872479999999996%2C%20-82.32916999999999%5D%2C%20%5B41.09913%2C%20-81.49994000000001%5D%2C%20%5B42.25538%2C%20-85.53629000000001%5D%2C%20%5B36.561012%2C%20-119.612726%5D%2C%20%5B40.23275%2C%20-76.92665%5D%2C%20%5B37.59258%2C%20-122.05645%5D%2C%20%5B41.093416%2C%20-73.610414%5D%2C%20%5B29.518171000000002%2C%20-98.523877%5D%2C%20%5B34.06673%2C%20-117.23451999999999%5D%2C%20%5B30.440341999999998%2C%20-87.24890699999999%5D%2C%20%5B38.481739000000005%2C%20-90.358642%5D%2C%20%5B41.332529%2C%20-78.517774%5D%2C%20%5B35.53001%2C%20-97.51397%5D%2C%20%5B32.8172%2C%20-96.87116%5D%2C%20%5B43.122111%2C%20-83.79378100000001%5D%2C%20%5B28.51503%2C%20-81.28966%5D%2C%20%5B38.676583%2C%20-122.880524%5D%2C%20%5B28.443276%2C%20-81.40475500000001%5D%2C%20%5B37.47697%2C%20-121.93316999999999%5D%5D%2C%0A%20%20%20%20%20%20%20%20%20%20%20%20%20%20%20%20%7B%0A%20%20%20%20%20%20%20%20%20%20%20%20%20%20%20%20%20%20%20%20minOpacity%3A%200.5%2C%0A%20%20%20%20%20%20%20%20%20%20%20%20%20%20%20%20%20%20%20%20maxZoom%3A%2018%2C%0A%20%20%20%20%20%20%20%20%20%20%20%20%20%20%20%20%20%20%20%20max%3A%201.0%2C%0A%20%20%20%20%20%20%20%20%20%20%20%20%20%20%20%20%20%20%20%20radius%3A%2025%2C%0A%20%20%20%20%20%20%20%20%20%20%20%20%20%20%20%20%20%20%20%20blur%3A%2015%2C%0A%20%20%20%20%20%20%20%20%20%20%20%20%20%20%20%20%20%20%20%20gradient%3A%20null%0A%20%20%20%20%20%20%20%20%20%20%20%20%20%20%20%20%20%20%20%20%7D%29%0A%20%20%20%20%20%20%20%20%20%20%20%20%20%20%20%20.addTo%28map_ecad8b10410b41d5abe5f1c2f6d59654%29%3B%0A%20%20%20%20%20%20%20%20%0A%3C/script%3E onload=\"this.contentDocument.open();this.contentDocument.write(    decodeURIComponent(this.getAttribute('data-html')));this.contentDocument.close();\" allowfullscreen webkitallowfullscreen mozallowfullscreen></iframe></div></div>"
            ],
            "text/plain": [
              "<folium.folium.Map at 0x7fbc6b63c190>"
            ]
          },
          "metadata": {},
          "execution_count": 42
        }
      ]
    },
    {
      "cell_type": "markdown",
      "metadata": {
        "id": "Qj3AkmX4zpEX"
      },
      "source": [
        "### **Temperature**"
      ]
    },
    {
      "cell_type": "code",
      "metadata": {
        "colab": {
          "base_uri": "https://localhost:8080/"
        },
        "id": "YwwJdh-iAerH",
        "outputId": "cd57139a-842d-45b8-de0c-ebc584ec9bf4"
      },
      "source": [
        "df_2018.rename(columns={'Temperature(F)': 'Temperature'},inplace= True)\n",
        "df_2018.Temperature"
      ],
      "execution_count": null,
      "outputs": [
        {
          "output_type": "stream",
          "name": "stderr",
          "text": [
            "/usr/local/lib/python3.7/dist-packages/pandas/core/frame.py:4308: SettingWithCopyWarning:\n",
            "\n",
            "\n",
            "A value is trying to be set on a copy of a slice from a DataFrame\n",
            "\n",
            "See the caveats in the documentation: https://pandas.pydata.org/pandas-docs/stable/user_guide/indexing.html#returning-a-view-versus-a-copy\n",
            "\n"
          ]
        },
        {
          "output_type": "execute_result",
          "data": {
            "text/plain": [
              "743273     37.9\n",
              "743276     66.2\n",
              "743281     37.9\n",
              "743286     66.2\n",
              "1162757    51.8\n",
              "           ... \n",
              "1379180    60.8\n",
              "1379181    62.1\n",
              "1379182    62.1\n",
              "1379183    60.1\n",
              "1379184    60.1\n",
              "Name: Temperature, Length: 166936, dtype: float64"
            ]
          },
          "metadata": {},
          "execution_count": 43
        }
      ]
    },
    {
      "cell_type": "code",
      "metadata": {
        "colab": {
          "base_uri": "https://localhost:8080/",
          "height": 669
        },
        "id": "0HXgtAWYDFnD",
        "outputId": "c84271bd-74c9-4f5d-b234-e7e673c4d749"
      },
      "source": [
        "Temperaturewise = df_2018.groupby('Temperature')['ID'].count().reset_index().sort_values(by = \"ID\",ascending = False)\n",
        "                                                                                                                    \n",
        "Temperaturewise[0:20].sort_values(by = [\"Temperature\"] ,ascending = False)"
      ],
      "execution_count": null,
      "outputs": [
        {
          "output_type": "execute_result",
          "data": {
            "text/html": [
              "<div>\n",
              "<style scoped>\n",
              "    .dataframe tbody tr th:only-of-type {\n",
              "        vertical-align: middle;\n",
              "    }\n",
              "\n",
              "    .dataframe tbody tr th {\n",
              "        vertical-align: top;\n",
              "    }\n",
              "\n",
              "    .dataframe thead th {\n",
              "        text-align: right;\n",
              "    }\n",
              "</style>\n",
              "<table border=\"1\" class=\"dataframe\">\n",
              "  <thead>\n",
              "    <tr style=\"text-align: right;\">\n",
              "      <th></th>\n",
              "      <th>Temperature</th>\n",
              "      <th>ID</th>\n",
              "    </tr>\n",
              "  </thead>\n",
              "  <tbody>\n",
              "    <tr>\n",
              "      <th>491</th>\n",
              "      <td>77.0</td>\n",
              "      <td>3121</td>\n",
              "    </tr>\n",
              "    <tr>\n",
              "      <th>479</th>\n",
              "      <td>75.0</td>\n",
              "      <td>2403</td>\n",
              "    </tr>\n",
              "    <tr>\n",
              "      <th>472</th>\n",
              "      <td>73.9</td>\n",
              "      <td>2365</td>\n",
              "    </tr>\n",
              "    <tr>\n",
              "      <th>467</th>\n",
              "      <td>73.0</td>\n",
              "      <td>2515</td>\n",
              "    </tr>\n",
              "    <tr>\n",
              "      <th>461</th>\n",
              "      <td>72.0</td>\n",
              "      <td>2478</td>\n",
              "    </tr>\n",
              "    <tr>\n",
              "      <th>456</th>\n",
              "      <td>71.1</td>\n",
              "      <td>2356</td>\n",
              "    </tr>\n",
              "    <tr>\n",
              "      <th>449</th>\n",
              "      <td>70.0</td>\n",
              "      <td>2478</td>\n",
              "    </tr>\n",
              "    <tr>\n",
              "      <th>444</th>\n",
              "      <td>69.1</td>\n",
              "      <td>2171</td>\n",
              "    </tr>\n",
              "    <tr>\n",
              "      <th>437</th>\n",
              "      <td>68.0</td>\n",
              "      <td>3152</td>\n",
              "    </tr>\n",
              "    <tr>\n",
              "      <th>425</th>\n",
              "      <td>66.0</td>\n",
              "      <td>2328</td>\n",
              "    </tr>\n",
              "    <tr>\n",
              "      <th>418</th>\n",
              "      <td>64.9</td>\n",
              "      <td>2362</td>\n",
              "    </tr>\n",
              "    <tr>\n",
              "      <th>413</th>\n",
              "      <td>64.0</td>\n",
              "      <td>2305</td>\n",
              "    </tr>\n",
              "    <tr>\n",
              "      <th>407</th>\n",
              "      <td>63.0</td>\n",
              "      <td>2261</td>\n",
              "    </tr>\n",
              "    <tr>\n",
              "      <th>402</th>\n",
              "      <td>62.1</td>\n",
              "      <td>2227</td>\n",
              "    </tr>\n",
              "    <tr>\n",
              "      <th>395</th>\n",
              "      <td>61.0</td>\n",
              "      <td>2250</td>\n",
              "    </tr>\n",
              "    <tr>\n",
              "      <th>390</th>\n",
              "      <td>60.1</td>\n",
              "      <td>2195</td>\n",
              "    </tr>\n",
              "    <tr>\n",
              "      <th>383</th>\n",
              "      <td>59.0</td>\n",
              "      <td>3132</td>\n",
              "    </tr>\n",
              "    <tr>\n",
              "      <th>376</th>\n",
              "      <td>57.9</td>\n",
              "      <td>2137</td>\n",
              "    </tr>\n",
              "    <tr>\n",
              "      <th>371</th>\n",
              "      <td>57.0</td>\n",
              "      <td>2229</td>\n",
              "    </tr>\n",
              "    <tr>\n",
              "      <th>329</th>\n",
              "      <td>50.0</td>\n",
              "      <td>3012</td>\n",
              "    </tr>\n",
              "  </tbody>\n",
              "</table>\n",
              "</div>"
            ],
            "text/plain": [
              "     Temperature    ID\n",
              "491         77.0  3121\n",
              "479         75.0  2403\n",
              "472         73.9  2365\n",
              "467         73.0  2515\n",
              "461         72.0  2478\n",
              "456         71.1  2356\n",
              "449         70.0  2478\n",
              "444         69.1  2171\n",
              "437         68.0  3152\n",
              "425         66.0  2328\n",
              "418         64.9  2362\n",
              "413         64.0  2305\n",
              "407         63.0  2261\n",
              "402         62.1  2227\n",
              "395         61.0  2250\n",
              "390         60.1  2195\n",
              "383         59.0  3132\n",
              "376         57.9  2137\n",
              "371         57.0  2229\n",
              "329         50.0  3012"
            ]
          },
          "metadata": {},
          "execution_count": 44
        }
      ]
    },
    {
      "cell_type": "markdown",
      "metadata": {
        "id": "2flu0-QQZq2i"
      },
      "source": [
        "## **Summary and Conclusion**\n",
        "\n",
        "\n",
        "Insights:\n",
        "- No data from New York,houston,los angeles etc out of 19000+ cities 10658 are present in the data\n",
        "- The number of accidents per city decreases exponentially\n",
        "- Less than 3% of cities have more than 1000 yearly accidents.\n",
        "- Over 1100 cities have reported just one accident (need to investigate)\n",
        "- A high percentage of accidents happen is between 2-6pm.\n",
        "- Next highest percentage is 7-8am\n",
        "- accidents are more frequents on weekdays i.e Mon-Fri\n",
        "- Talking about Sundays, more accidents occur during evening hours i.e 5-7pm\n",
        "- Considering 2018 data, More number of accidents are occuring during winter month i.e october- janurary\n",
        "- 12 lakhs accidents report level 2 of severity\n"
      ]
    },
    {
      "cell_type": "markdown",
      "metadata": {
        "id": "B5psfc4H0TtC"
      },
      "source": [
        "## **answers of the  questions asked**\n",
        "\n",
        "1. Are there more accidents in warmer or colder areas?\n",
        "\n",
        "Answer:usually temp is between 50-77 degree(F) having 2000+ accidents. So we can say warmers areas are prone to more accidents.\n",
        "\n",
        "2. Does New York show up in the data? If yes, why is the count lower if this the most populated city.\n",
        "\n",
        "Answer: NO, New york doesn't show up in the data.\n",
        "\n",
        "3. Among the top 100 cities in number of accidents, which states do they belong to most frequently.\n",
        "\n",
        "Answer: CA\t448833 (CALIFORNIA) HAS MOST NO. OF ACCIDENTS.\n",
        "\n",
        "4. What time of the day are accidents most frequent in?\n",
        "\n",
        "ANSWER: A high percentage of accidents happen is between 2-6pm\n",
        "\n",
        "5. Which days of the week have the most accidents?\n",
        "\n",
        "Answer: accidents are more frequents on weekdays i.e Mon-Fri\n",
        "\n",
        "6. Which months have the most accidents?\n",
        "\n",
        "Answer: Considering 2018 data, More number of accidents are occuring during winter month i.e october- janurary.\n",
        "\n",
        "7. What is the trend of accidents year over year (decreasing/increasing?)\n",
        "\n",
        "Answer: can't be sure, as data is not accurate for 2016,2017,2020\n",
        "\n"
      ]
    },
    {
      "cell_type": "code",
      "metadata": {
        "id": "wFxxePNTYlOg"
      },
      "source": [
        " "
      ],
      "execution_count": null,
      "outputs": []
    }
  ]
}